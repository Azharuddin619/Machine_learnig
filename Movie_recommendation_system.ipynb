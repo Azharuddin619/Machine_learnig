{
  "nbformat": 4,
  "nbformat_minor": 0,
  "metadata": {
    "colab": {
      "provenance": [],
      "authorship_tag": "ABX9TyMER1h545mY7ZoSz9Y5VC1q",
      "include_colab_link": true
    },
    "kernelspec": {
      "name": "python3",
      "display_name": "Python 3"
    },
    "language_info": {
      "name": "python"
    }
  },
  "cells": [
    {
      "cell_type": "markdown",
      "metadata": {
        "id": "view-in-github",
        "colab_type": "text"
      },
      "source": [
        "<a href=\"https://colab.research.google.com/github/Azharuddin619/Machine_learning/blob/main/Movie_recommendation_system.ipynb\" target=\"_parent\"><img src=\"https://colab.research.google.com/assets/colab-badge.svg\" alt=\"Open In Colab\"/></a>"
      ]
    },
    {
      "cell_type": "markdown",
      "source": [
        "# **Movie Recommendation System**"
      ],
      "metadata": {
        "id": "SxpsER6b-CHC"
      }
    },
    {
      "cell_type": "markdown",
      "source": [
        "**Recommender System:** is a system that seeks to predict or filter preferences according to the user's choices. Recommender systems are utilized in a variety of areas including movies, music, news, books, research articles, search queries, social tags, and products in general. Recommender systems produce a list of recommendations in any of the two ways -\n",
        "\n",
        "**Collaborative filtering:** Collaborative filtering approaches build a model from the user's past behavior (i.e. items purchased or searched by the user) as well as similar decisions made by other users. This model is then used to predict items (or ratings for items) that users may have an interest in.\n",
        "\n",
        "**Content-based filtering:** Content-based filtering approaches uses a series of discrete characteristics of an item in order to recommend additional items with similar properties. Content-based filtering methods are totally based on a description of the item and a profile of the user's preferences. It recommends items based on the user's past preferences. Let's develop a basic recommendation system using Python and Pandas.\n",
        "\n",
        "Let's develop a basic recommendation system by suggesting items that are most similar to a particular item, in this case, movies. It just tells what movies/items are most similar to the user's movie choice."
      ],
      "metadata": {
        "id": "3rQXTm6Q-EiL"
      }
    },
    {
      "cell_type": "markdown",
      "source": [
        "# **Import Library**"
      ],
      "metadata": {
        "id": "kw2gFt4WAcQy"
      }
    },
    {
      "cell_type": "code",
      "source": [
        "import pandas as pd"
      ],
      "metadata": {
        "id": "slle8e_YAa57"
      },
      "execution_count": 1,
      "outputs": []
    },
    {
      "cell_type": "code",
      "source": [
        "import numpy as np"
      ],
      "metadata": {
        "id": "iMPZ7jjHBZYN"
      },
      "execution_count": 2,
      "outputs": []
    },
    {
      "cell_type": "markdown",
      "source": [
        "# **Import Dataset**"
      ],
      "metadata": {
        "id": "cd9xvT3KBdPv"
      }
    },
    {
      "cell_type": "code",
      "source": [
        "df = pd.read_csv('https://raw.githubusercontent.com/YBI-Foundation/Dataset/main/Movies%20Recommendation.csv')"
      ],
      "metadata": {
        "id": "WBNlpFQ6Bi2K"
      },
      "execution_count": 3,
      "outputs": []
    },
    {
      "cell_type": "code",
      "source": [
        "df.head()"
      ],
      "metadata": {
        "colab": {
          "base_uri": "https://localhost:8080/",
          "height": 716
        },
        "id": "P2IYDFw0Ct4s",
        "outputId": "ec09c009-01db-4b83-c06f-400e9fd002e8"
      },
      "execution_count": 4,
      "outputs": [
        {
          "output_type": "execute_result",
          "data": {
            "text/plain": [
              "   Movie_ID      Movie_Title                       Movie_Genre Movie_Language  \\\n",
              "0         1       Four Rooms                      Crime Comedy             en   \n",
              "1         2        Star Wars  Adventure Action Science Fiction             en   \n",
              "2         3     Finding Nemo                  Animation Family             en   \n",
              "3         4     Forrest Gump              Comedy Drama Romance             en   \n",
              "4         5  American Beauty                             Drama             en   \n",
              "\n",
              "   Movie_Budget  Movie_Popularity Movie_Release_Date  Movie_Revenue  \\\n",
              "0       4000000         22.876230         09-12-1995        4300000   \n",
              "1      11000000        126.393695         25-05-1977      775398007   \n",
              "2      94000000         85.688789         30-05-2003      940335536   \n",
              "3      55000000        138.133331         06-07-1994      677945399   \n",
              "4      15000000         80.878605         15-09-1999      356296601   \n",
              "\n",
              "   Movie_Runtime  Movie_Vote  ...  \\\n",
              "0           98.0         6.5  ...   \n",
              "1          121.0         8.1  ...   \n",
              "2          100.0         7.6  ...   \n",
              "3          142.0         8.2  ...   \n",
              "4          122.0         7.9  ...   \n",
              "\n",
              "                                      Movie_Homepage  \\\n",
              "0                                                NaN   \n",
              "1  http://www.starwars.com/films/star-wars-episod...   \n",
              "2              http://movies.disney.com/finding-nemo   \n",
              "3                                                NaN   \n",
              "4                      http://www.dreamworks.com/ab/   \n",
              "\n",
              "                                      Movie_Keywords  \\\n",
              "0          hotel new year's eve witch bet hotel room   \n",
              "1        android galaxy hermit death star lightsaber   \n",
              "2  father son relationship harbor underwater fish...   \n",
              "3  vietnam veteran hippie mentally disabled runni...   \n",
              "4  male nudity female nudity adultery midlife cri...   \n",
              "\n",
              "                                      Movie_Overview  \\\n",
              "0  It's Ted the Bellhop's first night on the job....   \n",
              "1  Princess Leia is captured and held hostage by ...   \n",
              "2  Nemo, an adventurous young clownfish, is unexp...   \n",
              "3  A man with a low IQ has accomplished great thi...   \n",
              "4  Lester Burnham, a depressed suburban father in...   \n",
              "\n",
              "                              Movie_Production_House  \\\n",
              "0  [{\"name\": \"Miramax Films\", \"id\": 14}, {\"name\":...   \n",
              "1  [{\"name\": \"Lucasfilm\", \"id\": 1}, {\"name\": \"Twe...   \n",
              "2     [{\"name\": \"Pixar Animation Studios\", \"id\": 3}]   \n",
              "3          [{\"name\": \"Paramount Pictures\", \"id\": 4}]   \n",
              "4  [{\"name\": \"DreamWorks SKG\", \"id\": 27}, {\"name\"...   \n",
              "\n",
              "                            Movie_Production_Country  \\\n",
              "0  [{\"iso_3166_1\": \"US\", \"name\": \"United States o...   \n",
              "1  [{\"iso_3166_1\": \"US\", \"name\": \"United States o...   \n",
              "2  [{\"iso_3166_1\": \"US\", \"name\": \"United States o...   \n",
              "3  [{\"iso_3166_1\": \"US\", \"name\": \"United States o...   \n",
              "4  [{\"iso_3166_1\": \"US\", \"name\": \"United States o...   \n",
              "\n",
              "                      Movie_Spoken_Language  \\\n",
              "0  [{\"iso_639_1\": \"en\", \"name\": \"English\"}]   \n",
              "1  [{\"iso_639_1\": \"en\", \"name\": \"English\"}]   \n",
              "2  [{\"iso_639_1\": \"en\", \"name\": \"English\"}]   \n",
              "3  [{\"iso_639_1\": \"en\", \"name\": \"English\"}]   \n",
              "4  [{\"iso_639_1\": \"en\", \"name\": \"English\"}]   \n",
              "\n",
              "                                       Movie_Tagline  \\\n",
              "0  Twelve outrageous guests. Four scandalous requ...   \n",
              "1       A long time ago in a galaxy far, far away...   \n",
              "2  There are 3.7 trillion fish in the ocean, they...   \n",
              "3  The world will never be the same, once you've ...   \n",
              "4                                       Look closer.   \n",
              "\n",
              "                                          Movie_Cast  \\\n",
              "0  Tim Roth Antonio Banderas Jennifer Beals Madon...   \n",
              "1  Mark Hamill Harrison Ford Carrie Fisher Peter ...   \n",
              "2  Albert Brooks Ellen DeGeneres Alexander Gould ...   \n",
              "3  Tom Hanks Robin Wright Gary Sinise Mykelti Wil...   \n",
              "4  Kevin Spacey Annette Bening Thora Birch Wes Be...   \n",
              "\n",
              "                                          Movie_Crew   Movie_Director  \n",
              "0  [{'name': 'Allison Anders', 'gender': 1, 'depa...   Allison Anders  \n",
              "1  [{'name': 'George Lucas', 'gender': 2, 'depart...     George Lucas  \n",
              "2  [{'name': 'Andrew Stanton', 'gender': 2, 'depa...   Andrew Stanton  \n",
              "3  [{'name': 'Alan Silvestri', 'gender': 2, 'depa...  Robert Zemeckis  \n",
              "4  [{'name': 'Thomas Newman', 'gender': 2, 'depar...       Sam Mendes  \n",
              "\n",
              "[5 rows x 21 columns]"
            ],
            "text/html": [
              "\n",
              "\n",
              "  <div id=\"df-19a78164-7eb6-4245-be7a-23916825faea\">\n",
              "    <div class=\"colab-df-container\">\n",
              "      <div>\n",
              "<style scoped>\n",
              "    .dataframe tbody tr th:only-of-type {\n",
              "        vertical-align: middle;\n",
              "    }\n",
              "\n",
              "    .dataframe tbody tr th {\n",
              "        vertical-align: top;\n",
              "    }\n",
              "\n",
              "    .dataframe thead th {\n",
              "        text-align: right;\n",
              "    }\n",
              "</style>\n",
              "<table border=\"1\" class=\"dataframe\">\n",
              "  <thead>\n",
              "    <tr style=\"text-align: right;\">\n",
              "      <th></th>\n",
              "      <th>Movie_ID</th>\n",
              "      <th>Movie_Title</th>\n",
              "      <th>Movie_Genre</th>\n",
              "      <th>Movie_Language</th>\n",
              "      <th>Movie_Budget</th>\n",
              "      <th>Movie_Popularity</th>\n",
              "      <th>Movie_Release_Date</th>\n",
              "      <th>Movie_Revenue</th>\n",
              "      <th>Movie_Runtime</th>\n",
              "      <th>Movie_Vote</th>\n",
              "      <th>...</th>\n",
              "      <th>Movie_Homepage</th>\n",
              "      <th>Movie_Keywords</th>\n",
              "      <th>Movie_Overview</th>\n",
              "      <th>Movie_Production_House</th>\n",
              "      <th>Movie_Production_Country</th>\n",
              "      <th>Movie_Spoken_Language</th>\n",
              "      <th>Movie_Tagline</th>\n",
              "      <th>Movie_Cast</th>\n",
              "      <th>Movie_Crew</th>\n",
              "      <th>Movie_Director</th>\n",
              "    </tr>\n",
              "  </thead>\n",
              "  <tbody>\n",
              "    <tr>\n",
              "      <th>0</th>\n",
              "      <td>1</td>\n",
              "      <td>Four Rooms</td>\n",
              "      <td>Crime Comedy</td>\n",
              "      <td>en</td>\n",
              "      <td>4000000</td>\n",
              "      <td>22.876230</td>\n",
              "      <td>09-12-1995</td>\n",
              "      <td>4300000</td>\n",
              "      <td>98.0</td>\n",
              "      <td>6.5</td>\n",
              "      <td>...</td>\n",
              "      <td>NaN</td>\n",
              "      <td>hotel new year's eve witch bet hotel room</td>\n",
              "      <td>It's Ted the Bellhop's first night on the job....</td>\n",
              "      <td>[{\"name\": \"Miramax Films\", \"id\": 14}, {\"name\":...</td>\n",
              "      <td>[{\"iso_3166_1\": \"US\", \"name\": \"United States o...</td>\n",
              "      <td>[{\"iso_639_1\": \"en\", \"name\": \"English\"}]</td>\n",
              "      <td>Twelve outrageous guests. Four scandalous requ...</td>\n",
              "      <td>Tim Roth Antonio Banderas Jennifer Beals Madon...</td>\n",
              "      <td>[{'name': 'Allison Anders', 'gender': 1, 'depa...</td>\n",
              "      <td>Allison Anders</td>\n",
              "    </tr>\n",
              "    <tr>\n",
              "      <th>1</th>\n",
              "      <td>2</td>\n",
              "      <td>Star Wars</td>\n",
              "      <td>Adventure Action Science Fiction</td>\n",
              "      <td>en</td>\n",
              "      <td>11000000</td>\n",
              "      <td>126.393695</td>\n",
              "      <td>25-05-1977</td>\n",
              "      <td>775398007</td>\n",
              "      <td>121.0</td>\n",
              "      <td>8.1</td>\n",
              "      <td>...</td>\n",
              "      <td>http://www.starwars.com/films/star-wars-episod...</td>\n",
              "      <td>android galaxy hermit death star lightsaber</td>\n",
              "      <td>Princess Leia is captured and held hostage by ...</td>\n",
              "      <td>[{\"name\": \"Lucasfilm\", \"id\": 1}, {\"name\": \"Twe...</td>\n",
              "      <td>[{\"iso_3166_1\": \"US\", \"name\": \"United States o...</td>\n",
              "      <td>[{\"iso_639_1\": \"en\", \"name\": \"English\"}]</td>\n",
              "      <td>A long time ago in a galaxy far, far away...</td>\n",
              "      <td>Mark Hamill Harrison Ford Carrie Fisher Peter ...</td>\n",
              "      <td>[{'name': 'George Lucas', 'gender': 2, 'depart...</td>\n",
              "      <td>George Lucas</td>\n",
              "    </tr>\n",
              "    <tr>\n",
              "      <th>2</th>\n",
              "      <td>3</td>\n",
              "      <td>Finding Nemo</td>\n",
              "      <td>Animation Family</td>\n",
              "      <td>en</td>\n",
              "      <td>94000000</td>\n",
              "      <td>85.688789</td>\n",
              "      <td>30-05-2003</td>\n",
              "      <td>940335536</td>\n",
              "      <td>100.0</td>\n",
              "      <td>7.6</td>\n",
              "      <td>...</td>\n",
              "      <td>http://movies.disney.com/finding-nemo</td>\n",
              "      <td>father son relationship harbor underwater fish...</td>\n",
              "      <td>Nemo, an adventurous young clownfish, is unexp...</td>\n",
              "      <td>[{\"name\": \"Pixar Animation Studios\", \"id\": 3}]</td>\n",
              "      <td>[{\"iso_3166_1\": \"US\", \"name\": \"United States o...</td>\n",
              "      <td>[{\"iso_639_1\": \"en\", \"name\": \"English\"}]</td>\n",
              "      <td>There are 3.7 trillion fish in the ocean, they...</td>\n",
              "      <td>Albert Brooks Ellen DeGeneres Alexander Gould ...</td>\n",
              "      <td>[{'name': 'Andrew Stanton', 'gender': 2, 'depa...</td>\n",
              "      <td>Andrew Stanton</td>\n",
              "    </tr>\n",
              "    <tr>\n",
              "      <th>3</th>\n",
              "      <td>4</td>\n",
              "      <td>Forrest Gump</td>\n",
              "      <td>Comedy Drama Romance</td>\n",
              "      <td>en</td>\n",
              "      <td>55000000</td>\n",
              "      <td>138.133331</td>\n",
              "      <td>06-07-1994</td>\n",
              "      <td>677945399</td>\n",
              "      <td>142.0</td>\n",
              "      <td>8.2</td>\n",
              "      <td>...</td>\n",
              "      <td>NaN</td>\n",
              "      <td>vietnam veteran hippie mentally disabled runni...</td>\n",
              "      <td>A man with a low IQ has accomplished great thi...</td>\n",
              "      <td>[{\"name\": \"Paramount Pictures\", \"id\": 4}]</td>\n",
              "      <td>[{\"iso_3166_1\": \"US\", \"name\": \"United States o...</td>\n",
              "      <td>[{\"iso_639_1\": \"en\", \"name\": \"English\"}]</td>\n",
              "      <td>The world will never be the same, once you've ...</td>\n",
              "      <td>Tom Hanks Robin Wright Gary Sinise Mykelti Wil...</td>\n",
              "      <td>[{'name': 'Alan Silvestri', 'gender': 2, 'depa...</td>\n",
              "      <td>Robert Zemeckis</td>\n",
              "    </tr>\n",
              "    <tr>\n",
              "      <th>4</th>\n",
              "      <td>5</td>\n",
              "      <td>American Beauty</td>\n",
              "      <td>Drama</td>\n",
              "      <td>en</td>\n",
              "      <td>15000000</td>\n",
              "      <td>80.878605</td>\n",
              "      <td>15-09-1999</td>\n",
              "      <td>356296601</td>\n",
              "      <td>122.0</td>\n",
              "      <td>7.9</td>\n",
              "      <td>...</td>\n",
              "      <td>http://www.dreamworks.com/ab/</td>\n",
              "      <td>male nudity female nudity adultery midlife cri...</td>\n",
              "      <td>Lester Burnham, a depressed suburban father in...</td>\n",
              "      <td>[{\"name\": \"DreamWorks SKG\", \"id\": 27}, {\"name\"...</td>\n",
              "      <td>[{\"iso_3166_1\": \"US\", \"name\": \"United States o...</td>\n",
              "      <td>[{\"iso_639_1\": \"en\", \"name\": \"English\"}]</td>\n",
              "      <td>Look closer.</td>\n",
              "      <td>Kevin Spacey Annette Bening Thora Birch Wes Be...</td>\n",
              "      <td>[{'name': 'Thomas Newman', 'gender': 2, 'depar...</td>\n",
              "      <td>Sam Mendes</td>\n",
              "    </tr>\n",
              "  </tbody>\n",
              "</table>\n",
              "<p>5 rows × 21 columns</p>\n",
              "</div>\n",
              "      <button class=\"colab-df-convert\" onclick=\"convertToInteractive('df-19a78164-7eb6-4245-be7a-23916825faea')\"\n",
              "              title=\"Convert this dataframe to an interactive table.\"\n",
              "              style=\"display:none;\">\n",
              "\n",
              "  <svg xmlns=\"http://www.w3.org/2000/svg\" height=\"24px\"viewBox=\"0 0 24 24\"\n",
              "       width=\"24px\">\n",
              "    <path d=\"M0 0h24v24H0V0z\" fill=\"none\"/>\n",
              "    <path d=\"M18.56 5.44l.94 2.06.94-2.06 2.06-.94-2.06-.94-.94-2.06-.94 2.06-2.06.94zm-11 1L8.5 8.5l.94-2.06 2.06-.94-2.06-.94L8.5 2.5l-.94 2.06-2.06.94zm10 10l.94 2.06.94-2.06 2.06-.94-2.06-.94-.94-2.06-.94 2.06-2.06.94z\"/><path d=\"M17.41 7.96l-1.37-1.37c-.4-.4-.92-.59-1.43-.59-.52 0-1.04.2-1.43.59L10.3 9.45l-7.72 7.72c-.78.78-.78 2.05 0 2.83L4 21.41c.39.39.9.59 1.41.59.51 0 1.02-.2 1.41-.59l7.78-7.78 2.81-2.81c.8-.78.8-2.07 0-2.86zM5.41 20L4 18.59l7.72-7.72 1.47 1.35L5.41 20z\"/>\n",
              "  </svg>\n",
              "      </button>\n",
              "\n",
              "\n",
              "\n",
              "    <div id=\"df-1c4502ac-b7bd-4d3d-a811-d79b971b3c4d\">\n",
              "      <button class=\"colab-df-quickchart\" onclick=\"quickchart('df-1c4502ac-b7bd-4d3d-a811-d79b971b3c4d')\"\n",
              "              title=\"Suggest charts.\"\n",
              "              style=\"display:none;\">\n",
              "\n",
              "<svg xmlns=\"http://www.w3.org/2000/svg\" height=\"24px\"viewBox=\"0 0 24 24\"\n",
              "     width=\"24px\">\n",
              "    <g>\n",
              "        <path d=\"M19 3H5c-1.1 0-2 .9-2 2v14c0 1.1.9 2 2 2h14c1.1 0 2-.9 2-2V5c0-1.1-.9-2-2-2zM9 17H7v-7h2v7zm4 0h-2V7h2v10zm4 0h-2v-4h2v4z\"/>\n",
              "    </g>\n",
              "</svg>\n",
              "      </button>\n",
              "    </div>\n",
              "\n",
              "<style>\n",
              "  .colab-df-quickchart {\n",
              "    background-color: #E8F0FE;\n",
              "    border: none;\n",
              "    border-radius: 50%;\n",
              "    cursor: pointer;\n",
              "    display: none;\n",
              "    fill: #1967D2;\n",
              "    height: 32px;\n",
              "    padding: 0 0 0 0;\n",
              "    width: 32px;\n",
              "  }\n",
              "\n",
              "  .colab-df-quickchart:hover {\n",
              "    background-color: #E2EBFA;\n",
              "    box-shadow: 0px 1px 2px rgba(60, 64, 67, 0.3), 0px 1px 3px 1px rgba(60, 64, 67, 0.15);\n",
              "    fill: #174EA6;\n",
              "  }\n",
              "\n",
              "  [theme=dark] .colab-df-quickchart {\n",
              "    background-color: #3B4455;\n",
              "    fill: #D2E3FC;\n",
              "  }\n",
              "\n",
              "  [theme=dark] .colab-df-quickchart:hover {\n",
              "    background-color: #434B5C;\n",
              "    box-shadow: 0px 1px 3px 1px rgba(0, 0, 0, 0.15);\n",
              "    filter: drop-shadow(0px 1px 2px rgba(0, 0, 0, 0.3));\n",
              "    fill: #FFFFFF;\n",
              "  }\n",
              "</style>\n",
              "\n",
              "    <script>\n",
              "      async function quickchart(key) {\n",
              "        const containerElement = document.querySelector('#' + key);\n",
              "        const charts = await google.colab.kernel.invokeFunction(\n",
              "            'suggestCharts', [key], {});\n",
              "      }\n",
              "    </script>\n",
              "\n",
              "      <script>\n",
              "\n",
              "function displayQuickchartButton(domScope) {\n",
              "  let quickchartButtonEl =\n",
              "    domScope.querySelector('#df-1c4502ac-b7bd-4d3d-a811-d79b971b3c4d button.colab-df-quickchart');\n",
              "  quickchartButtonEl.style.display =\n",
              "    google.colab.kernel.accessAllowed ? 'block' : 'none';\n",
              "}\n",
              "\n",
              "        displayQuickchartButton(document);\n",
              "      </script>\n",
              "      <style>\n",
              "    .colab-df-container {\n",
              "      display:flex;\n",
              "      flex-wrap:wrap;\n",
              "      gap: 12px;\n",
              "    }\n",
              "\n",
              "    .colab-df-convert {\n",
              "      background-color: #E8F0FE;\n",
              "      border: none;\n",
              "      border-radius: 50%;\n",
              "      cursor: pointer;\n",
              "      display: none;\n",
              "      fill: #1967D2;\n",
              "      height: 32px;\n",
              "      padding: 0 0 0 0;\n",
              "      width: 32px;\n",
              "    }\n",
              "\n",
              "    .colab-df-convert:hover {\n",
              "      background-color: #E2EBFA;\n",
              "      box-shadow: 0px 1px 2px rgba(60, 64, 67, 0.3), 0px 1px 3px 1px rgba(60, 64, 67, 0.15);\n",
              "      fill: #174EA6;\n",
              "    }\n",
              "\n",
              "    [theme=dark] .colab-df-convert {\n",
              "      background-color: #3B4455;\n",
              "      fill: #D2E3FC;\n",
              "    }\n",
              "\n",
              "    [theme=dark] .colab-df-convert:hover {\n",
              "      background-color: #434B5C;\n",
              "      box-shadow: 0px 1px 3px 1px rgba(0, 0, 0, 0.15);\n",
              "      filter: drop-shadow(0px 1px 2px rgba(0, 0, 0, 0.3));\n",
              "      fill: #FFFFFF;\n",
              "    }\n",
              "  </style>\n",
              "\n",
              "      <script>\n",
              "        const buttonEl =\n",
              "          document.querySelector('#df-19a78164-7eb6-4245-be7a-23916825faea button.colab-df-convert');\n",
              "        buttonEl.style.display =\n",
              "          google.colab.kernel.accessAllowed ? 'block' : 'none';\n",
              "\n",
              "        async function convertToInteractive(key) {\n",
              "          const element = document.querySelector('#df-19a78164-7eb6-4245-be7a-23916825faea');\n",
              "          const dataTable =\n",
              "            await google.colab.kernel.invokeFunction('convertToInteractive',\n",
              "                                                     [key], {});\n",
              "          if (!dataTable) return;\n",
              "\n",
              "          const docLinkHtml = 'Like what you see? Visit the ' +\n",
              "            '<a target=\"_blank\" href=https://colab.research.google.com/notebooks/data_table.ipynb>data table notebook</a>'\n",
              "            + ' to learn more about interactive tables.';\n",
              "          element.innerHTML = '';\n",
              "          dataTable['output_type'] = 'display_data';\n",
              "          await google.colab.output.renderOutput(dataTable, element);\n",
              "          const docLink = document.createElement('div');\n",
              "          docLink.innerHTML = docLinkHtml;\n",
              "          element.appendChild(docLink);\n",
              "        }\n",
              "      </script>\n",
              "    </div>\n",
              "  </div>\n"
            ]
          },
          "metadata": {},
          "execution_count": 4
        }
      ]
    },
    {
      "cell_type": "code",
      "source": [
        "df.info()"
      ],
      "metadata": {
        "colab": {
          "base_uri": "https://localhost:8080/"
        },
        "id": "q_871Zd2CwUz",
        "outputId": "ee493ffd-d5b1-417c-acaa-217442615907"
      },
      "execution_count": 5,
      "outputs": [
        {
          "output_type": "stream",
          "name": "stdout",
          "text": [
            "<class 'pandas.core.frame.DataFrame'>\n",
            "RangeIndex: 4760 entries, 0 to 4759\n",
            "Data columns (total 21 columns):\n",
            " #   Column                    Non-Null Count  Dtype  \n",
            "---  ------                    --------------  -----  \n",
            " 0   Movie_ID                  4760 non-null   int64  \n",
            " 1   Movie_Title               4760 non-null   object \n",
            " 2   Movie_Genre               4760 non-null   object \n",
            " 3   Movie_Language            4760 non-null   object \n",
            " 4   Movie_Budget              4760 non-null   int64  \n",
            " 5   Movie_Popularity          4760 non-null   float64\n",
            " 6   Movie_Release_Date        4760 non-null   object \n",
            " 7   Movie_Revenue             4760 non-null   int64  \n",
            " 8   Movie_Runtime             4758 non-null   float64\n",
            " 9   Movie_Vote                4760 non-null   float64\n",
            " 10  Movie_Vote_Count          4760 non-null   int64  \n",
            " 11  Movie_Homepage            1699 non-null   object \n",
            " 12  Movie_Keywords            4373 non-null   object \n",
            " 13  Movie_Overview            4757 non-null   object \n",
            " 14  Movie_Production_House    4760 non-null   object \n",
            " 15  Movie_Production_Country  4760 non-null   object \n",
            " 16  Movie_Spoken_Language     4760 non-null   object \n",
            " 17  Movie_Tagline             3942 non-null   object \n",
            " 18  Movie_Cast                4733 non-null   object \n",
            " 19  Movie_Crew                4760 non-null   object \n",
            " 20  Movie_Director            4738 non-null   object \n",
            "dtypes: float64(3), int64(4), object(14)\n",
            "memory usage: 781.1+ KB\n"
          ]
        }
      ]
    },
    {
      "cell_type": "code",
      "source": [
        "df.shape"
      ],
      "metadata": {
        "colab": {
          "base_uri": "https://localhost:8080/"
        },
        "id": "LcZS4x3ZC-jg",
        "outputId": "5d879573-bcab-4d58-d73f-b883e99de91b"
      },
      "execution_count": 7,
      "outputs": [
        {
          "output_type": "execute_result",
          "data": {
            "text/plain": [
              "(4760, 21)"
            ]
          },
          "metadata": {},
          "execution_count": 7
        }
      ]
    },
    {
      "cell_type": "code",
      "source": [
        "df.columns"
      ],
      "metadata": {
        "colab": {
          "base_uri": "https://localhost:8080/"
        },
        "id": "np15W1knDFcE",
        "outputId": "8e8542cf-19ac-4003-f321-b640eac9c1af"
      },
      "execution_count": 8,
      "outputs": [
        {
          "output_type": "execute_result",
          "data": {
            "text/plain": [
              "Index(['Movie_ID', 'Movie_Title', 'Movie_Genre', 'Movie_Language',\n",
              "       'Movie_Budget', 'Movie_Popularity', 'Movie_Release_Date',\n",
              "       'Movie_Revenue', 'Movie_Runtime', 'Movie_Vote', 'Movie_Vote_Count',\n",
              "       'Movie_Homepage', 'Movie_Keywords', 'Movie_Overview',\n",
              "       'Movie_Production_House', 'Movie_Production_Country',\n",
              "       'Movie_Spoken_Language', 'Movie_Tagline', 'Movie_Cast', 'Movie_Crew',\n",
              "       'Movie_Director'],\n",
              "      dtype='object')"
            ]
          },
          "metadata": {},
          "execution_count": 8
        }
      ]
    },
    {
      "cell_type": "markdown",
      "source": [
        "# **Get Feature Selection**"
      ],
      "metadata": {
        "id": "Zt51_CEYDQKB"
      }
    },
    {
      "cell_type": "code",
      "source": [
        "df_features = df[['Movie_Genre','Movie_Keywords','Movie_Tagline','Movie_Cast','Movie_Director']].fillna('')"
      ],
      "metadata": {
        "id": "K8GIO38NDNn9"
      },
      "execution_count": 9,
      "outputs": []
    },
    {
      "cell_type": "markdown",
      "source": [
        "Selected five existing features to recommend movies. It may vary from one project to another. Like one can project to another. Like one can add vote counts,budgets, language etc."
      ],
      "metadata": {
        "id": "hYd8SdABO2Bg"
      }
    },
    {
      "cell_type": "code",
      "source": [
        "df_features.shape"
      ],
      "metadata": {
        "colab": {
          "base_uri": "https://localhost:8080/"
        },
        "id": "O8HjuGI9OxN1",
        "outputId": "61d126eb-229b-413d-9cc7-3e56c283d622"
      },
      "execution_count": 10,
      "outputs": [
        {
          "output_type": "execute_result",
          "data": {
            "text/plain": [
              "(4760, 5)"
            ]
          },
          "metadata": {},
          "execution_count": 10
        }
      ]
    },
    {
      "cell_type": "code",
      "source": [
        "df_features"
      ],
      "metadata": {
        "colab": {
          "base_uri": "https://localhost:8080/",
          "height": 467
        },
        "id": "yzY7HXftPix7",
        "outputId": "0ffabea8-7c16-47b1-b331-083fc3169417"
      },
      "execution_count": 11,
      "outputs": [
        {
          "output_type": "execute_result",
          "data": {
            "text/plain": [
              "                           Movie_Genre  \\\n",
              "0                         Crime Comedy   \n",
              "1     Adventure Action Science Fiction   \n",
              "2                     Animation Family   \n",
              "3                 Comedy Drama Romance   \n",
              "4                                Drama   \n",
              "...                                ...   \n",
              "4755                            Horror   \n",
              "4756               Comedy Family Drama   \n",
              "4757                    Thriller Drama   \n",
              "4758                            Family   \n",
              "4759                       Documentary   \n",
              "\n",
              "                                         Movie_Keywords  \\\n",
              "0             hotel new year's eve witch bet hotel room   \n",
              "1           android galaxy hermit death star lightsaber   \n",
              "2     father son relationship harbor underwater fish...   \n",
              "3     vietnam veteran hippie mentally disabled runni...   \n",
              "4     male nudity female nudity adultery midlife cri...   \n",
              "...                                                 ...   \n",
              "4755                                                      \n",
              "4756                                                      \n",
              "4757                     christian film sex trafficking   \n",
              "4758                                                      \n",
              "4759  music actors legendary perfomer classic hollyw...   \n",
              "\n",
              "                                          Movie_Tagline  \\\n",
              "0     Twelve outrageous guests. Four scandalous requ...   \n",
              "1          A long time ago in a galaxy far, far away...   \n",
              "2     There are 3.7 trillion fish in the ocean, they...   \n",
              "3     The world will never be the same, once you've ...   \n",
              "4                                          Look closer.   \n",
              "...                                                 ...   \n",
              "4755                The hot spot where Satan's waitin'.   \n",
              "4756           It’s better to stand out than to fit in.   \n",
              "4757           She never knew it could happen to her...   \n",
              "4758                                                      \n",
              "4759                                                      \n",
              "\n",
              "                                             Movie_Cast     Movie_Director  \n",
              "0     Tim Roth Antonio Banderas Jennifer Beals Madon...     Allison Anders  \n",
              "1     Mark Hamill Harrison Ford Carrie Fisher Peter ...       George Lucas  \n",
              "2     Albert Brooks Ellen DeGeneres Alexander Gould ...     Andrew Stanton  \n",
              "3     Tom Hanks Robin Wright Gary Sinise Mykelti Wil...    Robert Zemeckis  \n",
              "4     Kevin Spacey Annette Bening Thora Birch Wes Be...         Sam Mendes  \n",
              "...                                                 ...                ...  \n",
              "4755  Lisa Hart Carroll Michael Des Barres Paul Drak...         Pece Dingo  \n",
              "4756  Roni Akurati Brighton Sharbino Jason Lee Anjul...       Frank Lotito  \n",
              "4757  Nicole Smolen Kim Baldwin Ariana Stephens Brys...       Jaco Booyens  \n",
              "4758                                                                        \n",
              "4759                                    Tony Oppedisano  Simon Napier-Bell  \n",
              "\n",
              "[4760 rows x 5 columns]"
            ],
            "text/html": [
              "\n",
              "\n",
              "  <div id=\"df-8d7f2ab8-ebdf-4665-9a1c-9a7f3556e38b\">\n",
              "    <div class=\"colab-df-container\">\n",
              "      <div>\n",
              "<style scoped>\n",
              "    .dataframe tbody tr th:only-of-type {\n",
              "        vertical-align: middle;\n",
              "    }\n",
              "\n",
              "    .dataframe tbody tr th {\n",
              "        vertical-align: top;\n",
              "    }\n",
              "\n",
              "    .dataframe thead th {\n",
              "        text-align: right;\n",
              "    }\n",
              "</style>\n",
              "<table border=\"1\" class=\"dataframe\">\n",
              "  <thead>\n",
              "    <tr style=\"text-align: right;\">\n",
              "      <th></th>\n",
              "      <th>Movie_Genre</th>\n",
              "      <th>Movie_Keywords</th>\n",
              "      <th>Movie_Tagline</th>\n",
              "      <th>Movie_Cast</th>\n",
              "      <th>Movie_Director</th>\n",
              "    </tr>\n",
              "  </thead>\n",
              "  <tbody>\n",
              "    <tr>\n",
              "      <th>0</th>\n",
              "      <td>Crime Comedy</td>\n",
              "      <td>hotel new year's eve witch bet hotel room</td>\n",
              "      <td>Twelve outrageous guests. Four scandalous requ...</td>\n",
              "      <td>Tim Roth Antonio Banderas Jennifer Beals Madon...</td>\n",
              "      <td>Allison Anders</td>\n",
              "    </tr>\n",
              "    <tr>\n",
              "      <th>1</th>\n",
              "      <td>Adventure Action Science Fiction</td>\n",
              "      <td>android galaxy hermit death star lightsaber</td>\n",
              "      <td>A long time ago in a galaxy far, far away...</td>\n",
              "      <td>Mark Hamill Harrison Ford Carrie Fisher Peter ...</td>\n",
              "      <td>George Lucas</td>\n",
              "    </tr>\n",
              "    <tr>\n",
              "      <th>2</th>\n",
              "      <td>Animation Family</td>\n",
              "      <td>father son relationship harbor underwater fish...</td>\n",
              "      <td>There are 3.7 trillion fish in the ocean, they...</td>\n",
              "      <td>Albert Brooks Ellen DeGeneres Alexander Gould ...</td>\n",
              "      <td>Andrew Stanton</td>\n",
              "    </tr>\n",
              "    <tr>\n",
              "      <th>3</th>\n",
              "      <td>Comedy Drama Romance</td>\n",
              "      <td>vietnam veteran hippie mentally disabled runni...</td>\n",
              "      <td>The world will never be the same, once you've ...</td>\n",
              "      <td>Tom Hanks Robin Wright Gary Sinise Mykelti Wil...</td>\n",
              "      <td>Robert Zemeckis</td>\n",
              "    </tr>\n",
              "    <tr>\n",
              "      <th>4</th>\n",
              "      <td>Drama</td>\n",
              "      <td>male nudity female nudity adultery midlife cri...</td>\n",
              "      <td>Look closer.</td>\n",
              "      <td>Kevin Spacey Annette Bening Thora Birch Wes Be...</td>\n",
              "      <td>Sam Mendes</td>\n",
              "    </tr>\n",
              "    <tr>\n",
              "      <th>...</th>\n",
              "      <td>...</td>\n",
              "      <td>...</td>\n",
              "      <td>...</td>\n",
              "      <td>...</td>\n",
              "      <td>...</td>\n",
              "    </tr>\n",
              "    <tr>\n",
              "      <th>4755</th>\n",
              "      <td>Horror</td>\n",
              "      <td></td>\n",
              "      <td>The hot spot where Satan's waitin'.</td>\n",
              "      <td>Lisa Hart Carroll Michael Des Barres Paul Drak...</td>\n",
              "      <td>Pece Dingo</td>\n",
              "    </tr>\n",
              "    <tr>\n",
              "      <th>4756</th>\n",
              "      <td>Comedy Family Drama</td>\n",
              "      <td></td>\n",
              "      <td>It’s better to stand out than to fit in.</td>\n",
              "      <td>Roni Akurati Brighton Sharbino Jason Lee Anjul...</td>\n",
              "      <td>Frank Lotito</td>\n",
              "    </tr>\n",
              "    <tr>\n",
              "      <th>4757</th>\n",
              "      <td>Thriller Drama</td>\n",
              "      <td>christian film sex trafficking</td>\n",
              "      <td>She never knew it could happen to her...</td>\n",
              "      <td>Nicole Smolen Kim Baldwin Ariana Stephens Brys...</td>\n",
              "      <td>Jaco Booyens</td>\n",
              "    </tr>\n",
              "    <tr>\n",
              "      <th>4758</th>\n",
              "      <td>Family</td>\n",
              "      <td></td>\n",
              "      <td></td>\n",
              "      <td></td>\n",
              "      <td></td>\n",
              "    </tr>\n",
              "    <tr>\n",
              "      <th>4759</th>\n",
              "      <td>Documentary</td>\n",
              "      <td>music actors legendary perfomer classic hollyw...</td>\n",
              "      <td></td>\n",
              "      <td>Tony Oppedisano</td>\n",
              "      <td>Simon Napier-Bell</td>\n",
              "    </tr>\n",
              "  </tbody>\n",
              "</table>\n",
              "<p>4760 rows × 5 columns</p>\n",
              "</div>\n",
              "      <button class=\"colab-df-convert\" onclick=\"convertToInteractive('df-8d7f2ab8-ebdf-4665-9a1c-9a7f3556e38b')\"\n",
              "              title=\"Convert this dataframe to an interactive table.\"\n",
              "              style=\"display:none;\">\n",
              "\n",
              "  <svg xmlns=\"http://www.w3.org/2000/svg\" height=\"24px\"viewBox=\"0 0 24 24\"\n",
              "       width=\"24px\">\n",
              "    <path d=\"M0 0h24v24H0V0z\" fill=\"none\"/>\n",
              "    <path d=\"M18.56 5.44l.94 2.06.94-2.06 2.06-.94-2.06-.94-.94-2.06-.94 2.06-2.06.94zm-11 1L8.5 8.5l.94-2.06 2.06-.94-2.06-.94L8.5 2.5l-.94 2.06-2.06.94zm10 10l.94 2.06.94-2.06 2.06-.94-2.06-.94-.94-2.06-.94 2.06-2.06.94z\"/><path d=\"M17.41 7.96l-1.37-1.37c-.4-.4-.92-.59-1.43-.59-.52 0-1.04.2-1.43.59L10.3 9.45l-7.72 7.72c-.78.78-.78 2.05 0 2.83L4 21.41c.39.39.9.59 1.41.59.51 0 1.02-.2 1.41-.59l7.78-7.78 2.81-2.81c.8-.78.8-2.07 0-2.86zM5.41 20L4 18.59l7.72-7.72 1.47 1.35L5.41 20z\"/>\n",
              "  </svg>\n",
              "      </button>\n",
              "\n",
              "\n",
              "\n",
              "    <div id=\"df-c5bc897e-feae-4fd2-beac-05c41af6d8be\">\n",
              "      <button class=\"colab-df-quickchart\" onclick=\"quickchart('df-c5bc897e-feae-4fd2-beac-05c41af6d8be')\"\n",
              "              title=\"Suggest charts.\"\n",
              "              style=\"display:none;\">\n",
              "\n",
              "<svg xmlns=\"http://www.w3.org/2000/svg\" height=\"24px\"viewBox=\"0 0 24 24\"\n",
              "     width=\"24px\">\n",
              "    <g>\n",
              "        <path d=\"M19 3H5c-1.1 0-2 .9-2 2v14c0 1.1.9 2 2 2h14c1.1 0 2-.9 2-2V5c0-1.1-.9-2-2-2zM9 17H7v-7h2v7zm4 0h-2V7h2v10zm4 0h-2v-4h2v4z\"/>\n",
              "    </g>\n",
              "</svg>\n",
              "      </button>\n",
              "    </div>\n",
              "\n",
              "<style>\n",
              "  .colab-df-quickchart {\n",
              "    background-color: #E8F0FE;\n",
              "    border: none;\n",
              "    border-radius: 50%;\n",
              "    cursor: pointer;\n",
              "    display: none;\n",
              "    fill: #1967D2;\n",
              "    height: 32px;\n",
              "    padding: 0 0 0 0;\n",
              "    width: 32px;\n",
              "  }\n",
              "\n",
              "  .colab-df-quickchart:hover {\n",
              "    background-color: #E2EBFA;\n",
              "    box-shadow: 0px 1px 2px rgba(60, 64, 67, 0.3), 0px 1px 3px 1px rgba(60, 64, 67, 0.15);\n",
              "    fill: #174EA6;\n",
              "  }\n",
              "\n",
              "  [theme=dark] .colab-df-quickchart {\n",
              "    background-color: #3B4455;\n",
              "    fill: #D2E3FC;\n",
              "  }\n",
              "\n",
              "  [theme=dark] .colab-df-quickchart:hover {\n",
              "    background-color: #434B5C;\n",
              "    box-shadow: 0px 1px 3px 1px rgba(0, 0, 0, 0.15);\n",
              "    filter: drop-shadow(0px 1px 2px rgba(0, 0, 0, 0.3));\n",
              "    fill: #FFFFFF;\n",
              "  }\n",
              "</style>\n",
              "\n",
              "    <script>\n",
              "      async function quickchart(key) {\n",
              "        const containerElement = document.querySelector('#' + key);\n",
              "        const charts = await google.colab.kernel.invokeFunction(\n",
              "            'suggestCharts', [key], {});\n",
              "      }\n",
              "    </script>\n",
              "\n",
              "      <script>\n",
              "\n",
              "function displayQuickchartButton(domScope) {\n",
              "  let quickchartButtonEl =\n",
              "    domScope.querySelector('#df-c5bc897e-feae-4fd2-beac-05c41af6d8be button.colab-df-quickchart');\n",
              "  quickchartButtonEl.style.display =\n",
              "    google.colab.kernel.accessAllowed ? 'block' : 'none';\n",
              "}\n",
              "\n",
              "        displayQuickchartButton(document);\n",
              "      </script>\n",
              "      <style>\n",
              "    .colab-df-container {\n",
              "      display:flex;\n",
              "      flex-wrap:wrap;\n",
              "      gap: 12px;\n",
              "    }\n",
              "\n",
              "    .colab-df-convert {\n",
              "      background-color: #E8F0FE;\n",
              "      border: none;\n",
              "      border-radius: 50%;\n",
              "      cursor: pointer;\n",
              "      display: none;\n",
              "      fill: #1967D2;\n",
              "      height: 32px;\n",
              "      padding: 0 0 0 0;\n",
              "      width: 32px;\n",
              "    }\n",
              "\n",
              "    .colab-df-convert:hover {\n",
              "      background-color: #E2EBFA;\n",
              "      box-shadow: 0px 1px 2px rgba(60, 64, 67, 0.3), 0px 1px 3px 1px rgba(60, 64, 67, 0.15);\n",
              "      fill: #174EA6;\n",
              "    }\n",
              "\n",
              "    [theme=dark] .colab-df-convert {\n",
              "      background-color: #3B4455;\n",
              "      fill: #D2E3FC;\n",
              "    }\n",
              "\n",
              "    [theme=dark] .colab-df-convert:hover {\n",
              "      background-color: #434B5C;\n",
              "      box-shadow: 0px 1px 3px 1px rgba(0, 0, 0, 0.15);\n",
              "      filter: drop-shadow(0px 1px 2px rgba(0, 0, 0, 0.3));\n",
              "      fill: #FFFFFF;\n",
              "    }\n",
              "  </style>\n",
              "\n",
              "      <script>\n",
              "        const buttonEl =\n",
              "          document.querySelector('#df-8d7f2ab8-ebdf-4665-9a1c-9a7f3556e38b button.colab-df-convert');\n",
              "        buttonEl.style.display =\n",
              "          google.colab.kernel.accessAllowed ? 'block' : 'none';\n",
              "\n",
              "        async function convertToInteractive(key) {\n",
              "          const element = document.querySelector('#df-8d7f2ab8-ebdf-4665-9a1c-9a7f3556e38b');\n",
              "          const dataTable =\n",
              "            await google.colab.kernel.invokeFunction('convertToInteractive',\n",
              "                                                     [key], {});\n",
              "          if (!dataTable) return;\n",
              "\n",
              "          const docLinkHtml = 'Like what you see? Visit the ' +\n",
              "            '<a target=\"_blank\" href=https://colab.research.google.com/notebooks/data_table.ipynb>data table notebook</a>'\n",
              "            + ' to learn more about interactive tables.';\n",
              "          element.innerHTML = '';\n",
              "          dataTable['output_type'] = 'display_data';\n",
              "          await google.colab.output.renderOutput(dataTable, element);\n",
              "          const docLink = document.createElement('div');\n",
              "          docLink.innerHTML = docLinkHtml;\n",
              "          element.appendChild(docLink);\n",
              "        }\n",
              "      </script>\n",
              "    </div>\n",
              "  </div>\n"
            ]
          },
          "metadata": {},
          "execution_count": 11
        }
      ]
    },
    {
      "cell_type": "code",
      "source": [
        "X = df_features['Movie_Genre'] + ' ' + df_features['Movie_Keywords'] + ' ' + df_features['Movie_Tagline'] + ' ' + df_features['Movie_Cast'] + ' ' + df_features['Movie_Director']"
      ],
      "metadata": {
        "id": "IXqYq8KOPllj"
      },
      "execution_count": 13,
      "outputs": []
    },
    {
      "cell_type": "code",
      "source": [
        "X"
      ],
      "metadata": {
        "colab": {
          "base_uri": "https://localhost:8080/"
        },
        "id": "jpKvQU58QoRe",
        "outputId": "22d116e2-3d5f-4ae1-8f70-e94e03164d23"
      },
      "execution_count": 14,
      "outputs": [
        {
          "output_type": "execute_result",
          "data": {
            "text/plain": [
              "0       Crime Comedy hotel new year's eve witch bet ho...\n",
              "1       Adventure Action Science Fiction android galax...\n",
              "2       Animation Family father son relationship harbo...\n",
              "3       Comedy Drama Romance vietnam veteran hippie me...\n",
              "4       Drama male nudity female nudity adultery midli...\n",
              "                              ...                        \n",
              "4755    Horror  The hot spot where Satan's waitin'. Li...\n",
              "4756    Comedy Family Drama  It’s better to stand out ...\n",
              "4757    Thriller Drama christian film sex trafficking ...\n",
              "4758                                           Family    \n",
              "4759    Documentary music actors legendary perfomer cl...\n",
              "Length: 4760, dtype: object"
            ]
          },
          "metadata": {},
          "execution_count": 14
        }
      ]
    },
    {
      "cell_type": "code",
      "source": [
        "X.shape"
      ],
      "metadata": {
        "colab": {
          "base_uri": "https://localhost:8080/"
        },
        "id": "i2KbpYWdQtNx",
        "outputId": "60cacaa9-c6b6-44d2-aa7f-9781c4347405"
      },
      "execution_count": 15,
      "outputs": [
        {
          "output_type": "execute_result",
          "data": {
            "text/plain": [
              "(4760,)"
            ]
          },
          "metadata": {},
          "execution_count": 15
        }
      ]
    },
    {
      "cell_type": "markdown",
      "source": [
        "# **Get Feature Text Conversion to Tokens**"
      ],
      "metadata": {
        "id": "yRiwV-jaQ2O_"
      }
    },
    {
      "cell_type": "code",
      "source": [
        "from sklearn.feature_extraction.text import TfidfVectorizer"
      ],
      "metadata": {
        "id": "XHR2ev0PQ0W4"
      },
      "execution_count": 16,
      "outputs": []
    },
    {
      "cell_type": "code",
      "source": [
        "tfidf = TfidfVectorizer()"
      ],
      "metadata": {
        "id": "KnKxyoGzRGrY"
      },
      "execution_count": 17,
      "outputs": []
    },
    {
      "cell_type": "code",
      "source": [
        "X = tfidf.fit_transform(X)"
      ],
      "metadata": {
        "id": "P0tzKBjfRTD7"
      },
      "execution_count": 18,
      "outputs": []
    },
    {
      "cell_type": "code",
      "source": [
        "X.shape"
      ],
      "metadata": {
        "colab": {
          "base_uri": "https://localhost:8080/"
        },
        "id": "4_PNG3NTRYhN",
        "outputId": "6358e3cf-22de-42ed-ab01-22a66354cfee"
      },
      "execution_count": 19,
      "outputs": [
        {
          "output_type": "execute_result",
          "data": {
            "text/plain": [
              "(4760, 17258)"
            ]
          },
          "metadata": {},
          "execution_count": 19
        }
      ]
    },
    {
      "cell_type": "code",
      "source": [
        "print(X)"
      ],
      "metadata": {
        "colab": {
          "base_uri": "https://localhost:8080/"
        },
        "id": "DMvpin77RZqi",
        "outputId": "1ca42bc1-40ad-4aa2-f5bb-00076ac51429"
      },
      "execution_count": 20,
      "outputs": [
        {
          "output_type": "stream",
          "name": "stdout",
          "text": [
            "  (0, 617)\t0.1633382144407513\n",
            "  (0, 492)\t0.1432591540388685\n",
            "  (0, 15413)\t0.1465525095337543\n",
            "  (0, 9675)\t0.14226057295252661\n",
            "  (0, 9465)\t0.1659841367820977\n",
            "  (0, 1390)\t0.16898383612799558\n",
            "  (0, 7825)\t0.09799561597509843\n",
            "  (0, 1214)\t0.13865857545144072\n",
            "  (0, 729)\t0.13415063359531618\n",
            "  (0, 13093)\t0.1432591540388685\n",
            "  (0, 15355)\t0.10477815972666779\n",
            "  (0, 9048)\t0.0866842116160778\n",
            "  (0, 11161)\t0.06250380151644369\n",
            "  (0, 16773)\t0.17654247479915475\n",
            "  (0, 5612)\t0.08603537588547631\n",
            "  (0, 16735)\t0.10690083751525419\n",
            "  (0, 7904)\t0.13348000542112332\n",
            "  (0, 15219)\t0.09800472886453934\n",
            "  (0, 11242)\t0.07277788238484746\n",
            "  (0, 3878)\t0.11998399582562203\n",
            "  (0, 5499)\t0.11454057510303811\n",
            "  (0, 7071)\t0.19822417598406614\n",
            "  (0, 7454)\t0.14745635785412262\n",
            "  (0, 1495)\t0.19712637387361423\n",
            "  (0, 9206)\t0.15186283580984414\n",
            "  :\t:\n",
            "  (4757, 5455)\t0.12491480594769522\n",
            "  (4757, 2967)\t0.16273475835631626\n",
            "  (4757, 8464)\t0.23522565554066333\n",
            "  (4757, 6938)\t0.17088173678136628\n",
            "  (4757, 8379)\t0.17480603856721913\n",
            "  (4757, 15303)\t0.07654356007668191\n",
            "  (4757, 15384)\t0.09754322497537371\n",
            "  (4757, 7649)\t0.11479421494340192\n",
            "  (4757, 10896)\t0.14546473055066447\n",
            "  (4757, 4494)\t0.05675298448720501\n",
            "  (4758, 5238)\t1.0\n",
            "  (4759, 11264)\t0.33947721804318337\n",
            "  (4759, 11708)\t0.33947721804318337\n",
            "  (4759, 205)\t0.3237911628497312\n",
            "  (4759, 8902)\t0.3040290704566037\n",
            "  (4759, 14062)\t0.3237911628497312\n",
            "  (4759, 3058)\t0.2812896191863103\n",
            "  (4759, 7130)\t0.26419662449963793\n",
            "  (4759, 10761)\t0.3126617295732147\n",
            "  (4759, 4358)\t0.18306542312175342\n",
            "  (4759, 14051)\t0.20084315377640435\n",
            "  (4759, 5690)\t0.19534291014627303\n",
            "  (4759, 15431)\t0.19628653185946862\n",
            "  (4759, 1490)\t0.21197258705292082\n",
            "  (4759, 10666)\t0.15888268987343043\n"
          ]
        }
      ]
    },
    {
      "cell_type": "markdown",
      "source": [
        "# **Get Similarity Score using Cosine Similarity**"
      ],
      "metadata": {
        "id": "sHYlgj0CRka-"
      }
    },
    {
      "cell_type": "markdown",
      "source": [
        "cosine_similarity computes the L2-normalized dot product of vectors. Euclidean(L2) normalization projects the vectors onto the unit sphere and their dot product is then the cosine of the angle between the points denoted by the vectors."
      ],
      "metadata": {
        "id": "rwdDuAxhR2jK"
      }
    },
    {
      "cell_type": "code",
      "source": [
        "from sklearn.metrics.pairwise import cosine_similarity"
      ],
      "metadata": {
        "id": "fe5ac2GjRa4c"
      },
      "execution_count": 21,
      "outputs": []
    },
    {
      "cell_type": "code",
      "source": [
        "Similarity_Score = cosine_similarity(X)"
      ],
      "metadata": {
        "id": "83xlRQdCSiNL"
      },
      "execution_count": 24,
      "outputs": []
    },
    {
      "cell_type": "code",
      "source": [
        "Similarity_Score"
      ],
      "metadata": {
        "colab": {
          "base_uri": "https://localhost:8080/"
        },
        "id": "Bx-AndUeSqvA",
        "outputId": "f0421368-869b-4211-d490-5898e070fe82"
      },
      "execution_count": 25,
      "outputs": [
        {
          "output_type": "execute_result",
          "data": {
            "text/plain": [
              "array([[1.        , 0.01351235, 0.03570468, ..., 0.        , 0.        ,\n",
              "        0.        ],\n",
              "       [0.01351235, 1.        , 0.00806674, ..., 0.        , 0.        ,\n",
              "        0.        ],\n",
              "       [0.03570468, 0.00806674, 1.        , ..., 0.        , 0.08014876,\n",
              "        0.        ],\n",
              "       ...,\n",
              "       [0.        , 0.        , 0.        , ..., 1.        , 0.        ,\n",
              "        0.        ],\n",
              "       [0.        , 0.        , 0.08014876, ..., 0.        , 1.        ,\n",
              "        0.        ],\n",
              "       [0.        , 0.        , 0.        , ..., 0.        , 0.        ,\n",
              "        1.        ]])"
            ]
          },
          "metadata": {},
          "execution_count": 25
        }
      ]
    },
    {
      "cell_type": "code",
      "source": [
        "Similarity_Score.shape"
      ],
      "metadata": {
        "colab": {
          "base_uri": "https://localhost:8080/"
        },
        "id": "96p4JlW0Sy52",
        "outputId": "c49c9e15-2892-4804-b16b-d413bae814d6"
      },
      "execution_count": 26,
      "outputs": [
        {
          "output_type": "execute_result",
          "data": {
            "text/plain": [
              "(4760, 4760)"
            ]
          },
          "metadata": {},
          "execution_count": 26
        }
      ]
    },
    {
      "cell_type": "markdown",
      "source": [
        "# **Get Movie Name as Input from User and Validate for Closest Spelling**"
      ],
      "metadata": {
        "id": "uWGxiO4aS6Z7"
      }
    },
    {
      "cell_type": "code",
      "source": [
        "Favourite_Movie_Name = input('Enter your favourite movie name: ')"
      ],
      "metadata": {
        "colab": {
          "base_uri": "https://localhost:8080/"
        },
        "id": "GUiZKFYCS4m3",
        "outputId": "72fe91f0-8fcd-45b3-c006-1e09c2d59214"
      },
      "execution_count": 55,
      "outputs": [
        {
          "name": "stdout",
          "output_type": "stream",
          "text": [
            "Enter your favourite movie name: Fast and Furious\n"
          ]
        }
      ]
    },
    {
      "cell_type": "code",
      "source": [
        "All_Movies_Title_List = df['Movie_Title'].tolist()"
      ],
      "metadata": {
        "id": "rcgfzvHzTa3y"
      },
      "execution_count": 56,
      "outputs": []
    },
    {
      "cell_type": "code",
      "source": [
        "import difflib"
      ],
      "metadata": {
        "id": "TSu7bsFYTu49"
      },
      "execution_count": 57,
      "outputs": []
    },
    {
      "cell_type": "code",
      "source": [
        "Movie_Recommendation = difflib.get_close_matches(Favourite_Movie_Name, All_Movies_Title_List)\n",
        "print(Movie_Recommendation)"
      ],
      "metadata": {
        "colab": {
          "base_uri": "https://localhost:8080/"
        },
        "id": "3JRZbYpiTwhd",
        "outputId": "348ff573-e318-4900-8206-aaea74a1e902"
      },
      "execution_count": 58,
      "outputs": [
        {
          "output_type": "stream",
          "name": "stdout",
          "text": [
            "['2 Fast 2 Furious', 'The Fast and the Furious', 'The Fast and the Furious: Tokyo Drift']\n"
          ]
        }
      ]
    },
    {
      "cell_type": "code",
      "source": [
        "Close_Match = Movie_Recommendation[0]\n",
        "print(Close_Match)"
      ],
      "metadata": {
        "colab": {
          "base_uri": "https://localhost:8080/"
        },
        "id": "ROV7Z69bUKNg",
        "outputId": "70eb10c8-34af-4894-a342-ad7894037f29"
      },
      "execution_count": 60,
      "outputs": [
        {
          "output_type": "stream",
          "name": "stdout",
          "text": [
            "2 Fast 2 Furious\n"
          ]
        }
      ]
    },
    {
      "cell_type": "code",
      "source": [
        "Index_of_Close_Match_movie = df[df.Movie_Title == Close_Match]['Movie_ID'].values[0]\n",
        "print(Index_of_Close_Match_movie)"
      ],
      "metadata": {
        "colab": {
          "base_uri": "https://localhost:8080/"
        },
        "id": "ZLnmZ9VcWa5S",
        "outputId": "59fd9063-fde3-4cf7-9875-3c136087a962"
      },
      "execution_count": 62,
      "outputs": [
        {
          "output_type": "stream",
          "name": "stdout",
          "text": [
            "245\n"
          ]
        }
      ]
    },
    {
      "cell_type": "code",
      "source": [
        "# getting a list of similar movies\n",
        "Recommendation_Score = list(enumerate(Similarity_Score[Index_of_Close_Match_movie]))\n",
        "print(Recommendation_Score)"
      ],
      "metadata": {
        "colab": {
          "base_uri": "https://localhost:8080/"
        },
        "id": "HMsUweN7XYeb",
        "outputId": "3f52c787-2536-4887-9caf-d0652ca3dd99"
      },
      "execution_count": 63,
      "outputs": [
        {
          "output_type": "stream",
          "name": "stdout",
          "text": [
            "[(0, 0.002925241207659116), (1, 0.0), (2, 0.02146977549750966), (3, 0.0035784128206092676), (4, 0.0), (5, 0.0), (6, 0.0), (7, 0.0), (8, 0.0), (9, 0.04083305436739238), (10, 0.0), (11, 0.0), (12, 0.0), (13, 0.0), (14, 0.03481049008502566), (15, 0.0), (16, 0.0), (17, 0.033605024837590744), (18, 0.0), (19, 0.0), (20, 0.0), (21, 0.0), (22, 0.0040416840156221176), (23, 0.012553327428303854), (24, 0.0), (25, 0.0033671154777084166), (26, 0.0), (27, 0.0), (28, 0.06084247449511689), (29, 0.0), (30, 0.0), (31, 0.011329247096884284), (32, 0.0), (33, 0.0), (34, 0.0), (35, 0.00905846168504493), (36, 0.0), (37, 0.00896183796461799), (38, 0.015870808894332504), (39, 0.025183596091938282), (40, 0.07696026684908235), (41, 0.0), (42, 0.004163572601993006), (43, 0.0), (44, 0.0), (45, 0.01235712646644653), (46, 0.06103832092058575), (47, 0.0), (48, 0.02802420232778636), (49, 0.003945495901912994), (50, 0.10461942595113961), (51, 0.0), (52, 0.0), (53, 0.012337819425763417), (54, 0.0), (55, 0.0), (56, 0.0), (57, 0.013255028121644336), (58, 0.020980369401172014), (59, 0.062023918737262165), (60, 0.0034820184814370486), (61, 0.0), (62, 0.0), (63, 0.0), (64, 0.013460924642467514), (65, 0.011945871584715408), (66, 0.0), (67, 0.010923540350437886), (68, 0.0), (69, 0.013226928433656488), (70, 0.0), (71, 0.0), (72, 0.04279334509730468), (73, 0.11841411903099693), (74, 0.02704973907538201), (75, 0.010117888575047237), (76, 0.0), (77, 0.0), (78, 0.010125985091035808), (79, 0.012008790638108315), (80, 0.011037708474559982), (81, 0.011935487161460787), (82, 0.0030889143239511757), (83, 0.0), (84, 0.0), (85, 0.0), (86, 0.0035006636275452013), (87, 0.0), (88, 0.0), (89, 0.0), (90, 0.0), (91, 0.0340431754694124), (92, 0.0), (93, 0.0), (94, 0.0), (95, 0.0), (96, 0.0), (97, 0.0), (98, 0.0), (99, 0.0), (100, 0.0), (101, 0.0), (102, 0.013160798622740381), (103, 0.003525639173886957), (104, 0.0), (105, 0.0), (106, 0.0), (107, 0.0), (108, 0.0), (109, 0.01200985500993459), (110, 0.02979315943914394), (111, 0.009119503359806873), (112, 0.0), (113, 0.014767431400804835), (114, 0.004074373825239027), (115, 0.004162176708845621), (116, 0.0), (117, 0.008814069126134801), (118, 0.024720675496321124), (119, 0.0), (120, 0.00923007236816079), (121, 0.0), (122, 0.0), (123, 0.0), (124, 0.0), (125, 0.0), (126, 0.0), (127, 0.0), (128, 0.013363863775171483), (129, 0.020356240889904915), (130, 0.04005795562335829), (131, 0.0), (132, 0.0), (133, 0.0), (134, 0.004158186873372439), (135, 0.0), (136, 0.0), (137, 0.0), (138, 0.0), (139, 0.015581528217415916), (140, 0.0), (141, 0.06582084634820003), (142, 0.009966659576961795), (143, 0.0), (144, 0.0), (145, 0.0), (146, 0.04147912569962464), (147, 0.09664659205586505), (148, 0.0), (149, 0.0), (150, 0.0), (151, 0.0), (152, 0.0), (153, 0.015302864309251932), (154, 0.009214873194770172), (155, 0.0), (156, 0.003306700913276222), (157, 0.003876715070836785), (158, 0.0), (159, 0.0), (160, 0.008998269250896933), (161, 0.003658782482739092), (162, 0.0), (163, 0.007968531303547256), (164, 0.0), (165, 0.0), (166, 0.0), (167, 0.009483856238657159), (168, 0.0), (169, 0.003999245550991348), (170, 0.0), (171, 0.053019159034473136), (172, 0.0), (173, 0.0), (174, 0.0040206373455619095), (175, 0.0034371500127032416), (176, 0.0), (177, 0.021330535220912793), (178, 0.0), (179, 0.008602469480123318), (180, 0.0), (181, 0.0), (182, 0.004102960608821773), (183, 0.008207908573802273), (184, 0.0), (185, 0.036784795090059996), (186, 0.0), (187, 0.0), (188, 0.012935211432707787), (189, 0.0), (190, 0.008377499972815908), (191, 0.05859385492027602), (192, 0.0), (193, 0.0), (194, 0.007876464515050113), (195, 0.003421388726952959), (196, 0.0), (197, 0.0038434096628492177), (198, 0.012222452117549661), (199, 0.00816047651277376), (200, 0.0), (201, 0.010242444420340498), (202, 0.0026709516607696863), (203, 0.0), (204, 0.02476484543427775), (205, 0.004310226381403135), (206, 0.012778564272094681), (207, 0.062750037094996), (208, 0.0), (209, 0.0), (210, 0.0), (211, 0.00850938569798623), (212, 0.0038093647647348527), (213, 0.0), (214, 0.0036705118489423955), (215, 0.003998967490746552), (216, 0.012488891128396958), (217, 0.03484594859481293), (218, 0.008962521043969855), (219, 0.045952512195241546), (220, 0.0), (221, 0.0), (222, 0.0086405856186329), (223, 0.0), (224, 0.0), (225, 0.009362734696406272), (226, 0.0), (227, 0.0), (228, 0.0), (229, 0.0), (230, 0.01173133006576653), (231, 0.012632114035571062), (232, 0.012970010224421001), (233, 0.009689094130452975), (234, 0.0), (235, 0.06304346315693098), (236, 0.0), (237, 0.0), (238, 0.00415162496760559), (239, 0.0), (240, 0.0), (241, 0.0), (242, 0.0297693414361406), (243, 0.0), (244, 0.009603718324470429), (245, 1.0000000000000002), (246, 0.008657749197464499), (247, 0.024798494022306047), (248, 0.08093793705491696), (249, 0.0), (250, 0.0), (251, 0.008414220145076026), (252, 0.0), (253, 0.004450368390804273), (254, 0.04131078093442603), (255, 0.03887813269101021), (256, 0.0), (257, 0.007813903411677486), (258, 0.025607305623509075), (259, 0.0), (260, 0.0), (261, 0.024538714871772227), (262, 0.0), (263, 0.0038520212919078544), (264, 0.004076104811963013), (265, 0.0), (266, 0.0), (267, 0.0), (268, 0.04981683380294886), (269, 0.0215208943602405), (270, 0.010267061262460245), (271, 0.0), (272, 0.01962824867230567), (273, 0.0), (274, 0.0), (275, 0.0), (276, 0.0), (277, 0.05696415365732797), (278, 0.003505774961475306), (279, 0.0730484374351018), (280, 0.0), (281, 0.0), (282, 0.0), (283, 0.0), (284, 0.0), (285, 0.008891085621438071), (286, 0.0), (287, 0.0), (288, 0.0), (289, 0.0), (290, 0.0), (291, 0.0), (292, 0.0), (293, 0.0), (294, 0.0), (295, 0.009823961224020187), (296, 0.0), (297, 0.009468342009469052), (298, 0.009348944787217843), (299, 0.008948259037035321), (300, 0.008526404912857851), (301, 0.00946709276135282), (302, 0.0), (303, 0.02614392555977781), (304, 0.05649823485243249), (305, 0.00980753151628722), (306, 0.011098986974796067), (307, 0.020507767943707816), (308, 0.010007845779066538), (309, 0.0), (310, 0.0), (311, 0.036907396292228556), (312, 0.013110296822449782), (313, 0.0), (314, 0.0), (315, 0.021930654825504957), (316, 0.02026290800632249), (317, 0.0), (318, 0.00444837741153663), (319, 0.011379023860015542), (320, 0.022920605809158376), (321, 0.019057023775938424), (322, 0.009666983964646214), (323, 0.0), (324, 0.0), (325, 0.024506688478559097), (326, 0.0), (327, 0.0), (328, 0.0), (329, 0.0), (330, 0.006783190500055196), (331, 0.008085595279056886), (332, 0.01637059497100027), (333, 0.017464166791457774), (334, 0.0), (335, 0.02313211228748576), (336, 0.009959979903090005), (337, 0.0), (338, 0.003713722675048763), (339, 0.003939075887829401), (340, 0.00961588780562633), (341, 0.009636451197274855), (342, 0.0), (343, 0.0), (344, 0.04712574014119318), (345, 0.02213364878485282), (346, 0.040373913262036105), (347, 0.0), (348, 0.009718057991484456), (349, 0.02432505924354136), (350, 0.004431394793070569), (351, 0.009933613384170705), (352, 0.017845066674764508), (353, 0.009970462331268724), (354, 0.04709660861354502), (355, 0.0), (356, 0.0), (357, 0.00351258942837844), (358, 0.011715927868717444), (359, 0.009009171434737518), (360, 0.009315147105842267), (361, 0.04130280085747418), (362, 0.03212025343754643), (363, 0.03178973625063143), (364, 0.0), (365, 0.03230656398787274), (366, 0.0033195189245269247), (367, 0.003899446936209885), (368, 0.004885984397421388), (369, 0.0031152566201641746), (370, 0.0), (371, 0.0), (372, 0.0), (373, 0.009303838875744276), (374, 0.011885248238543977), (375, 0.0), (376, 0.01046426422474542), (377, 0.004194009799475067), (378, 0.05609383624085165), (379, 0.029133801987706157), (380, 0.011277881904170579), (381, 0.008018130948696403), (382, 0.0), (383, 0.011604083566934998), (384, 0.0), (385, 0.004506072799175881), (386, 0.0), (387, 0.0), (388, 0.009267494550589044), (389, 0.01954688213789729), (390, 0.0), (391, 0.04983258291595673), (392, 0.041330896009767866), (393, 0.012298320150466783), (394, 0.0), (395, 0.0), (396, 0.0), (397, 0.0), (398, 0.00409880774495803), (399, 0.0), (400, 0.0), (401, 0.013196167216946705), (402, 0.0), (403, 0.0), (404, 0.06626495092960306), (405, 0.013958277663545916), (406, 0.0), (407, 0.0071809421703445215), (408, 0.009281572092220535), (409, 0.035822268157873864), (410, 0.024978840696263355), (411, 0.0), (412, 0.0), (413, 0.01824989655168019), (414, 0.02681319575682163), (415, 0.0480827385394932), (416, 0.0074601978628123745), (417, 0.0037809692455932635), (418, 0.004305587677032829), (419, 0.0), (420, 0.01055630905499971), (421, 0.03009194231388259), (422, 0.0038459580090479135), (423, 0.02483460537309113), (424, 0.0), (425, 0.011136948448376816), (426, 0.02345890878325811), (427, 0.0133207073727988), (428, 0.0), (429, 0.0), (430, 0.0), (431, 0.034378670960428896), (432, 0.0), (433, 0.0), (434, 0.0), (435, 0.0), (436, 0.0), (437, 0.008492038762118287), (438, 0.0), (439, 0.009759284458459038), (440, 0.007953367466380304), (441, 0.0), (442, 0.0), (443, 0.0), (444, 0.0), (445, 0.0), (446, 0.011751309687335237), (447, 0.0), (448, 0.027808928930521462), (449, 0.010894858525775996), (450, 0.0), (451, 0.0), (452, 0.0), (453, 0.0), (454, 0.003777798118967401), (455, 0.0), (456, 0.008625282047484372), (457, 0.008214128044286832), (458, 0.0), (459, 0.03103810122833946), (460, 0.05559500012244079), (461, 0.03445141683192553), (462, 0.02410388118834359), (463, 0.023571279610546704), (464, 0.0), (465, 0.02289746079498289), (466, 0.009705594236972584), (467, 0.0), (468, 0.0), (469, 0.0), (470, 0.009439109069621263), (471, 0.012968977476285505), (472, 0.0), (473, 0.012564190063840953), (474, 0.004277078724057035), (475, 0.0), (476, 0.013223361418518513), (477, 0.0), (478, 0.013633393099709975), (479, 0.004065695936654345), (480, 0.0), (481, 0.0), (482, 0.012573631692306946), (483, 0.0), (484, 0.0), (485, 0.0), (486, 0.0), (487, 0.0), (488, 0.04267953426718086), (489, 0.0), (490, 0.02079093982567063), (491, 0.014082954261701764), (492, 0.009165593342651749), (493, 0.049630774948618006), (494, 0.004089187715296065), (495, 0.0), (496, 0.0), (497, 0.011586542349364919), (498, 0.012412764994954865), (499, 0.013109651383006753), (500, 0.0), (501, 0.0), (502, 0.0), (503, 0.0039596441942232954), (504, 0.004095102023229213), (505, 0.003866898601613274), (506, 0.0032986503752577786), (507, 0.055986494514027194), (508, 0.014971013034672059), (509, 0.0), (510, 0.0032537094709270383), (511, 0.008150834433768428), (512, 0.0), (513, 0.010671724091505004), (514, 0.0), (515, 0.0036690994498878586), (516, 0.0), (517, 0.0), (518, 0.0), (519, 0.007902114115919737), (520, 0.052359560506672884), (521, 0.003919081965817286), (522, 0.02038087210554549), (523, 0.01031969590490247), (524, 0.03154252582637401), (525, 0.004048709470202489), (526, 0.0), (527, 0.014170330869091039), (528, 0.013257471862131564), (529, 0.0040956609701945776), (530, 0.0), (531, 0.009774419165891932), (532, 0.0037797987649773566), (533, 0.013549118914531007), (534, 0.0), (535, 0.013702922961273619), (536, 0.004331948377820705), (537, 0.0632373212374163), (538, 0.003357733538955426), (539, 0.0), (540, 0.0), (541, 0.0), (542, 0.0), (543, 0.0), (544, 0.0), (545, 0.003575790195763894), (546, 0.012562443742072148), (547, 0.0), (548, 0.0), (549, 0.008303570342834472), (550, 0.024149199585768666), (551, 0.0), (552, 0.0), (553, 0.008566798449203855), (554, 0.0), (555, 0.0), (556, 0.0), (557, 0.0), (558, 0.0), (559, 0.0), (560, 0.019693496830582188), (561, 0.0), (562, 0.0), (563, 0.01086244981106729), (564, 0.020569664631304104), (565, 0.0), (566, 0.0), (567, 0.0), (568, 0.0), (569, 0.008995058935914495), (570, 0.013408715728497), (571, 0.0), (572, 0.0), (573, 0.0), (574, 0.0), (575, 0.021040382618235723), (576, 0.021155489554477328), (577, 0.0036456189474329374), (578, 0.0), (579, 0.07295749993249934), (580, 0.0), (581, 0.0), (582, 0.056777691616199645), (583, 0.0073802671296112074), (584, 0.0), (585, 0.013359673696594078), (586, 0.004240135088279804), (587, 0.0), (588, 0.0), (589, 0.0037724241271158533), (590, 0.0), (591, 0.0), (592, 0.0), (593, 0.0), (594, 0.003638284695197804), (595, 0.010796716949200928), (596, 0.0), (597, 0.016869853752454228), (598, 0.0), (599, 0.02638587823748972), (600, 0.026390879974695452), (601, 0.0), (602, 0.0), (603, 0.0), (604, 0.0), (605, 0.0035817083450532913), (606, 0.0), (607, 0.0), (608, 0.0), (609, 0.0032296785896004814), (610, 0.009760650285009399), (611, 0.043957470550950145), (612, 0.0), (613, 0.0), (614, 0.03629689918873148), (615, 0.0), (616, 0.0), (617, 0.010170618867646652), (618, 0.009583896420447805), (619, 0.0), (620, 0.0), (621, 0.0), (622, 0.0), (623, 0.0), (624, 0.0), (625, 0.0), (626, 0.016639026142469825), (627, 0.0), (628, 0.025286874912385175), (629, 0.00351493690372441), (630, 0.004112886365535147), (631, 0.0), (632, 0.02054484686248838), (633, 0.0), (634, 0.0), (635, 0.0), (636, 0.0), (637, 0.0), (638, 0.0), (639, 0.0), (640, 0.0), (641, 0.05668715672875114), (642, 0.0), (643, 0.0116732389501524), (644, 0.0), (645, 0.04561879968006822), (646, 0.0154556573531383), (647, 0.0), (648, 0.0038041159776963616), (649, 0.01316167135202136), (650, 0.0), (651, 0.0), (652, 0.0), (653, 0.0), (654, 0.0), (655, 0.0), (656, 0.012655727471495506), (657, 0.00794752067142463), (658, 0.0), (659, 0.0037916387245774744), (660, 0.0), (661, 0.0), (662, 0.02820680197691485), (663, 0.0), (664, 0.0036487607253109294), (665, 0.04261939910915387), (666, 0.0), (667, 0.004279543707543198), (668, 0.0), (669, 0.0), (670, 0.037843822700411506), (671, 0.004203137511544186), (672, 0.0036296712596105857), (673, 0.0), (674, 0.0710019789055151), (675, 0.010705856698179136), (676, 0.011678658309156664), (677, 0.0), (678, 0.004437529942676716), (679, 0.004691160339808985), (680, 0.010440274352101422), (681, 0.0), (682, 0.0), (683, 0.013599447805667539), (684, 0.0), (685, 0.010084648088182857), (686, 0.009891299212888633), (687, 0.004516075143049264), (688, 0.0), (689, 0.0), (690, 0.003787221519811419), (691, 0.010523204127514178), (692, 0.0), (693, 0.0), (694, 0.0), (695, 0.0), (696, 0.0), (697, 0.004087518355756808), (698, 0.05256179447857427), (699, 0.0), (700, 0.009819094990827384), (701, 0.024405616309892863), (702, 0.0038083342961373196), (703, 0.020285808406937875), (704, 0.0), (705, 0.0), (706, 0.007108442210761238), (707, 0.0034237058192425306), (708, 0.05729715063543938), (709, 0.003408521211232889), (710, 0.0037815053568521955), (711, 0.004781289105865232), (712, 0.047861340279235325), (713, 0.00852061098953299), (714, 0.02619527354113202), (715, 0.05561827528446694), (716, 0.010294529952243123), (717, 0.009333046119303247), (718, 0.07306605563456697), (719, 0.0), (720, 0.012522465975023784), (721, 0.0), (722, 0.0), (723, 0.0), (724, 0.00888798887254873), (725, 0.007613326735908934), (726, 0.010886908767679407), (727, 0.0), (728, 0.0), (729, 0.0), (730, 0.02581035063701556), (731, 0.0093907310718237), (732, 0.008763687217434032), (733, 0.0), (734, 0.0), (735, 0.031040451794192202), (736, 0.050721079241425285), (737, 0.009182187216421308), (738, 0.009923771316041307), (739, 0.0), (740, 0.05234568544842328), (741, 0.01159526912890947), (742, 0.01132354238643069), (743, 0.0), (744, 0.011140295006791213), (745, 0.012038205956214435), (746, 0.0), (747, 0.0), (748, 0.0), (749, 0.0), (750, 0.0), (751, 0.016758286350920585), (752, 0.09615057833963099), (753, 0.0), (754, 0.004360927218582435), (755, 0.0039558278063487095), (756, 0.03291182706926513), (757, 0.01893489788440009), (758, 0.004102077829528511), (759, 0.014673919362294403), (760, 0.004669599834189151), (761, 0.0), (762, 0.0), (763, 0.0), (764, 0.005940664634626774), (765, 0.0334818711207686), (766, 0.0), (767, 0.02379159742085975), (768, 0.02059409925513065), (769, 0.0), (770, 0.0037596687964858502), (771, 0.00438535812019881), (772, 0.013322894896680287), (773, 0.033745647431704454), (774, 0.024963574323814988), (775, 0.0), (776, 0.007430367841532163), (777, 0.0), (778, 0.008378080071156585), (779, 0.0), (780, 0.003872776397892077), (781, 0.013711987372299329), (782, 0.0), (783, 0.010341461854149124), (784, 0.004220580413821753), (785, 0.004072914408770367), (786, 0.0034092651898706906), (787, 0.0024898078702613163), (788, 0.014797912251909556), (789, 0.007922468953069323), (790, 0.0), (791, 0.021092387464202982), (792, 0.0), (793, 0.004227362356997482), (794, 0.02704088827316333), (795, 0.08660737051859914), (796, 0.0), (797, 0.021021544105298107), (798, 0.0), (799, 0.0), (800, 0.00882389348225114), (801, 0.0), (802, 0.017585737659582584), (803, 0.0), (804, 0.0), (805, 0.011139576195352925), (806, 0.010130970540479702), (807, 0.013569541681969182), (808, 0.0), (809, 0.0), (810, 0.0), (811, 0.0), (812, 0.0), (813, 0.0), (814, 0.0041813870779690565), (815, 0.017541011508985908), (816, 0.0), (817, 0.0), (818, 0.00927423938851428), (819, 0.015233342286088237), (820, 0.003595631999340931), (821, 0.018447228089327826), (822, 0.004087725254640844), (823, 0.028909247053706667), (824, 0.009066845268140007), (825, 0.009521237715955724), (826, 0.03997222113726221), (827, 0.0), (828, 0.0), (829, 0.0), (830, 0.0), (831, 0.0), (832, 0.0), (833, 0.0), (834, 0.0), (835, 0.0), (836, 0.011478304446791956), (837, 0.05532494617303879), (838, 0.0), (839, 0.004598913498615616), (840, 0.003940914375084045), (841, 0.0044695446786718425), (842, 0.016981015269323666), (843, 0.00990654900424403), (844, 0.0), (845, 0.0), (846, 0.0041680165241129085), (847, 0.004667777478243314), (848, 0.0), (849, 0.004067817434840762), (850, 0.0), (851, 0.003565907669985143), (852, 0.0), (853, 0.0), (854, 0.024272801004101334), (855, 0.0), (856, 0.0), (857, 0.0), (858, 0.0), (859, 0.02369444090788229), (860, 0.0), (861, 0.0), (862, 0.012098562778319092), (863, 0.008973608393179512), (864, 0.0), (865, 0.0), (866, 0.0), (867, 0.01368681932169118), (868, 0.011184570130119637), (869, 0.0041734634862071384), (870, 0.00959930193568089), (871, 0.0), (872, 0.004357706958844359), (873, 0.004358862463514308), (874, 0.0), (875, 0.0), (876, 0.0), (877, 0.0), (878, 0.0), (879, 0.004246690427800927), (880, 0.0), (881, 0.0), (882, 0.014246761213205183), (883, 0.013266103601993783), (884, 0.014448709167530126), (885, 0.003651050337900969), (886, 0.05618017893965544), (887, 0.0), (888, 0.0), (889, 0.0), (890, 0.004245267421971953), (891, 0.0), (892, 0.0035263587709852837), (893, 0.055259063055955154), (894, 0.0), (895, 0.009146151387249366), (896, 0.013159760865120773), (897, 0.0), (898, 0.08316518142943431), (899, 0.0), (900, 0.0), (901, 0.008131230475460651), (902, 0.0), (903, 0.02732535897287317), (904, 0.004791595234938909), (905, 0.004708695668797582), (906, 0.01199602501139089), (907, 0.0037432794091775312), (908, 0.004158384608964943), (909, 0.02528957179516323), (910, 0.0), (911, 0.011412517819941384), (912, 0.025581769134567736), (913, 0.010413264323453061), (914, 0.014915339082010494), (915, 0.0), (916, 0.0037717158619847437), (917, 0.0), (918, 0.020318802701769428), (919, 0.024483779187690975), (920, 0.043838567971509756), (921, 0.0), (922, 0.013515231636723217), (923, 0.013374031176723263), (924, 0.00855111788640957), (925, 0.02613787968718797), (926, 0.0031748041665268035), (927, 0.0), (928, 0.0), (929, 0.007081679740253191), (930, 0.0), (931, 0.013011216615229672), (932, 0.028279640027361514), (933, 0.004157108555932604), (934, 0.010978795844496365), (935, 0.0), (936, 0.04730189774028204), (937, 0.0), (938, 0.013920483621899033), (939, 0.0038393517190169605), (940, 0.00911227736737721), (941, 0.003812430043224471), (942, 0.0), (943, 0.004080260268274298), (944, 0.0), (945, 0.004121636547164624), (946, 0.012956758520000469), (947, 0.0), (948, 0.020293087162516793), (949, 0.026005668075351283), (950, 0.0), (951, 0.003436269293413995), (952, 0.0), (953, 0.007904261851086477), (954, 0.0), (955, 0.05940553414674407), (956, 0.004459733325976337), (957, 0.01188899246164642), (958, 0.003720513394046169), (959, 0.0), (960, 0.0), (961, 0.030099834813997712), (962, 0.04391449779716801), (963, 0.0), (964, 0.003393357493426133), (965, 0.004061601052546515), (966, 0.0), (967, 0.0), (968, 0.0), (969, 0.06116452567649572), (970, 0.003439120183022621), (971, 0.016589212637639857), (972, 0.010637371133825443), (973, 0.004010318619738032), (974, 0.0), (975, 0.0), (976, 0.0), (977, 0.009762180275555971), (978, 0.007530031224403175), (979, 0.0), (980, 0.0), (981, 0.0), (982, 0.025006033907332206), (983, 0.003997866758556922), (984, 0.003871885715547393), (985, 0.004656353083256357), (986, 0.0), (987, 0.0), (988, 0.011965130182119655), (989, 0.0), (990, 0.028488888145491463), (991, 0.0), (992, 0.033844119429615155), (993, 0.0), (994, 0.009976501641758673), (995, 0.003987613211473635), (996, 0.00574386299450569), (997, 0.0), (998, 0.09642570045640893), (999, 0.004610675720325826), (1000, 0.0), (1001, 0.009356411733960991), (1002, 0.007756713986512398), (1003, 0.0), (1004, 0.0), (1005, 0.0), (1006, 0.004252635750807284), (1007, 0.03661285400384239), (1008, 0.024928730908077925), (1009, 0.007939516679695757), (1010, 0.019226429487173315), (1011, 0.0750722192801835), (1012, 0.0), (1013, 0.024130640973453), (1014, 0.02073761921827007), (1015, 0.0), (1016, 0.045003998608952066), (1017, 0.0), (1018, 0.00856073719730236), (1019, 0.0), (1020, 0.009418377832865548), (1021, 0.004054559528339247), (1022, 0.004051885130534307), (1023, 0.0), (1024, 0.004239559006184896), (1025, 0.04255473001585131), (1026, 0.0), (1027, 0.009387389192357588), (1028, 0.004017369562073), (1029, 0.0038519353521284335), (1030, 0.0), (1031, 0.0), (1032, 0.0), (1033, 0.0), (1034, 0.0), (1035, 0.0), (1036, 0.00925894349072968), (1037, 0.0), (1038, 0.0037175802348599577), (1039, 0.0), (1040, 0.0031792371249789522), (1041, 0.0), (1042, 0.0), (1043, 0.0), (1044, 0.009509993474368414), (1045, 0.0), (1046, 0.0), (1047, 0.014469241589964162), (1048, 0.0), (1049, 0.03498528935114389), (1050, 0.0), (1051, 0.0), (1052, 0.0), (1053, 0.0), (1054, 0.05245849283191113), (1055, 0.008964000776625222), (1056, 0.0), (1057, 0.0), (1058, 0.0), (1059, 0.05000295420099128), (1060, 0.0), (1061, 0.012502524355501808), (1062, 0.003403520150654667), (1063, 0.009485248273999864), (1064, 0.0118937009920585), (1065, 0.0), (1066, 0.0), (1067, 0.04132955688146166), (1068, 0.011140462773539753), (1069, 0.0), (1070, 0.0034790545157722544), (1071, 0.0), (1072, 0.0), (1073, 0.003869894997837583), (1074, 0.004083005485155364), (1075, 0.010341581440790473), (1076, 0.009463074009532049), (1077, 0.012306712919226146), (1078, 0.003389844378671221), (1079, 0.011973297161427556), (1080, 0.0), (1081, 0.0), (1082, 0.009641573088261805), (1083, 0.0), (1084, 0.022377541948562677), (1085, 0.039666221912060595), (1086, 0.009169245829437641), (1087, 0.0), (1088, 0.011130188379314603), (1089, 0.004475237309362652), (1090, 0.02231323949298724), (1091, 0.0), (1092, 0.0), (1093, 0.0036790255336984906), (1094, 0.0039835394562655535), (1095, 0.0), (1096, 0.0), (1097, 0.0), (1098, 0.0), (1099, 0.004316258002669946), (1100, 0.07296836268459869), (1101, 0.0), (1102, 0.0), (1103, 0.004386294430431678), (1104, 0.0), (1105, 0.00413094201030068), (1106, 0.0355135012044545), (1107, 0.0), (1108, 0.004153289061990294), (1109, 0.02238482362771401), (1110, 0.0), (1111, 0.0), (1112, 0.004054226733254157), (1113, 0.0039295081218743986), (1114, 0.03414199214522959), (1115, 0.0032707296819207286), (1116, 0.009481261237647799), (1117, 0.015482735542881584), (1118, 0.035672672768385316), (1119, 0.0), (1120, 0.1036092755589699), (1121, 0.05802260686014175), (1122, 0.0), (1123, 0.009330039916260245), (1124, 0.004220082203924661), (1125, 0.003911542507923404), (1126, 0.004019450179834828), (1127, 0.0), (1128, 0.009619397483771492), (1129, 0.0), (1130, 0.022274830417546965), (1131, 0.0), (1132, 0.0), (1133, 0.0040617492788027785), (1134, 0.0), (1135, 0.0), (1136, 0.0), (1137, 0.0), (1138, 0.018877311742939655), (1139, 0.0038286407543371096), (1140, 0.026854466295524303), (1141, 0.009564298314517923), (1142, 0.013640243649243081), (1143, 0.0), (1144, 0.007135301604130879), (1145, 0.0), (1146, 0.0), (1147, 0.0), (1148, 0.013601129625453871), (1149, 0.003752495812048798), (1150, 0.010588561077007373), (1151, 0.0), (1152, 0.0037737647246213375), (1153, 0.0028539884577283856), (1154, 0.0), (1155, 0.013504020698789717), (1156, 0.0033415443987475407), (1157, 0.003734816714104509), (1158, 0.0), (1159, 0.0), (1160, 0.0), (1161, 0.014508040833443828), (1162, 0.013142419936060305), (1163, 0.025388940862320446), (1164, 0.0), (1165, 0.030135177314059222), (1166, 0.029655046620343323), (1167, 0.0), (1168, 0.02253567326689765), (1169, 0.004763958552268591), (1170, 0.004075075784358174), (1171, 0.014558565569378084), (1172, 0.0), (1173, 0.003683658137024787), (1174, 0.0), (1175, 0.02531138824218969), (1176, 0.0), (1177, 0.0), (1178, 0.02765022087194399), (1179, 0.01963139518225186), (1180, 0.007582962259068878), (1181, 0.0), (1182, 0.009131123143292095), (1183, 0.0), (1184, 0.0), (1185, 0.010342739488576523), (1186, 0.0), (1187, 0.00478245139837842), (1188, 0.0), (1189, 0.0), (1190, 0.0038699725483935434), (1191, 0.0), (1192, 0.010285589810508314), (1193, 0.0238201327427056), (1194, 0.012133590600322071), (1195, 0.025936814602170392), (1196, 0.01293521621241766), (1197, 0.0), (1198, 0.08699269458301138), (1199, 0.003590772958580273), (1200, 0.0036998319626618966), (1201, 0.009219901300022326), (1202, 0.0), (1203, 0.003821858356210509), (1204, 0.013210285469229793), (1205, 0.017148610423611314), (1206, 0.008366308669268269), (1207, 0.0), (1208, 0.005189523660560648), (1209, 0.0), (1210, 0.0), (1211, 0.027622301692107207), (1212, 0.003511578438469432), (1213, 0.012199367927064417), (1214, 0.003413192229799259), (1215, 0.0), (1216, 0.0036911276808510975), (1217, 0.11605526051622873), (1218, 0.0), (1219, 0.0), (1220, 0.037413491263152424), (1221, 0.008161668983732856), (1222, 0.026558837185147385), (1223, 0.0), (1224, 0.004249070356779087), (1225, 0.020712870990588102), (1226, 0.0), (1227, 0.004066372037302984), (1228, 0.010534731047376927), (1229, 0.08227964665209066), (1230, 0.0), (1231, 0.021782894490021774), (1232, 0.004101902362142903), (1233, 0.0), (1234, 0.004310386043882693), (1235, 0.012645231274478114), (1236, 0.0), (1237, 0.0), (1238, 0.0040427542812527095), (1239, 0.037139648321489076), (1240, 0.0), (1241, 0.0), (1242, 0.0037237328505484108), (1243, 0.004439794279488132), (1244, 0.07306649386826956), (1245, 0.009516024351213112), (1246, 0.12561996729174357), (1247, 0.10789586730404044), (1248, 0.009432111676061197), (1249, 0.0035289726419632287), (1250, 0.042249427022808886), (1251, 0.011521518085820678), (1252, 0.0), (1253, 0.031193821284107286), (1254, 0.0100613531164192), (1255, 0.0), (1256, 0.0668826414203167), (1257, 0.0), (1258, 0.0), (1259, 0.0), (1260, 0.02535727461398887), (1261, 0.003941058048210883), (1262, 0.0), (1263, 0.0), (1264, 0.0), (1265, 0.0), (1266, 0.010015539654632657), (1267, 0.003934952746334462), (1268, 0.010423561243075332), (1269, 0.0), (1270, 0.051205428864886805), (1271, 0.0), (1272, 0.0), (1273, 0.0), (1274, 0.03004354377057037), (1275, 0.013899720964452009), (1276, 0.0), (1277, 0.003043942277936371), (1278, 0.03787999398886841), (1279, 0.015711740707299613), (1280, 0.0), (1281, 0.0), (1282, 0.004351689626658046), (1283, 0.019226995220416356), (1284, 0.003962436276154647), (1285, 0.015387133667120313), (1286, 0.003990515586368345), (1287, 0.0), (1288, 0.02156794282277388), (1289, 0.0033442068627974534), (1290, 0.0), (1291, 0.03810657473954322), (1292, 0.0040028251292450875), (1293, 0.003912456499603364), (1294, 0.01007790017174515), (1295, 0.03040674018703193), (1296, 0.0), (1297, 0.026824852408573015), (1298, 0.021848193278866633), (1299, 0.014578397693128985), (1300, 0.011009542074135925), (1301, 0.0), (1302, 0.014085316005658044), (1303, 0.0), (1304, 0.038981160299311854), (1305, 0.0), (1306, 0.0), (1307, 0.032785379236837525), (1308, 0.046332059718635556), (1309, 0.006967497271716297), (1310, 0.05355100315008368), (1311, 0.004566508809213041), (1312, 0.0034350875863095247), (1313, 0.004011100549319825), (1314, 0.011850206398390059), (1315, 0.030771253442921385), (1316, 0.0), (1317, 0.023619023771256662), (1318, 0.003630240047749846), (1319, 0.0), (1320, 0.0031953511215819033), (1321, 0.004684720419324156), (1322, 0.004143654356473354), (1323, 0.03915869394376831), (1324, 0.0), (1325, 0.0), (1326, 0.011336872552622113), (1327, 0.0276645136143498), (1328, 0.06802243294134526), (1329, 0.008033658722855799), (1330, 0.047310722276017694), (1331, 0.0037309345644343625), (1332, 0.0), (1333, 0.03102364682419383), (1334, 0.057662444169095245), (1335, 0.0), (1336, 0.05688142873935637), (1337, 0.004153972377464027), (1338, 0.0), (1339, 0.0), (1340, 0.0034568471549921856), (1341, 0.003340843262184585), (1342, 0.010059315312558157), (1343, 0.0), (1344, 0.06309667094112796), (1345, 0.00406147886441483), (1346, 0.01876801284152572), (1347, 0.0), (1348, 0.0035456052816500265), (1349, 0.0), (1350, 0.0), (1351, 0.0), (1352, 0.0), (1353, 0.00378475027181143), (1354, 0.02313666210805651), (1355, 0.012336080668484736), (1356, 0.008309042610995016), (1357, 0.0), (1358, 0.008820444312778815), (1359, 0.008747926142338276), (1360, 0.0), (1361, 0.013225862051122882), (1362, 0.0030248836423882514), (1363, 0.015295573329890386), (1364, 0.016735055216908466), (1365, 0.0), (1366, 0.0), (1367, 0.018983216207592524), (1368, 0.022034296115691795), (1369, 0.0), (1370, 0.011226627195182005), (1371, 0.004521626420018277), (1372, 0.00381837879556066), (1373, 0.02212470683188617), (1374, 0.0), (1375, 0.009330577421852384), (1376, 0.003865166854230683), (1377, 0.0), (1378, 0.0), (1379, 0.013969359220029424), (1380, 0.0), (1381, 0.01126564778746801), (1382, 0.004201509069963711), (1383, 0.013598266784446172), (1384, 0.048008631436526374), (1385, 0.009829405558206897), (1386, 0.03216231147423793), (1387, 0.008862275839391176), (1388, 0.004088226498786469), (1389, 0.04278600852954088), (1390, 0.004379305556682366), (1391, 0.02081944381861426), (1392, 0.015966503112069708), (1393, 0.0), (1394, 0.0115356225585798), (1395, 0.020472756419360562), (1396, 0.019515695574459962), (1397, 0.017418507090846837), (1398, 0.013945063689487154), (1399, 0.0), (1400, 0.010348267585960424), (1401, 0.0042982503628268935), (1402, 0.0), (1403, 0.0031274251260392867), (1404, 0.0), (1405, 0.0035785783834186152), (1406, 0.0), (1407, 0.0), (1408, 0.013525504800901783), (1409, 0.0043547156207894375), (1410, 0.004114003706121939), (1411, 0.004022339667173361), (1412, 0.0), (1413, 0.0), (1414, 0.0), (1415, 0.0), (1416, 0.0), (1417, 0.0), (1418, 0.0), (1419, 0.009828756731008866), (1420, 0.013831031795519543), (1421, 0.0), (1422, 0.007926522756111392), (1423, 0.00794278276330014), (1424, 0.0046471935138023895), (1425, 0.023232142495797976), (1426, 0.030171937044559657), (1427, 0.003336748711146087), (1428, 0.07063658495664621), (1429, 0.0), (1430, 0.0), (1431, 0.020105024538658412), (1432, 0.004240042926278058), (1433, 0.009133208223950223), (1434, 0.0), (1435, 0.0), (1436, 0.0), (1437, 0.1311941720390266), (1438, 0.0), (1439, 0.0), (1440, 0.0), (1441, 0.004388073167374508), (1442, 0.009719022056963691), (1443, 0.0), (1444, 0.004050433655531822), (1445, 0.014510182737147662), (1446, 0.0039007576187398215), (1447, 0.015896736588938146), (1448, 0.0), (1449, 0.0), (1450, 0.008459945625308274), (1451, 0.008406575807883562), (1452, 0.0), (1453, 0.0032751276515875427), (1454, 0.0), (1455, 0.0), (1456, 0.023607329520211537), (1457, 0.003790759092866285), (1458, 0.008308899231323262), (1459, 0.0), (1460, 0.027700327918747054), (1461, 0.004116047919011195), (1462, 0.0), (1463, 0.008628932320271976), (1464, 0.0), (1465, 0.003529043313046528), (1466, 0.010433257871549913), (1467, 0.017199779911926876), (1468, 0.10262576533934474), (1469, 0.02353303010430098), (1470, 0.03842931195066136), (1471, 0.0), (1472, 0.0), (1473, 0.020401996899900667), (1474, 0.027904471137859682), (1475, 0.0), (1476, 0.02953403740458744), (1477, 0.012009304705706535), (1478, 0.01153554463625707), (1479, 0.00446447603847783), (1480, 0.0), (1481, 0.0), (1482, 0.011380751394823748), (1483, 0.0), (1484, 0.010384480955840441), (1485, 0.003672452358102619), (1486, 0.004482791819704658), (1487, 0.012344654662599638), (1488, 0.008161473341775213), (1489, 0.004573878844335808), (1490, 0.0038891926317094704), (1491, 0.004435865807525523), (1492, 0.003522573881022816), (1493, 0.0), (1494, 0.004193394186881674), (1495, 0.03958550454793981), (1496, 0.06460357526382872), (1497, 0.0), (1498, 0.010914115786511022), (1499, 0.0), (1500, 0.01190241417535314), (1501, 0.004065349562010767), (1502, 0.0), (1503, 0.0), (1504, 0.0), (1505, 0.029176394061359804), (1506, 0.0027875330910215775), (1507, 0.0893561247393113), (1508, 0.01988075726151293), (1509, 0.006706513494003835), (1510, 0.022071910678863244), (1511, 0.0), (1512, 0.0), (1513, 0.013563184052582137), (1514, 0.017270525903693865), (1515, 0.0), (1516, 0.0523326641750926), (1517, 0.004052606498670093), (1518, 0.014956922880373393), (1519, 0.0), (1520, 0.02451536740720575), (1521, 0.02512592243298683), (1522, 0.009037497562819895), (1523, 0.011123510674231708), (1524, 0.043735313585026976), (1525, 0.08037545658592878), (1526, 0.02172277259831939), (1527, 0.0), (1528, 0.0036971644215565967), (1529, 0.031016010150740823), (1530, 0.029887908149045544), (1531, 0.02218431506378577), (1532, 0.003863828222387878), (1533, 0.00412904583634567), (1534, 0.0), (1535, 0.008254981340678508), (1536, 0.0), (1537, 0.02352166329735814), (1538, 0.0), (1539, 0.015239580159865332), (1540, 0.0), (1541, 0.008732796641824596), (1542, 0.004214393959944944), (1543, 0.003750213089340835), (1544, 0.028322434926886346), (1545, 0.013317272641677407), (1546, 0.0), (1547, 0.011433843587640262), (1548, 0.0), (1549, 0.004015214246086125), (1550, 0.0), (1551, 0.0), (1552, 0.012448620051109536), (1553, 0.0), (1554, 0.07197458884897949), (1555, 0.019545792231795162), (1556, 0.0), (1557, 0.013379044577911), (1558, 0.0), (1559, 0.0), (1560, 0.051298723466257246), (1561, 0.003912521409805805), (1562, 0.009093087458442171), (1563, 0.008844636692081244), (1564, 0.0041688762396350255), (1565, 0.0), (1566, 0.0), (1567, 0.02672644647851218), (1568, 0.0), (1569, 0.003654772172067186), (1570, 0.0), (1571, 0.003365341477416776), (1572, 0.004331195409197017), (1573, 0.0), (1574, 0.009906715477720469), (1575, 0.047244804055360266), (1576, 0.0), (1577, 0.004106036444425471), (1578, 0.04006664518170659), (1579, 0.0), (1580, 0.013292692625431405), (1581, 0.006767848144301611), (1582, 0.08994420557198846), (1583, 0.004459515886476001), (1584, 0.0), (1585, 0.032984886462209796), (1586, 0.003251989334773476), (1587, 0.0041434235827281915), (1588, 0.03305463900567677), (1589, 0.003987312678838151), (1590, 0.0), (1591, 0.0), (1592, 0.04208363014200041), (1593, 0.011897054227931015), (1594, 0.00455743000399671), (1595, 0.0), (1596, 0.00432385904941825), (1597, 0.0039210731076442466), (1598, 0.012852827463880898), (1599, 0.01631797222460104), (1600, 0.026999755278511988), (1601, 0.025823041571872204), (1602, 0.04685934755800044), (1603, 0.0), (1604, 0.008873405795555562), (1605, 0.0), (1606, 0.03822798591915093), (1607, 0.02436694289028614), (1608, 0.008665352901822186), (1609, 0.0043437481147318045), (1610, 0.012054848946942238), (1611, 0.022972710368676985), (1612, 0.00977574117001724), (1613, 0.032953816670090105), (1614, 0.004354546821242741), (1615, 0.015418727349654684), (1616, 0.020831399198587817), (1617, 0.0), (1618, 0.003941415691246648), (1619, 0.0), (1620, 0.018359022281721222), (1621, 0.024725058673525584), (1622, 0.0), (1623, 0.0), (1624, 0.0), (1625, 0.0), (1626, 0.0036882949730942015), (1627, 0.0), (1628, 0.0), (1629, 0.010133630552464573), (1630, 0.009314912895822959), (1631, 0.0093139797906765), (1632, 0.0), (1633, 0.00938037805508363), (1634, 0.03292667915255947), (1635, 0.0), (1636, 0.0), (1637, 0.0043662706185793035), (1638, 0.004054714916453849), (1639, 0.00344594112639709), (1640, 0.03142146349214623), (1641, 0.0), (1642, 0.02697979748635429), (1643, 0.0), (1644, 0.01609863614994764), (1645, 0.0), (1646, 0.003275159311668216), (1647, 0.061885325826279036), (1648, 0.0), (1649, 0.009149132450373028), (1650, 0.020273536118028727), (1651, 0.0), (1652, 0.003610548974219633), (1653, 0.0), (1654, 0.0038854396599193944), (1655, 0.014653415904633885), (1656, 0.004666792725298828), (1657, 0.0), (1658, 0.004506595119078521), (1659, 0.0), (1660, 0.004252989291276959), (1661, 0.010571621405941244), (1662, 0.011227407675097752), (1663, 0.012265981405666447), (1664, 0.023697864255516475), (1665, 0.0), (1666, 0.034414058805320544), (1667, 0.0), (1668, 0.003919177777785843), (1669, 0.014822070694224998), (1670, 0.009419652054059579), (1671, 0.0), (1672, 0.008986930841351505), (1673, 0.00378946753449784), (1674, 0.010709020437719895), (1675, 0.0), (1676, 0.010396023930029613), (1677, 0.03963845396472526), (1678, 0.009760971042533094), (1679, 0.015047266935597957), (1680, 0.0), (1681, 0.010777889952101096), (1682, 0.0), (1683, 0.013932802775286296), (1684, 0.011405122828475731), (1685, 0.010386599795878157), (1686, 0.0), (1687, 0.0), (1688, 0.004150735288495649), (1689, 0.03414946423600937), (1690, 0.015398134510751824), (1691, 0.0), (1692, 0.0), (1693, 0.003821855131639767), (1694, 0.0036140481383035894), (1695, 0.010538551947678177), (1696, 0.0), (1697, 0.013402126186599313), (1698, 0.003515975502242806), (1699, 0.0), (1700, 0.039206321538283975), (1701, 0.00951234992200567), (1702, 0.07221123895438061), (1703, 0.0), (1704, 0.025506164806957797), (1705, 0.0), (1706, 0.03515604310602431), (1707, 0.0), (1708, 0.010544009083163398), (1709, 0.015108954244501451), (1710, 0.0), (1711, 0.03137775354619919), (1712, 0.0), (1713, 0.010162638289772897), (1714, 0.02659830427206566), (1715, 0.007291224874313504), (1716, 0.0), (1717, 0.0), (1718, 0.004266643008992579), (1719, 0.0036736072713708977), (1720, 0.040929460404208466), (1721, 0.0038089620535360193), (1722, 0.004110488337730374), (1723, 0.0), (1724, 0.0), (1725, 0.010853029591356643), (1726, 0.013360877070987357), (1727, 0.004232208956401747), (1728, 0.0), (1729, 0.0146791783557963), (1730, 0.0), (1731, 0.024484192510577853), (1732, 0.014842899342214517), (1733, 0.004463140404486544), (1734, 0.004265126200120447), (1735, 0.004197771875628768), (1736, 0.0), (1737, 0.0043420248560722486), (1738, 0.0038642353910123407), (1739, 0.0), (1740, 0.010014396081136787), (1741, 0.013999924512897135), (1742, 0.0), (1743, 0.0), (1744, 0.01242101792265407), (1745, 0.02707736054862765), (1746, 0.00379894587074065), (1747, 0.0), (1748, 0.0), (1749, 0.0), (1750, 0.0036377745823962665), (1751, 0.014050775907322156), (1752, 0.003365428183977426), (1753, 0.0), (1754, 0.010814379083023124), (1755, 0.02381029127579469), (1756, 0.0), (1757, 0.022393311023703625), (1758, 0.044992929967076274), (1759, 0.0076921051381378175), (1760, 0.0), (1761, 0.012310379555673394), (1762, 0.008757821451496981), (1763, 0.0), (1764, 0.010441921136838984), (1765, 0.004209972676763868), (1766, 0.05555379742057612), (1767, 0.003910223249498039), (1768, 0.0), (1769, 0.04825680051606731), (1770, 0.0), (1771, 0.049234622622279504), (1772, 0.0), (1773, 0.0), (1774, 0.01941976701908464), (1775, 0.03641403230992425), (1776, 0.0), (1777, 0.016557733811082276), (1778, 0.0037914124482982766), (1779, 0.0), (1780, 0.016591387641395165), (1781, 0.013713255830110233), (1782, 0.0), (1783, 0.012250901698880105), (1784, 0.019949708715581032), (1785, 0.003851693077987716), (1786, 0.004476866812874239), (1787, 0.0038553102574676538), (1788, 0.003827671338266591), (1789, 0.0), (1790, 0.035171827175957106), (1791, 0.004333437602548294), (1792, 0.004783548501736479), (1793, 0.0), (1794, 0.020800414523124207), (1795, 0.0), (1796, 0.017914309674002225), (1797, 0.012175160298523904), (1798, 0.0), (1799, 0.02638737820266255), (1800, 0.022389739873399046), (1801, 0.0), (1802, 0.0), (1803, 0.008890729361812712), (1804, 0.03177776650273757), (1805, 0.0), (1806, 0.004443894594182202), (1807, 0.0), (1808, 0.0), (1809, 0.0), (1810, 0.09043536638070704), (1811, 0.02824944435573741), (1812, 0.0), (1813, 0.00953086032024019), (1814, 0.0), (1815, 0.0), (1816, 0.024160503957352746), (1817, 0.0), (1818, 0.0038573058762571364), (1819, 0.011222859037642962), (1820, 0.023269030429354715), (1821, 0.004271452235364551), (1822, 0.0042969088723391596), (1823, 0.0), (1824, 0.0658538089349729), (1825, 0.0), (1826, 0.0), (1827, 0.003680881163498148), (1828, 0.008470770830400537), (1829, 0.0), (1830, 0.011536731941527382), (1831, 0.0), (1832, 0.010026266450131757), (1833, 0.0034855218990703547), (1834, 0.004035364409891589), (1835, 0.0), (1836, 0.0045195096026420965), (1837, 0.028806646134314242), (1838, 0.0), (1839, 0.012433904234683034), (1840, 0.0), (1841, 0.026024453585451475), (1842, 0.012739275174936462), (1843, 0.010150849446770565), (1844, 0.041765746406393196), (1845, 0.0), (1846, 0.011735000133898457), (1847, 0.00420265833302102), (1848, 0.00438185729079974), (1849, 0.031189027544787862), (1850, 0.027417162812066097), (1851, 0.016779010602156728), (1852, 0.04307582263466078), (1853, 0.0), (1854, 0.008544876099885928), (1855, 0.03339711173697958), (1856, 0.03137687144728757), (1857, 0.011859166572999555), (1858, 0.010984818323076042), (1859, 0.0), (1860, 0.012388644286249507), (1861, 0.006170808723031575), (1862, 0.0), (1863, 0.007729346666999988), (1864, 0.0), (1865, 0.008905965185829848), (1866, 0.0), (1867, 0.004019996047707952), (1868, 0.007624410797697943), (1869, 0.0), (1870, 0.012412414916583781), (1871, 0.01809267992550524), (1872, 0.0), (1873, 0.009826775390202868), (1874, 0.0), (1875, 0.008218501450643702), (1876, 0.00987345491362263), (1877, 0.01325209331777692), (1878, 0.021683784273419323), (1879, 0.05140868202019463), (1880, 0.015713594585515286), (1881, 0.05314959514651053), (1882, 0.0), (1883, 0.025491500616528016), (1884, 0.0), (1885, 0.0), (1886, 0.0), (1887, 0.06329656034416292), (1888, 0.007997162253613929), (1889, 0.025448734972115437), (1890, 0.0), (1891, 0.009731879495353311), (1892, 0.0), (1893, 0.008586542092783794), (1894, 0.0), (1895, 0.013082346330778816), (1896, 0.0), (1897, 0.0), (1898, 0.012174638713257285), (1899, 0.0037947059781403025), (1900, 0.013370459833428123), (1901, 0.0), (1902, 0.004278520286534836), (1903, 0.01507650707879337), (1904, 0.0), (1905, 0.0044377867392462475), (1906, 0.004084311462274699), (1907, 0.03137829957139358), (1908, 0.009869231817358826), (1909, 0.013673047274130134), (1910, 0.0), (1911, 0.013521105423730364), (1912, 0.013296093715155641), (1913, 0.012848903380531268), (1914, 0.0038255530124823504), (1915, 0.003871086584937477), (1916, 0.0), (1917, 0.004178386094992502), (1918, 0.0), (1919, 0.0028450349596932994), (1920, 0.0), (1921, 0.0), (1922, 0.025318291960612995), (1923, 0.053525158336617557), (1924, 0.0), (1925, 0.0), (1926, 0.05118060738961999), (1927, 0.0), (1928, 0.025699283356900457), (1929, 0.0038805015954392905), (1930, 0.0), (1931, 0.0), (1932, 0.009293186118189578), (1933, 0.0), (1934, 0.010756188919252934), (1935, 0.016300583101090258), (1936, 0.009146980872839557), (1937, 0.0), (1938, 0.0033937815956234275), (1939, 0.005402022393969274), (1940, 0.0), (1941, 0.04706287393639279), (1942, 0.0), (1943, 0.019877678572100876), (1944, 0.049770810295377436), (1945, 0.0), (1946, 0.0), (1947, 0.004725310595859032), (1948, 0.0), (1949, 0.0042199732425012475), (1950, 0.0), (1951, 0.008637413700560386), (1952, 0.0), (1953, 0.0), (1954, 0.0036057606047727843), (1955, 0.013676425571344276), (1956, 0.004117254201814527), (1957, 0.0034196885393879307), (1958, 0.07586159811483953), (1959, 0.027512195331082314), (1960, 0.0), (1961, 0.013413198299023021), (1962, 0.0), (1963, 0.07107489047859669), (1964, 0.0), (1965, 0.004251716711737029), (1966, 0.01170531394331397), (1967, 0.0), (1968, 0.0), (1969, 0.0), (1970, 0.0), (1971, 0.0), (1972, 0.0), (1973, 0.003829181505784448), (1974, 0.0037199448153858944), (1975, 0.0), (1976, 0.010966669255203468), (1977, 0.008740634879305301), (1978, 0.0036279656048598505), (1979, 0.023023056062337784), (1980, 0.0036509518102685085), (1981, 0.05004410707506369), (1982, 0.003728361894618944), (1983, 0.0), (1984, 0.03614058050591746), (1985, 0.0), (1986, 0.013734438689903442), (1987, 0.0037364432053571682), (1988, 0.08703721466894718), (1989, 0.0), (1990, 0.008943900135564559), (1991, 0.0), (1992, 0.01297423295726174), (1993, 0.0), (1994, 0.012356583156245845), (1995, 0.0), (1996, 0.0), (1997, 0.0), (1998, 0.0), (1999, 0.032862543402721066), (2000, 0.0), (2001, 0.003505088910484242), (2002, 0.014535220688379917), (2003, 0.003932495731860112), (2004, 0.011322024034055371), (2005, 0.003660149764256022), (2006, 0.011103882720211877), (2007, 0.003715432256477169), (2008, 0.019094068795868648), (2009, 0.016448251466814747), (2010, 0.0), (2011, 0.0), (2012, 0.02614218002778306), (2013, 0.0), (2014, 0.03237309969832884), (2015, 0.0), (2016, 0.0), (2017, 0.010018801009313868), (2018, 0.003320139115279937), (2019, 0.07488773595252832), (2020, 0.0), (2021, 0.004406054114093166), (2022, 0.05024964102884952), (2023, 0.0), (2024, 0.0), (2025, 0.0033578152172104537), (2026, 0.004067266595733086), (2027, 0.01893923498590483), (2028, 0.007973809398977951), (2029, 0.0), (2030, 0.08253587954249537), (2031, 0.0), (2032, 0.009539908405229941), (2033, 0.0037025664892852772), (2034, 0.02066327300157714), (2035, 0.0), (2036, 0.014671292995246556), (2037, 0.013128074756895727), (2038, 0.02410019560634548), (2039, 0.0), (2040, 0.06447305176978499), (2041, 0.029504098192495627), (2042, 0.004247530851673433), (2043, 0.014594650752069342), (2044, 0.0), (2045, 0.009976870676006383), (2046, 0.013003974645685108), (2047, 0.031149914931584276), (2048, 0.0), (2049, 0.014354062264185528), (2050, 0.07607819740386478), (2051, 0.0), (2052, 0.046949757436931826), (2053, 0.0), (2054, 0.0), (2055, 0.008111348825593261), (2056, 0.003922491231564199), (2057, 0.0), (2058, 0.003673293275294009), (2059, 0.003550031479617336), (2060, 0.013746544339905329), (2061, 0.012201150191876654), (2062, 0.018069601585604642), (2063, 0.0036902816198415007), (2064, 0.0029981722717946947), (2065, 0.022532970967043896), (2066, 0.011043710435360173), (2067, 0.0), (2068, 0.003867929640295651), (2069, 0.06452353084180118), (2070, 0.021754674163801096), (2071, 0.0037868198761956693), (2072, 0.0), (2073, 0.0), (2074, 0.0), (2075, 0.0), (2076, 0.011712757345475038), (2077, 0.004964221387679319), (2078, 0.0), (2079, 0.004646723032856213), (2080, 0.0), (2081, 0.02275594942493322), (2082, 0.03436996952248923), (2083, 0.010273697959999462), (2084, 0.0), (2085, 0.0), (2086, 0.02432295923149228), (2087, 0.012734677466434868), (2088, 0.0), (2089, 0.0), (2090, 0.004248261627878038), (2091, 0.12626462491749152), (2092, 0.040393579828866495), (2093, 0.003764619411448363), (2094, 0.029936433363101818), (2095, 0.024165253868105967), (2096, 0.0), (2097, 0.05039748921187198), (2098, 0.00348185387863825), (2099, 0.02961212656347436), (2100, 0.00860588944629252), (2101, 0.015197353984486253), (2102, 0.0), (2103, 0.0), (2104, 0.0), (2105, 0.0), (2106, 0.008415881698407854), (2107, 0.0038772789879813465), (2108, 0.004517947795746401), (2109, 0.0), (2110, 0.0), (2111, 0.016741053596841783), (2112, 0.0), (2113, 0.0031853050837689703), (2114, 0.0), (2115, 0.01096868463982829), (2116, 0.004393222883795859), (2117, 0.020139697355588414), (2118, 0.0), (2119, 0.009106937118702323), (2120, 0.0), (2121, 0.0), (2122, 0.004109274744604225), (2123, 0.0), (2124, 0.004362317776730403), (2125, 0.011908108449934673), (2126, 0.0), (2127, 0.008241360631687952), (2128, 0.013656464163419481), (2129, 0.0), (2130, 0.018863809858528063), (2131, 0.003910286558943122), (2132, 0.0), (2133, 0.0), (2134, 0.010980783534620656), (2135, 0.022817794967062214), (2136, 0.0), (2137, 0.022842818566625973), (2138, 0.004613474765468597), (2139, 0.0), (2140, 0.00387042437473544), (2141, 0.05732825086224249), (2142, 0.011449494986560588), (2143, 0.003891781474085778), (2144, 0.0), (2145, 0.007230207915682834), (2146, 0.0034786276798207502), (2147, 0.004320569258985868), (2148, 0.008438102731293326), (2149, 0.0), (2150, 0.03767902942771063), (2151, 0.04588733173426021), (2152, 0.0), (2153, 0.02925119538220786), (2154, 0.024038263661694974), (2155, 0.0), (2156, 0.0036245746537196715), (2157, 0.019114394103299157), (2158, 0.004746013252416774), (2159, 0.0), (2160, 0.003830291999102399), (2161, 0.003624449146394553), (2162, 0.0), (2163, 0.0), (2164, 0.004556092838934787), (2165, 0.0108285093732301), (2166, 0.0130790646196414), (2167, 0.003911451196919909), (2168, 0.0034832449493176626), (2169, 0.0), (2170, 0.02726122845530391), (2171, 0.02703124455911434), (2172, 0.0), (2173, 0.0), (2174, 0.0), (2175, 0.0), (2176, 0.020716984988397323), (2177, 0.0), (2178, 0.0), (2179, 0.021354836623143428), (2180, 0.0), (2181, 0.0), (2182, 0.011028481784442356), (2183, 0.0443804014792549), (2184, 0.0), (2185, 0.0036465649523105275), (2186, 0.004613799589523955), (2187, 0.004671677055348473), (2188, 0.0), (2189, 0.0), (2190, 0.0), (2191, 0.0), (2192, 0.0228922550199183), (2193, 0.004107530295574876), (2194, 0.014403496061347188), (2195, 0.0), (2196, 0.009464279727968806), (2197, 0.0), (2198, 0.008966754569083617), (2199, 0.016948652949853468), (2200, 0.020583564788334993), (2201, 0.01211199594831312), (2202, 0.00766950622569176), (2203, 0.0037246778721869997), (2204, 0.003450590944312708), (2205, 0.07575893362064698), (2206, 0.0), (2207, 0.026634167857015063), (2208, 0.014719126157454868), (2209, 0.004531663671756313), (2210, 0.030446717946502996), (2211, 0.003410732969653695), (2212, 0.0), (2213, 0.0), (2214, 0.0), (2215, 0.003820694910367298), (2216, 0.0), (2217, 0.030887397222347585), (2218, 0.015439217566098631), (2219, 0.0030040058939276994), (2220, 0.0), (2221, 0.008161309370620382), (2222, 0.01434454243589113), (2223, 0.014804074484013394), (2224, 0.0), (2225, 0.02171178874344133), (2226, 0.0), (2227, 0.003382377882392225), (2228, 0.017974119269255615), (2229, 0.0), (2230, 0.0), (2231, 0.0), (2232, 0.0), (2233, 0.0), (2234, 0.008361338600973387), (2235, 0.0), (2236, 0.022746133381073452), (2237, 0.0), (2238, 0.0), (2239, 0.011750620036821917), (2240, 0.0035720689896949214), (2241, 0.004232807658889681), (2242, 0.003869000329437609), (2243, 0.03293786280564088), (2244, 0.13696108971268742), (2245, 0.011635181232437031), (2246, 0.0), (2247, 0.022008498155617336), (2248, 0.05309940881581693), (2249, 0.016854702098140818), (2250, 0.01202035024078045), (2251, 0.03489645471674701), (2252, 0.0), (2253, 0.0), (2254, 0.012926889762012938), (2255, 0.0), (2256, 0.0), (2257, 0.011522585977457409), (2258, 0.004413907787680601), (2259, 0.035744125681986), (2260, 0.013928273782602859), (2261, 0.015092102761481827), (2262, 0.011730031869656361), (2263, 0.03739117618796798), (2264, 0.0036162769398040816), (2265, 0.01182000787500866), (2266, 0.0), (2267, 0.09187425055765233), (2268, 0.0), (2269, 0.010387151960918321), (2270, 0.019640771163098703), (2271, 0.02792212485124621), (2272, 0.0037808839271752377), (2273, 0.0), (2274, 0.003745352504037501), (2275, 0.0), (2276, 0.0), (2277, 0.0), (2278, 0.02889137723917918), (2279, 0.0), (2280, 0.00403224137679659), (2281, 0.017273755494352623), (2282, 0.005229806787004414), (2283, 0.009537475391570125), (2284, 0.016203813490941087), (2285, 0.019673161449020385), (2286, 0.0), (2287, 0.0), (2288, 0.0), (2289, 0.0), (2290, 0.02557944414168315), (2291, 0.033642499075774636), (2292, 0.0041457775870879865), (2293, 0.0), (2294, 0.018887805540806584), (2295, 0.009973140088853735), (2296, 0.010937399131767578), (2297, 0.003989873815469652), (2298, 0.004016757824067996), (2299, 0.0), (2300, 0.0), (2301, 0.008186705553001144), (2302, 0.004623375135964451), (2303, 0.003839030479780494), (2304, 0.009096040841526737), (2305, 0.004655496922820832), (2306, 0.03217863364867559), (2307, 0.004175242490271625), (2308, 0.10198058100426803), (2309, 0.0038883656569883122), (2310, 0.0), (2311, 0.003829053150764138), (2312, 0.023203445262309403), (2313, 0.012230313666580844), (2314, 0.0), (2315, 0.01280046967462394), (2316, 0.009586210123479509), (2317, 0.0), (2318, 0.009946330353112697), (2319, 0.009297343123945357), (2320, 0.033888877178840454), (2321, 0.0), (2322, 0.021400905803860337), (2323, 0.0), (2324, 0.0), (2325, 0.004225703399277836), (2326, 0.0), (2327, 0.012139315131241349), (2328, 0.0), (2329, 0.04429951993218274), (2330, 0.012736581193862857), (2331, 0.018026006466511948), (2332, 0.042347444558916134), (2333, 0.004845594697015943), (2334, 0.0), (2335, 0.01724171596584103), (2336, 0.013809612378194863), (2337, 0.009475287674839315), (2338, 0.008869537987109237), (2339, 0.025818304963479036), (2340, 0.0040805861640884015), (2341, 0.0), (2342, 0.07321096137844665), (2343, 0.0), (2344, 0.0), (2345, 0.0), (2346, 0.0), (2347, 0.0), (2348, 0.00383408043538954), (2349, 0.0), (2350, 0.0), (2351, 0.015541164337075048), (2352, 0.02138420712556055), (2353, 0.004190924370250264), (2354, 0.0), (2355, 0.0), (2356, 0.0), (2357, 0.004621055943730561), (2358, 0.012896260834729877), (2359, 0.008193859317399193), (2360, 0.003597409066456656), (2361, 0.0), (2362, 0.0), (2363, 0.005030301172888657), (2364, 0.01046850133060029), (2365, 0.07702549613259135), (2366, 0.0036098567054186573), (2367, 0.021860451127596586), (2368, 0.07106562433359426), (2369, 0.0), (2370, 0.0), (2371, 0.014104372875700294), (2372, 0.02782327753962373), (2373, 0.0033946541544086334), (2374, 0.0), (2375, 0.03202538621023339), (2376, 0.0), (2377, 0.0032312384962248546), (2378, 0.0), (2379, 0.018790605497134974), (2380, 0.004257707141910377), (2381, 0.048753735245391824), (2382, 0.0), (2383, 0.0), (2384, 0.00453346956370327), (2385, 0.004287261890881375), (2386, 0.0), (2387, 0.004061650664530926), (2388, 0.012052507032338606), (2389, 0.011613998345984942), (2390, 0.023016962748919328), (2391, 0.014832659778609245), (2392, 0.0), (2393, 0.020027453151084396), (2394, 0.004289101340420025), (2395, 0.005630565293947652), (2396, 0.00410749773953092), (2397, 0.01639133996881162), (2398, 0.02728490607727418), (2399, 0.0037573915119940835), (2400, 0.0), (2401, 0.008697915698566646), (2402, 0.0036863373539537045), (2403, 0.004691481273305511), (2404, 0.018889046555915518), (2405, 0.0), (2406, 0.0), (2407, 0.0), (2408, 0.024776998336879304), (2409, 0.0038768368347828082), (2410, 0.0044654630968349205), (2411, 0.004609181978000557), (2412, 0.016203768247528654), (2413, 0.0), (2414, 0.09071708535663324), (2415, 0.0), (2416, 0.0), (2417, 0.0), (2418, 0.01040601766633539), (2419, 0.009402578186949069), (2420, 0.004559468861776662), (2421, 0.009118684400948427), (2422, 0.0039512439360339735), (2423, 0.016408681627185475), (2424, 0.0036895146820674057), (2425, 0.0), (2426, 0.0036689089665720713), (2427, 0.0), (2428, 0.0), (2429, 0.0), (2430, 0.009080166280502384), (2431, 0.004189368856072152), (2432, 0.011611440701037952), (2433, 0.02547627634469953), (2434, 0.035271810185160984), (2435, 0.012857077944978569), (2436, 0.032975942196062535), (2437, 0.0), (2438, 0.0), (2439, 0.003341938167900795), (2440, 0.040489930755341096), (2441, 0.0032961917873757162), (2442, 0.0), (2443, 0.012894582827520911), (2444, 0.0041520646359557885), (2445, 0.0037464703862248867), (2446, 0.0037806645633619443), (2447, 0.008419836620865082), (2448, 0.011688057854844816), (2449, 0.013104527946499446), (2450, 0.02704451121587488), (2451, 0.026873680306025296), (2452, 0.004465633390394726), (2453, 0.0), (2454, 0.0), (2455, 0.005166538800145915), (2456, 0.02357068192161821), (2457, 0.0), (2458, 0.004435917611596942), (2459, 0.0), (2460, 0.003547388824157512), (2461, 0.012624196138330879), (2462, 0.03732815567266788), (2463, 0.018343366200867108), (2464, 0.004464254670803178), (2465, 0.003923079390742113), (2466, 0.009191213973831396), (2467, 0.021931779983765817), (2468, 0.004756004216936358), (2469, 0.0), (2470, 0.0), (2471, 0.011908074083100462), (2472, 0.023779839708326957), (2473, 0.032745741926689394), (2474, 0.009242166727637797), (2475, 0.0), (2476, 0.0), (2477, 0.0), (2478, 0.004672816474490873), (2479, 0.022492540964469523), (2480, 0.0), (2481, 0.010031791894879885), (2482, 0.0), (2483, 0.005368156432845019), (2484, 0.03345569673645439), (2485, 0.010016042149787999), (2486, 0.004647436831783317), (2487, 0.032986871202764244), (2488, 0.00497460156935656), (2489, 0.010004543244574001), (2490, 0.005866872486051201), (2491, 0.0037529396508571267), (2492, 0.022874175989163262), (2493, 0.004492446760607518), (2494, 0.017376223469716477), (2495, 0.004070142546436718), (2496, 0.0634992891667908), (2497, 0.032976914670022485), (2498, 0.0), (2499, 0.028497092632723105), (2500, 0.005679238144558126), (2501, 0.0), (2502, 0.0), (2503, 0.0), (2504, 0.037989192663324144), (2505, 0.0), (2506, 0.0), (2507, 0.04330999196269039), (2508, 0.003369291629132074), (2509, 0.003345044341557014), (2510, 0.004666094178953741), (2511, 0.004219188834757936), (2512, 0.004041293809563372), (2513, 0.009104890264455441), (2514, 0.0036570136052333506), (2515, 0.03663000105961859), (2516, 0.030824989599325246), (2517, 0.01995930844238225), (2518, 0.015677706696221535), (2519, 0.004198704478935376), (2520, 0.0), (2521, 0.03257593918844857), (2522, 0.01046275174749359), (2523, 0.007035369789551729), (2524, 0.0), (2525, 0.03237698049686385), (2526, 0.0), (2527, 0.0), (2528, 0.0), (2529, 0.005908783195830548), (2530, 0.011374999626836278), (2531, 0.013569395188044328), (2532, 0.04639207963404917), (2533, 0.0), (2534, 0.045915507950505356), (2535, 0.004511532940331732), (2536, 0.00531729558108558), (2537, 0.08064855426656012), (2538, 0.0), (2539, 0.025254761574237977), (2540, 0.0), (2541, 0.0), (2542, 0.03527082455779949), (2543, 0.005107532821303877), (2544, 0.0), (2545, 0.0), (2546, 0.0042374581585973604), (2547, 0.0), (2548, 0.0037611663856381232), (2549, 0.03790814883821235), (2550, 0.0), (2551, 0.00413591024064051), (2552, 0.0), (2553, 0.003968368486725513), (2554, 0.013134885357640897), (2555, 0.0425619308882777), (2556, 0.0), (2557, 0.014940224738222624), (2558, 0.009818351755552176), (2559, 0.04906334680403274), (2560, 0.0), (2561, 0.11621015348927057), (2562, 0.006738471895350939), (2563, 0.0), (2564, 0.00505692322166426), (2565, 0.0), (2566, 0.021342365149194624), (2567, 0.0), (2568, 0.010945786561598855), (2569, 0.004022142768238794), (2570, 0.004790854772578221), (2571, 0.0), (2572, 0.023758214702399076), (2573, 0.0), (2574, 0.015666820323198084), (2575, 0.004448994670061576), (2576, 0.0), (2577, 0.08638576258317729), (2578, 0.0), (2579, 0.010031717142707751), (2580, 0.0), (2581, 0.005086582535247103), (2582, 0.013282937831820763), (2583, 0.025090192722531483), (2584, 0.030577979737669427), (2585, 0.010928512330158392), (2586, 0.004124233587180979), (2587, 0.02662675168103041), (2588, 0.004360001897522948), (2589, 0.0), (2590, 0.012120526661434688), (2591, 0.011681126188138505), (2592, 0.024322103371840764), (2593, 0.008257172416035996), (2594, 0.015095882356372992), (2595, 0.0376728529463862), (2596, 0.0), (2597, 0.006721650092432574), (2598, 0.011397164873764557), (2599, 0.0), (2600, 0.005135468473816914), (2601, 0.004245117392110406), (2602, 0.0), (2603, 0.032000086503556735), (2604, 0.027279177025569708), (2605, 0.004249166750078943), (2606, 0.0), (2607, 0.0), (2608, 0.017681377869434724), (2609, 0.02675156647074383), (2610, 0.03548246929270778), (2611, 0.0), (2612, 0.008643519675282766), (2613, 0.0), (2614, 0.009717742787451088), (2615, 0.03159876713779253), (2616, 0.01273054078826506), (2617, 0.007890566224499457), (2618, 0.0), (2619, 0.009803800929540564), (2620, 0.0038841932486090914), (2621, 0.017081982252418956), (2622, 0.0), (2623, 0.0), (2624, 0.013181312949667803), (2625, 0.013840161613398955), (2626, 0.015241646159774238), (2627, 0.0), (2628, 0.015769691367490127), (2629, 0.0), (2630, 0.0), (2631, 0.0038655570689186468), (2632, 0.0), (2633, 0.004273362649888628), (2634, 0.01834578942931438), (2635, 0.030387401336181532), (2636, 0.027873593202678248), (2637, 0.013979074200098453), (2638, 0.0), (2639, 0.0039937515615705), (2640, 0.022875920701682644), (2641, 0.0), (2642, 0.003921753698829347), (2643, 0.02715427954925479), (2644, 0.03397474313914943), (2645, 0.0), (2646, 0.010461764936843681), (2647, 0.009942995853452487), (2648, 0.0041972706970514135), (2649, 0.013866987779386556), (2650, 0.009298496668454696), (2651, 0.011397273067587069), (2652, 0.02529603541857931), (2653, 0.003927980048263838), (2654, 0.039810784652066986), (2655, 0.0), (2656, 0.040001006546097034), (2657, 0.005962438571837364), (2658, 0.0), (2659, 0.005863336803227362), (2660, 0.0064103245163273995), (2661, 0.014908330983455925), (2662, 0.00897262178322319), (2663, 0.00795898615114583), (2664, 0.0), (2665, 0.003351728137326032), (2666, 0.02674358847711053), (2667, 0.0055466333156456915), (2668, 0.033998191027789594), (2669, 0.04813558442735935), (2670, 0.0), (2671, 0.0029897147103275464), (2672, 0.07686165071164826), (2673, 0.0333640854854712), (2674, 0.0), (2675, 0.004267078962670307), (2676, 0.004667600061732858), (2677, 0.003965987058792675), (2678, 0.006629253045469223), (2679, 0.05285343643234519), (2680, 0.0), (2681, 0.003913367129999992), (2682, 0.0), (2683, 0.0), (2684, 0.0233398874838514), (2685, 0.004131008884466347), (2686, 0.0), (2687, 0.004004730885875278), (2688, 0.02495907910432289), (2689, 0.012769794065890001), (2690, 0.003865329141891402), (2691, 0.012532824032674425), (2692, 0.0), (2693, 0.00393491387290051), (2694, 0.016046409589469884), (2695, 0.0), (2696, 0.0047318004940296735), (2697, 0.0), (2698, 0.0), (2699, 0.003797517031589625), (2700, 0.0), (2701, 0.006587912928010161), (2702, 0.004652295390707374), (2703, 0.00630122708841777), (2704, 0.0963883298341245), (2705, 0.0), (2706, 0.0038698133747746394), (2707, 0.0), (2708, 0.13697548549099517), (2709, 0.029517099855307434), (2710, 0.010062807710984627), (2711, 0.0), (2712, 0.00434912800926852), (2713, 0.0), (2714, 0.010389743496248154), (2715, 0.026516919695502218), (2716, 0.009455990725575887), (2717, 0.027374068515800397), (2718, 0.0), (2719, 0.045549106201038), (2720, 0.00477072404731868), (2721, 0.01131344877244046), (2722, 0.005714288513394787), (2723, 0.01052857648620704), (2724, 0.0), (2725, 0.010499008532217897), (2726, 0.008406245362712042), (2727, 0.027341188743577154), (2728, 0.0037050805934074234), (2729, 0.0458533630025411), (2730, 0.017063206607823813), (2731, 0.005463872154776452), (2732, 0.00830264744788001), (2733, 0.010905114144044895), (2734, 0.003235250917171848), (2735, 0.0), (2736, 0.0), (2737, 0.00680578916036598), (2738, 0.004803621676362203), (2739, 0.0), (2740, 0.0), (2741, 0.011723245540047916), (2742, 0.0), (2743, 0.008416784663567423), (2744, 0.004218642073335094), (2745, 0.02531542196038172), (2746, 0.029639950200930826), (2747, 0.007054105006183858), (2748, 0.004426329928042524), (2749, 0.0), (2750, 0.0), (2751, 0.02378389901267695), (2752, 0.00855995351693077), (2753, 0.0), (2754, 0.004267513257089678), (2755, 0.004304200609253587), (2756, 0.027492136206364988), (2757, 0.0), (2758, 0.019395493572693615), (2759, 0.0), (2760, 0.0), (2761, 0.0), (2762, 0.0), (2763, 0.03755410784573632), (2764, 0.0057992069852470475), (2765, 0.023840154868412497), (2766, 0.007101401399553037), (2767, 0.02645547042066955), (2768, 0.0), (2769, 0.07037740331299579), (2770, 0.010766856595853014), (2771, 0.0), (2772, 0.02487141726200178), (2773, 0.0), (2774, 0.023576284662950142), (2775, 0.0), (2776, 0.008768049805616171), (2777, 0.0), (2778, 0.011870537233858685), (2779, 0.024279494884319314), (2780, 0.0), (2781, 0.04957736360459107), (2782, 0.014493629469519455), (2783, 0.0), (2784, 0.0), (2785, 0.0), (2786, 0.004359053102062817), (2787, 0.003870571379349169), (2788, 0.025533663784148425), (2789, 0.0), (2790, 0.025331514970948626), (2791, 0.011047767528973951), (2792, 0.01040064414821659), (2793, 0.0), (2794, 0.03369711626642278), (2795, 0.012397667779468127), (2796, 0.004658308800523959), (2797, 0.0049822507639501095), (2798, 0.0), (2799, 0.025560444877480663), (2800, 0.0), (2801, 0.0), (2802, 0.0), (2803, 0.0), (2804, 0.03255891843871335), (2805, 0.0035594717053414344), (2806, 0.009911596189716501), (2807, 0.0039933091759286245), (2808, 0.0), (2809, 0.0), (2810, 0.04270127922414688), (2811, 0.004457577771925831), (2812, 0.012270516347537593), (2813, 0.02915422488611431), (2814, 0.009314978270824911), (2815, 0.0), (2816, 0.004211744917222409), (2817, 0.00434040470285009), (2818, 0.11004951719995433), (2819, 0.0), (2820, 0.003560332027951378), (2821, 0.019811089738706916), (2822, 0.025855861741402926), (2823, 0.007707743464573169), (2824, 0.040384808185620534), (2825, 0.004021168804329915), (2826, 0.0), (2827, 0.0), (2828, 0.0), (2829, 0.021778979613578255), (2830, 0.0), (2831, 0.025050428110180704), (2832, 0.00534192519976433), (2833, 0.02026232131127057), (2834, 0.005049990405605832), (2835, 0.008178725111612531), (2836, 0.004038858191289496), (2837, 0.02248177944237889), (2838, 0.005202009208859338), (2839, 0.008878653613934782), (2840, 0.0), (2841, 0.00672857214513248), (2842, 0.010415113319279856), (2843, 0.015421652926251181), (2844, 0.007391648428471289), (2845, 0.04262679467386417), (2846, 0.004762909171805711), (2847, 0.009692528890081703), (2848, 0.0), (2849, 0.0), (2850, 0.0), (2851, 0.011011193606337311), (2852, 0.09986866127368597), (2853, 0.0), (2854, 0.0), (2855, 0.0034518766881715536), (2856, 0.02988136880073429), (2857, 0.03641968953280045), (2858, 0.005769545945629587), (2859, 0.0), (2860, 0.0), (2861, 0.0), (2862, 0.0), (2863, 0.0), (2864, 0.0), (2865, 0.0), (2866, 0.003787758065279091), (2867, 0.006979520890905639), (2868, 0.0), (2869, 0.014928905252841901), (2870, 0.0), (2871, 0.0), (2872, 0.004685534280855381), (2873, 0.028470037741086765), (2874, 0.003777879041800734), (2875, 0.005173503362340726), (2876, 0.0033996191457347246), (2877, 0.011659213121006621), (2878, 0.0), (2879, 0.0), (2880, 0.004387114506959921), (2881, 0.0), (2882, 0.0044232605578211626), (2883, 0.0), (2884, 0.004698917701128128), (2885, 0.017790256423586667), (2886, 0.0), (2887, 0.02797725978865903), (2888, 0.0), (2889, 0.0), (2890, 0.0), (2891, 0.005765814709828015), (2892, 0.0), (2893, 0.03767405485645721), (2894, 0.0), (2895, 0.03675627935096071), (2896, 0.013221952268867007), (2897, 0.003888017382221705), (2898, 0.0), (2899, 0.0), (2900, 0.0), (2901, 0.011490609913121733), (2902, 0.0), (2903, 0.0), (2904, 0.0), (2905, 0.0), (2906, 0.02239161884587571), (2907, 0.0), (2908, 0.007889038867846395), (2909, 0.00872849130465035), (2910, 0.0), (2911, 0.03195904232861159), (2912, 0.039279939898700815), (2913, 0.003338724513354133), (2914, 0.033367367407891854), (2915, 0.02620013076299275), (2916, 0.010024661988551483), (2917, 0.0), (2918, 0.009457972793270982), (2919, 0.0), (2920, 0.0), (2921, 0.0), (2922, 0.00553852680459867), (2923, 0.0), (2924, 0.004720729332019733), (2925, 0.0032681903492398673), (2926, 0.004256992049149527), (2927, 0.03032169037329701), (2928, 0.0052562346553632535), (2929, 0.0), (2930, 0.004475434586182972), (2931, 0.025856398427556538), (2932, 0.0), (2933, 0.0034568075551264163), (2934, 0.0), (2935, 0.0), (2936, 0.0), (2937, 0.0), (2938, 0.05303970620477883), (2939, 0.005069704345095511), (2940, 0.004350716321967767), (2941, 0.08924094663184297), (2942, 0.0), (2943, 0.0), (2944, 0.0), (2945, 0.003984505021817491), (2946, 0.0), (2947, 0.0), (2948, 0.00530083933421684), (2949, 0.01993928468783483), (2950, 0.0), (2951, 0.008968796659472802), (2952, 0.028703698889393326), (2953, 0.012750794033766964), (2954, 0.0037167142382878624), (2955, 0.0), (2956, 0.0), (2957, 0.0), (2958, 0.0), (2959, 0.0), (2960, 0.0), (2961, 0.0), (2962, 0.0038735043498378677), (2963, 0.0), (2964, 0.010490480792105667), (2965, 0.0), (2966, 0.0), (2967, 0.0), (2968, 0.004443042246372315), (2969, 0.0), (2970, 0.12276954092151984), (2971, 0.003541783605696833), (2972, 0.012272819265817496), (2973, 0.017613224942383397), (2974, 0.0), (2975, 0.0), (2976, 0.019680759286063512), (2977, 0.0), (2978, 0.004426049086750712), (2979, 0.015088001140315888), (2980, 0.008777378995640841), (2981, 0.0), (2982, 0.018341574226027665), (2983, 0.0051372818960729325), (2984, 0.0), (2985, 0.0209200619791678), (2986, 0.004814770583420063), (2987, 0.0), (2988, 0.0), (2989, 0.0), (2990, 0.02169610800549748), (2991, 0.0), (2992, 0.003795367631714246), (2993, 0.0), (2994, 0.004096892205950326), (2995, 0.0), (2996, 0.02053679004024304), (2997, 0.0), (2998, 0.013435836922491283), (2999, 0.004047420753292709), (3000, 0.012333880893405976), (3001, 0.0), (3002, 0.0), (3003, 0.014463788084734766), (3004, 0.0), (3005, 0.0), (3006, 0.0), (3007, 0.0), (3008, 0.07464067767097203), (3009, 0.005699717212008059), (3010, 0.0), (3011, 0.0), (3012, 0.0), (3013, 0.0), (3014, 0.0), (3015, 0.0), (3016, 0.008357488879217261), (3017, 0.004836247319531318), (3018, 0.004250934401517898), (3019, 0.0), (3020, 0.004941549992496432), (3021, 0.009265119371337893), (3022, 0.0), (3023, 0.0), (3024, 0.0), (3025, 0.0), (3026, 0.004497239262565101), (3027, 0.008053478733187678), (3028, 0.0), (3029, 0.0), (3030, 0.0), (3031, 0.014715261088062353), (3032, 0.0), (3033, 0.01301282680148197), (3034, 0.004096989661524273), (3035, 0.0), (3036, 0.0), (3037, 0.004296642567346997), (3038, 0.004258047250022796), (3039, 0.004606152673856676), (3040, 0.0056845317267064715), (3041, 0.004296535423217463), (3042, 0.0055152746840681395), (3043, 0.0), (3044, 0.01756809798705812), (3045, 0.0), (3046, 0.011815026689290365), (3047, 0.010939087082341014), (3048, 0.043910251344707406), (3049, 0.014957165957388045), (3050, 0.00372934412017358), (3051, 0.0171833582678922), (3052, 0.013409081932663049), (3053, 0.0), (3054, 0.004891102348028714), (3055, 0.0), (3056, 0.009979497745559363), (3057, 0.0), (3058, 0.04022141642499369), (3059, 0.0), (3060, 0.004137641347830025), (3061, 0.00425587572061155), (3062, 0.004512807870702199), (3063, 0.0035996911304936024), (3064, 0.0), (3065, 0.0), (3066, 0.030953488053820012), (3067, 0.0), (3068, 0.0), (3069, 0.009586849743827957), (3070, 0.003636082134022905), (3071, 0.003812653168875484), (3072, 0.011410047382342926), (3073, 0.023387790100567938), (3074, 0.004994065816334699), (3075, 0.0), (3076, 0.0), (3077, 0.007688074475021929), (3078, 0.032210564072162516), (3079, 0.0), (3080, 0.014512734394404548), (3081, 0.022085916840593918), (3082, 0.0036203193215710344), (3083, 0.014982236313263727), (3084, 0.013809364922776162), (3085, 0.0), (3086, 0.010605047104437248), (3087, 0.005135363934540175), (3088, 0.006052922387294216), (3089, 0.0158194524825973), (3090, 0.004002741489251416), (3091, 0.007491030618248639), (3092, 0.0), (3093, 0.0), (3094, 0.0), (3095, 0.0), (3096, 0.007779708163693589), (3097, 0.004488445438857722), (3098, 0.007395643993645718), (3099, 0.0), (3100, 0.0), (3101, 0.0), (3102, 0.004148612952411828), (3103, 0.0), (3104, 0.022678667106666717), (3105, 0.0302084049536297), (3106, 0.00405761299343512), (3107, 0.0), (3108, 0.02127543700392777), (3109, 0.004335166927682249), (3110, 0.0), (3111, 0.016020304490606735), (3112, 0.009623712894408698), (3113, 0.004151703503486099), (3114, 0.0), (3115, 0.02508994812413522), (3116, 0.009834647386582922), (3117, 0.02915704911936755), (3118, 0.0), (3119, 0.0), (3120, 0.023547204229054586), (3121, 0.00835811707526201), (3122, 0.0), (3123, 0.026667995113535736), (3124, 0.0), (3125, 0.0), (3126, 0.0), (3127, 0.00394286233080138), (3128, 0.0), (3129, 0.0), (3130, 0.0), (3131, 0.0), (3132, 0.0), (3133, 0.0), (3134, 0.0), (3135, 0.0), (3136, 0.011235320633070546), (3137, 0.04777502669720411), (3138, 0.022463408487406564), (3139, 0.005763064957678074), (3140, 0.015160292455361215), (3141, 0.02200214302364117), (3142, 0.018001662223891643), (3143, 0.011187988735849589), (3144, 0.006663750911892458), (3145, 0.0), (3146, 0.004553056916370818), (3147, 0.007578841485702116), (3148, 0.0), (3149, 0.00392626740234342), (3150, 0.004258844244621781), (3151, 0.01787667182859526), (3152, 0.0), (3153, 0.0), (3154, 0.0), (3155, 0.06033504908117712), (3156, 0.0), (3157, 0.0), (3158, 0.0), (3159, 0.10060659617302309), (3160, 0.0), (3161, 0.0), (3162, 0.062487460566004925), (3163, 0.0), (3164, 0.0034470665594202128), (3165, 0.0), (3166, 0.00564626919589875), (3167, 0.0), (3168, 0.004583521890587462), (3169, 0.01652236258038034), (3170, 0.0), (3171, 0.0), (3172, 0.004739703774381299), (3173, 0.0), (3174, 0.0), (3175, 0.00436182364472726), (3176, 0.0), (3177, 0.0038666873821409423), (3178, 0.0064356814006768254), (3179, 0.0), (3180, 0.010921854080609089), (3181, 0.03170167219454133), (3182, 0.008293081495637726), (3183, 0.01764871534258266), (3184, 0.02731766477674782), (3185, 0.0), (3186, 0.04209700143423517), (3187, 0.01370154220498709), (3188, 0.004065862965640225), (3189, 0.026335781483686444), (3190, 0.018675552920688197), (3191, 0.0), (3192, 0.019838837679673094), (3193, 0.11415878262776391), (3194, 0.0038420260872269844), (3195, 0.0), (3196, 0.0), (3197, 0.05418780170998602), (3198, 0.004204988286151794), (3199, 0.0), (3200, 0.0), (3201, 0.0), (3202, 0.013097497760381466), (3203, 0.0049022545868195174), (3204, 0.042410037672573654), (3205, 0.0073023193939683075), (3206, 0.030772271778645808), (3207, 0.004473142981644655), (3208, 0.02630301718118401), (3209, 0.023248409110544235), (3210, 0.0), (3211, 0.029769867271972957), (3212, 0.01893199011496885), (3213, 0.0), (3214, 0.0038860705490953553), (3215, 0.0), (3216, 0.009769172846468862), (3217, 0.005245467719547225), (3218, 0.02527153972923351), (3219, 0.011695904587898712), (3220, 0.013572801703538131), (3221, 0.046414532186813656), (3222, 0.0), (3223, 0.0), (3224, 0.004237894864932823), (3225, 0.0), (3226, 0.0), (3227, 0.0), (3228, 0.0), (3229, 0.013522430327021346), (3230, 0.011333680887903912), (3231, 0.0036450988433474455), (3232, 0.03437940631496558), (3233, 0.0), (3234, 0.014231814660329432), (3235, 0.0), (3236, 0.026660160546160765), (3237, 0.0), (3238, 0.011204963927580669), (3239, 0.010263919995445339), (3240, 0.0), (3241, 0.0), (3242, 0.0), (3243, 0.0), (3244, 0.0037288080730622716), (3245, 0.02296760526814769), (3246, 0.003902244760276298), (3247, 0.0), (3248, 0.0), (3249, 0.005091028801008791), (3250, 0.003817607386755416), (3251, 0.0), (3252, 0.0), (3253, 0.004628900069027836), (3254, 0.0), (3255, 0.0), (3256, 0.0671100566562122), (3257, 0.004904753040582616), (3258, 0.00442623750300177), (3259, 0.004292825975099953), (3260, 0.003993713078595334), (3261, 0.0), (3262, 0.012631687788935631), (3263, 0.0), (3264, 0.010365885791442184), (3265, 0.008389668016970794), (3266, 0.005630825327194601), (3267, 0.0036934706004189545), (3268, 0.0), (3269, 0.0), (3270, 0.004044035119660444), (3271, 0.008796348352099977), (3272, 0.025466432261821298), (3273, 0.0), (3274, 0.0), (3275, 0.029314186057229748), (3276, 0.018184453054126082), (3277, 0.004286023378134253), (3278, 0.0), (3279, 0.0), (3280, 0.0), (3281, 0.0), (3282, 0.005278854624492042), (3283, 0.0041461078665204765), (3284, 0.0), (3285, 0.0), (3286, 0.043848974560438014), (3287, 0.03007510156445347), (3288, 0.003982682776652099), (3289, 0.004171559837903155), (3290, 0.004188984259630764), (3291, 0.013192428076360112), (3292, 0.0), (3293, 0.0), (3294, 0.009054588355466242), (3295, 0.0037043062557502392), (3296, 0.0), (3297, 0.018160118564296904), (3298, 0.0), (3299, 0.0), (3300, 0.01753700153005007), (3301, 0.0), (3302, 0.014677370124080788), (3303, 0.004142296973342483), (3304, 0.012575008390205688), (3305, 0.0), (3306, 0.0), (3307, 0.013993030810678016), (3308, 0.019080492203612503), (3309, 0.007773867167498265), (3310, 0.00424639619826128), (3311, 0.0036821089696107995), (3312, 0.0), (3313, 0.008014890287244432), (3314, 0.01277605782026508), (3315, 0.0038884772997112805), (3316, 0.014354918836428593), (3317, 0.0), (3318, 0.0), (3319, 0.007611640137612693), (3320, 0.003823099032593961), (3321, 0.0037662521606956485), (3322, 0.0), (3323, 0.023687503564317054), (3324, 0.004783784353465607), (3325, 0.0), (3326, 0.0), (3327, 0.03161876942909164), (3328, 0.0), (3329, 0.0037212781107774703), (3330, 0.009783626413553358), (3331, 0.026370898802519582), (3332, 0.0041192474052895766), (3333, 0.0), (3334, 0.0), (3335, 0.018961502039353005), (3336, 0.0), (3337, 0.00469673005462624), (3338, 0.00914608739361943), (3339, 0.0), (3340, 0.009731416955044139), (3341, 0.00984455019093328), (3342, 0.011186038854821513), (3343, 0.00406638526054501), (3344, 0.0), (3345, 0.0), (3346, 0.0), (3347, 0.0), (3348, 0.05799311179608237), (3349, 0.004223068891958822), (3350, 0.06765245490481375), (3351, 0.016820872246766982), (3352, 0.007828851798316506), (3353, 0.0), (3354, 0.0), (3355, 0.0), (3356, 0.0), (3357, 0.00505967448513005), (3358, 0.0), (3359, 0.0), (3360, 0.00794978009614125), (3361, 0.0), (3362, 0.0), (3363, 0.0), (3364, 0.016031941649101357), (3365, 0.0), (3366, 0.02809668479496265), (3367, 0.0), (3368, 0.0), (3369, 0.0), (3370, 0.008687195571930569), (3371, 0.004509117099222214), (3372, 0.0), (3373, 0.018139856457626044), (3374, 0.009742658329338676), (3375, 0.003946038232274574), (3376, 0.0), (3377, 0.0), (3378, 0.004247547481176181), (3379, 0.008774363518856855), (3380, 0.0), (3381, 0.0), (3382, 0.004247425808561145), (3383, 0.004609073527487335), (3384, 0.0), (3385, 0.0), (3386, 0.0041244131189182775), (3387, 0.0), (3388, 0.004288722575126246), (3389, 0.011974784640145153), (3390, 0.008527174678893527), (3391, 0.028351408075580245), (3392, 0.04305924637687658), (3393, 0.013861369292641678), (3394, 0.0), (3395, 0.026725389731161283), (3396, 0.0), (3397, 0.026108476963219072), (3398, 0.03262688700227146), (3399, 0.0), (3400, 0.003980743462053115), (3401, 0.010405573712831429), (3402, 0.003966619836317689), (3403, 0.0), (3404, 0.0), (3405, 0.0), (3406, 0.010360476325314805), (3407, 0.0), (3408, 0.004707228671435419), (3409, 0.0), (3410, 0.003275567601038504), (3411, 0.0035712534625532938), (3412, 0.0), (3413, 0.004889160026734024), (3414, 0.0), (3415, 0.014534273977772013), (3416, 0.025057178966227372), (3417, 0.010812348539958275), (3418, 0.0073880685632007875), (3419, 0.0), (3420, 0.0), (3421, 0.002816110942066655), (3422, 0.004293459536159045), (3423, 0.0), (3424, 0.004459745515402367), (3425, 0.0), (3426, 0.00913222509679423), (3427, 0.0560655984321885), (3428, 0.023484902253725737), (3429, 0.02396712331283031), (3430, 0.0033881563956936664), (3431, 0.0), (3432, 0.0), (3433, 0.0), (3434, 0.0), (3435, 0.0), (3436, 0.009880177301626512), (3437, 0.0), (3438, 0.0), (3439, 0.005279639015568728), (3440, 0.053809709649831325), (3441, 0.0), (3442, 0.004317658582821729), (3443, 0.004014919692737469), (3444, 0.05819784918807214), (3445, 0.0), (3446, 0.012371516088119636), (3447, 0.007955059796243854), (3448, 0.0), (3449, 0.015006837916116006), (3450, 0.0), (3451, 0.0), (3452, 0.0), (3453, 0.0), (3454, 0.0), (3455, 0.0), (3456, 0.0), (3457, 0.02667558170169637), (3458, 0.0), (3459, 0.008132232502937481), (3460, 0.009027297910673724), (3461, 0.04055016943171284), (3462, 0.004121046028459236), (3463, 0.0), (3464, 0.031269302050347045), (3465, 0.0), (3466, 0.0), (3467, 0.0), (3468, 0.0), (3469, 0.013490408414588444), (3470, 0.02815173301013488), (3471, 0.0), (3472, 0.02377559030548249), (3473, 0.07697991688043027), (3474, 0.0), (3475, 0.026198401082229532), (3476, 0.02467676626144244), (3477, 0.004036296125321315), (3478, 0.0), (3479, 0.021523661054861355), (3480, 0.0), (3481, 0.024484407455973408), (3482, 0.025174874023255092), (3483, 0.0), (3484, 0.046450260692048204), (3485, 0.036556275592050706), (3486, 0.0), (3487, 0.0), (3488, 0.0), (3489, 0.004195824312964205), (3490, 0.0039089275565375725), (3491, 0.0), (3492, 0.0), (3493, 0.023792529806900872), (3494, 0.004096628823064045), (3495, 0.0), (3496, 0.004369295106840659), (3497, 0.0), (3498, 0.009379794142328684), (3499, 0.0), (3500, 0.003776447983689595), (3501, 0.009978963042780913), (3502, 0.0), (3503, 0.03944780571564111), (3504, 0.01880599860726224), (3505, 0.02796297043031229), (3506, 0.0), (3507, 0.0), (3508, 0.0040058683567320095), (3509, 0.0035315700447285945), (3510, 0.004388249365967901), (3511, 0.0), (3512, 0.030886738778810457), (3513, 0.016886050045925347), (3514, 0.004249466453701063), (3515, 0.028147106629074384), (3516, 0.0), (3517, 0.020855678158843854), (3518, 0.0138231210366107), (3519, 0.004481474246560095), (3520, 0.0), (3521, 0.0), (3522, 0.012328935600312044), (3523, 0.0), (3524, 0.010529819226994778), (3525, 0.0), (3526, 0.004165712900022988), (3527, 0.0), (3528, 0.03361894720018637), (3529, 0.004472861275275667), (3530, 0.01913042014143943), (3531, 0.013469932280040803), (3532, 0.0), (3533, 0.008501848837223764), (3534, 0.0), (3535, 0.0), (3536, 0.00928614012339919), (3537, 0.005048837898684101), (3538, 0.012851045630519456), (3539, 0.030994318915606583), (3540, 0.010438416013102714), (3541, 0.004094577825976656), (3542, 0.0), (3543, 0.01290976271608809), (3544, 0.004954844416888244), (3545, 0.012923420605195178), (3546, 0.0), (3547, 0.0), (3548, 0.0), (3549, 0.0042097060169127305), (3550, 0.05188308722999364), (3551, 0.0), (3552, 0.0066202548648672315), (3553, 0.0), (3554, 0.015761267676524526), (3555, 0.0), (3556, 0.0), (3557, 0.01755263318817499), (3558, 0.0), (3559, 0.003411820929080704), (3560, 0.011030374590759876), (3561, 0.06411615094390956), (3562, 0.04350286770452481), (3563, 0.011866738595362669), (3564, 0.0), (3565, 0.008056927868931415), (3566, 0.0), (3567, 0.0), (3568, 0.011552880366530655), (3569, 0.0), (3570, 0.004045035371943353), (3571, 0.012486981387249262), (3572, 0.004506609931773787), (3573, 0.0), (3574, 0.044215703143473534), (3575, 0.0032884699108223624), (3576, 0.0), (3577, 0.005030467439257646), (3578, 0.0), (3579, 0.0034744986084833045), (3580, 0.003988042227159772), (3581, 0.014312984127891226), (3582, 0.0039213183732355935), (3583, 0.0), (3584, 0.017308901543273494), (3585, 0.007934643341425743), (3586, 0.0), (3587, 0.0), (3588, 0.0), (3589, 0.0552607079897768), (3590, 0.0), (3591, 0.004248339037684489), (3592, 0.005060794767877357), (3593, 0.009990561402402075), (3594, 0.0), (3595, 0.013287163788874881), (3596, 0.0), (3597, 0.0), (3598, 0.003603307229934794), (3599, 0.004250105625764666), (3600, 0.0), (3601, 0.004341125936427737), (3602, 0.0), (3603, 0.004148188142352923), (3604, 0.010782613767192218), (3605, 0.0), (3606, 0.013275429421595186), (3607, 0.03006481414556416), (3608, 0.0), (3609, 0.0), (3610, 0.0374183839082611), (3611, 0.0), (3612, 0.012050959105527465), (3613, 0.011038865456861545), (3614, 0.0), (3615, 0.0), (3616, 0.01619114874763191), (3617, 0.0), (3618, 0.0), (3619, 0.0), (3620, 0.010897987786219072), (3621, 0.01896483485505871), (3622, 0.0076307806443829335), (3623, 0.02255395112886968), (3624, 0.0), (3625, 0.0), (3626, 0.0031229208087667423), (3627, 0.0), (3628, 0.059239841395830904), (3629, 0.0), (3630, 0.007026514072431854), (3631, 0.26223669639894676), (3632, 0.013308451475160188), (3633, 0.02605514721686269), (3634, 0.008300272158388149), (3635, 0.0), (3636, 0.0), (3637, 0.0), (3638, 0.04394977793090275), (3639, 0.0), (3640, 0.010948294779211935), (3641, 0.0039312058771162235), (3642, 0.013062938850498137), (3643, 0.009091975655888531), (3644, 0.003999263870840145), (3645, 0.0), (3646, 0.012311459065318586), (3647, 0.0), (3648, 0.004211667549361332), (3649, 0.0046177618136800085), (3650, 0.03534622782534014), (3651, 0.0), (3652, 0.004497677430099893), (3653, 0.012279648070664303), (3654, 0.0), (3655, 0.0), (3656, 0.04268165204089104), (3657, 0.0), (3658, 0.003420472901059061), (3659, 0.01312914342466801), (3660, 0.0), (3661, 0.0), (3662, 0.05078977304802149), (3663, 0.0), (3664, 0.0), (3665, 0.004060815412155945), (3666, 0.03891607256587974), (3667, 0.01944516561986791), (3668, 0.0), (3669, 0.0), (3670, 0.0), (3671, 0.036213258108374655), (3672, 0.0), (3673, 0.012967474478283485), (3674, 0.003436015767830154), (3675, 0.0), (3676, 0.0041134612022534), (3677, 0.0), (3678, 0.008660736072454574), (3679, 0.0), (3680, 0.027244144724672664), (3681, 0.00451872257141229), (3682, 0.009937065094902126), (3683, 0.004166640725413288), (3684, 0.012052444962370304), (3685, 0.028540555652982937), (3686, 0.004839075996578619), (3687, 0.0), (3688, 0.004510297813383894), (3689, 0.0), (3690, 0.0), (3691, 0.0), (3692, 0.0), (3693, 0.07464793718439802), (3694, 0.013036923541116642), (3695, 0.022965428070377908), (3696, 0.04466293746326312), (3697, 0.0), (3698, 0.0), (3699, 0.0), (3700, 0.0), (3701, 0.00917511228247428), (3702, 0.0), (3703, 0.0), (3704, 0.009671525248323373), (3705, 0.0), (3706, 0.0), (3707, 0.0), (3708, 0.0), (3709, 0.0), (3710, 0.0), (3711, 0.020143889613433746), (3712, 0.0038557704189987464), (3713, 0.0), (3714, 0.013167062718875404), (3715, 0.005252518715200392), (3716, 0.011702162740822948), (3717, 0.0), (3718, 0.0), (3719, 0.0), (3720, 0.0), (3721, 0.015980502788209425), (3722, 0.013386922696051046), (3723, 0.0), (3724, 0.0), (3725, 0.0), (3726, 0.008072548200681005), (3727, 0.009733526198256912), (3728, 0.013922997898549238), (3729, 0.0), (3730, 0.004449698116518281), (3731, 0.0), (3732, 0.003792328299483216), (3733, 0.020980134680554523), (3734, 0.011361807832312339), (3735, 0.08391910454729018), (3736, 0.007645341355316981), (3737, 0.0), (3738, 0.02326348057732234), (3739, 0.004115253062058539), (3740, 0.02039696093489886), (3741, 0.02539642702090314), (3742, 0.0), (3743, 0.0), (3744, 0.0), (3745, 0.0), (3746, 0.00881013516923294), (3747, 0.0), (3748, 0.0035218853367117654), (3749, 0.010703858019520401), (3750, 0.0), (3751, 0.01725717087376849), (3752, 0.015206422201795343), (3753, 0.02023908313749213), (3754, 0.004720606385112188), (3755, 0.003597484428766547), (3756, 0.0), (3757, 0.0), (3758, 0.0048683808343093285), (3759, 0.02602583289096707), (3760, 0.0), (3761, 0.0), (3762, 0.0), (3763, 0.015344683799414695), (3764, 0.00804448516152246), (3765, 0.013490145948804006), (3766, 0.014365656223662579), (3767, 0.057347976853828316), (3768, 0.0), (3769, 0.0), (3770, 0.012597091250442104), (3771, 0.0), (3772, 0.01580400221702577), (3773, 0.0), (3774, 0.0), (3775, 0.0), (3776, 0.0), (3777, 0.0), (3778, 0.0), (3779, 0.0), (3780, 0.012862167923282831), (3781, 0.03290195217462517), (3782, 0.0), (3783, 0.011361683518806242), (3784, 0.017762547025704668), (3785, 0.007910066080109213), (3786, 0.0), (3787, 0.0), (3788, 0.0), (3789, 0.004807202442632699), (3790, 0.1005001235757112), (3791, 0.004644663077586254), (3792, 0.004139500627619334), (3793, 0.009651031157116085), (3794, 0.0), (3795, 0.0), (3796, 0.031585657982470164), (3797, 0.0), (3798, 0.0), (3799, 0.0), (3800, 0.005370309937158248), (3801, 0.0), (3802, 0.010749489784652526), (3803, 0.025453544320828143), (3804, 0.0), (3805, 0.06055088092952362), (3806, 0.0), (3807, 0.008902777583722087), (3808, 0.004519463894913891), (3809, 0.0), (3810, 0.0), (3811, 0.003837315388224207), (3812, 0.045969132118050676), (3813, 0.009765049491208577), (3814, 0.0), (3815, 0.0), (3816, 0.027401633028415827), (3817, 0.038754900068724084), (3818, 0.004036701804218614), (3819, 0.0), (3820, 0.004601790337226105), (3821, 0.0), (3822, 0.01461940052423053), (3823, 0.0), (3824, 0.003885049664458419), (3825, 0.0), (3826, 0.018041892411117373), (3827, 0.0), (3828, 0.0), (3829, 0.0), (3830, 0.0), (3831, 0.0), (3832, 0.009938464068256379), (3833, 0.0), (3834, 0.0), (3835, 0.06727930204273024), (3836, 0.013544113619833665), (3837, 0.004468071873756814), (3838, 0.0), (3839, 0.0037545016852070525), (3840, 0.0), (3841, 0.008025951309851174), (3842, 0.00370489241344192), (3843, 0.02301575197115062), (3844, 0.005100825871173829), (3845, 0.004245732366645457), (3846, 0.009537261426441063), (3847, 0.02591511232259864), (3848, 0.0), (3849, 0.0), (3850, 0.012873743341738868), (3851, 0.004660493016107168), (3852, 0.0), (3853, 0.011374529601266439), (3854, 0.0), (3855, 0.0034538721381667764), (3856, 0.0035227744875340364), (3857, 0.0), (3858, 0.03633014175763148), (3859, 0.0038501217117953446), (3860, 0.0), (3861, 0.0036043284481754104), (3862, 0.0), (3863, 0.0), (3864, 0.0038413005617745103), (3865, 0.034699653550036846), (3866, 0.004692034794699671), (3867, 0.0), (3868, 0.021750573246508382), (3869, 0.0), (3870, 0.021057780410173296), (3871, 0.026115837974097954), (3872, 0.0), (3873, 0.0), (3874, 0.0), (3875, 0.0033085234612557075), (3876, 0.0), (3877, 0.0), (3878, 0.012902645465298913), (3879, 0.003946352028973666), (3880, 0.04773967462997577), (3881, 0.0), (3882, 0.0042840347179366215), (3883, 0.01373144506881923), (3884, 0.0), (3885, 0.003702946379033226), (3886, 0.034290741662920246), (3887, 0.0), (3888, 0.015946796615823322), (3889, 0.0044145240668487335), (3890, 0.007876092349496027), (3891, 0.0), (3892, 0.016925811121075534), (3893, 0.060339708298030655), (3894, 0.007849083281608722), (3895, 0.03862632400285305), (3896, 0.0039250496726452345), (3897, 0.012772107484914731), (3898, 0.0), (3899, 0.0), (3900, 0.0), (3901, 0.0), (3902, 0.0), (3903, 0.0), (3904, 0.0), (3905, 0.004305702346643967), (3906, 0.0), (3907, 0.0), (3908, 0.0), (3909, 0.0037977492849580845), (3910, 0.04903678157524871), (3911, 0.05533986340617093), (3912, 0.013302033723536211), (3913, 0.011121181346630173), (3914, 0.007126193262097314), (3915, 0.05030355672585007), (3916, 0.013733175654800318), (3917, 0.0), (3918, 0.0), (3919, 0.02376305770087841), (3920, 0.0), (3921, 0.08991410123972125), (3922, 0.005024928620423156), (3923, 0.011963517107522803), (3924, 0.0), (3925, 0.0), (3926, 0.013041127217567911), (3927, 0.0), (3928, 0.0), (3929, 0.0), (3930, 0.004214105137863433), (3931, 0.0047616772812519815), (3932, 0.0), (3933, 0.0036283150093304965), (3934, 0.008645029339810784), (3935, 0.023135866400174544), (3936, 0.005149387817678615), (3937, 0.0), (3938, 0.022765011445616504), (3939, 0.0), (3940, 0.0), (3941, 0.0038144833366092977), (3942, 0.0), (3943, 0.05132945578000525), (3944, 0.0), (3945, 0.0), (3946, 0.0), (3947, 0.0), (3948, 0.007912947080550958), (3949, 0.12382120442217023), (3950, 0.009049650927165264), (3951, 0.0), (3952, 0.004667988014039997), (3953, 0.0), (3954, 0.0), (3955, 0.055739191577197665), (3956, 0.0), (3957, 0.0), (3958, 0.0), (3959, 0.0), (3960, 0.0), (3961, 0.0), (3962, 0.025530254549252493), (3963, 0.011956180011622497), (3964, 0.004546069339347509), (3965, 0.0038875029648209273), (3966, 0.0), (3967, 0.008999547563392244), (3968, 0.0), (3969, 0.008552410447460022), (3970, 0.0), (3971, 0.0032826271660886474), (3972, 0.06397420973328742), (3973, 0.00866768338965915), (3974, 0.04207298584454777), (3975, 0.0), (3976, 0.0), (3977, 0.0), (3978, 0.0), (3979, 0.0), (3980, 0.007179698240493133), (3981, 0.0), (3982, 0.0), (3983, 0.0), (3984, 0.004280838110658112), (3985, 0.0), (3986, 0.0), (3987, 0.0), (3988, 0.005123555340485232), (3989, 0.08999343944940266), (3990, 0.04560803917083458), (3991, 0.023596850061962507), (3992, 0.004601202681504906), (3993, 0.0), (3994, 0.05427897840690806), (3995, 0.0), (3996, 0.00485333543368751), (3997, 0.0), (3998, 0.003921545657400695), (3999, 0.0), (4000, 0.0), (4001, 0.04783255137516106), (4002, 0.0), (4003, 0.07465323192396728), (4004, 0.0), (4005, 0.0), (4006, 0.0), (4007, 0.005787931004922072), (4008, 0.023591419540729512), (4009, 0.023119648534654653), (4010, 0.0474681005572018), (4011, 0.0), (4012, 0.007683375349593596), (4013, 0.013115248709766571), (4014, 0.0), (4015, 0.008098130598613052), (4016, 0.009790031048591413), (4017, 0.0163470527892712), (4018, 0.006938776602572951), (4019, 0.0), (4020, 0.01841104570656028), (4021, 0.012508528618819483), (4022, 0.0), (4023, 0.004807044884878898), (4024, 0.0), (4025, 0.014407582625460966), (4026, 0.008969498746861536), (4027, 0.004298221597820219), (4028, 0.06788765684784145), (4029, 0.013609711301143121), (4030, 0.0), (4031, 0.015220403443908067), (4032, 0.0), (4033, 0.0), (4034, 0.0277595392504505), (4035, 0.0035417915176634033), (4036, 0.003977247265558141), (4037, 0.04278486448099649), (4038, 0.0), (4039, 0.0), (4040, 0.0052525376487517865), (4041, 0.012184227432166255), (4042, 0.010842771000337136), (4043, 0.0), (4044, 0.0), (4045, 0.0), (4046, 0.0), (4047, 0.0), (4048, 0.0), (4049, 0.004131120115284954), (4050, 0.0), (4051, 0.03252243979674035), (4052, 0.00430203341686852), (4053, 0.010930772000589674), (4054, 0.004316158302682697), (4055, 0.0), (4056, 0.0), (4057, 0.0), (4058, 0.11235956588153846), (4059, 0.0), (4060, 0.0), (4061, 0.030762525481431727), (4062, 0.014590622309573352), (4063, 0.0), (4064, 0.004515566069849845), (4065, 0.0), (4066, 0.025548499153077112), (4067, 0.014417413198510313), (4068, 0.0), (4069, 0.0), (4070, 0.01204857033789918), (4071, 0.027582131814635705), (4072, 0.0), (4073, 0.003967414903145431), (4074, 0.0), (4075, 0.0), (4076, 0.0), (4077, 0.0), (4078, 0.0), (4079, 0.0), (4080, 0.0), (4081, 0.0), (4082, 0.0), (4083, 0.010249123697147313), (4084, 0.005234097935103318), (4085, 0.0), (4086, 0.03148095481458977), (4087, 0.021343724993147104), (4088, 0.0), (4089, 0.0), (4090, 0.0), (4091, 0.034760230916532374), (4092, 0.011109588367831385), (4093, 0.004163815565831596), (4094, 0.008724734384396776), (4095, 0.0), (4096, 0.0), (4097, 0.03231022504714199), (4098, 0.0), (4099, 0.029084498902685572), (4100, 0.0), (4101, 0.0), (4102, 0.005168296081868809), (4103, 0.0), (4104, 0.003608047766872948), (4105, 0.0045690488173185774), (4106, 0.010784947499715569), (4107, 0.0), (4108, 0.004554709456296504), (4109, 0.003683101466748547), (4110, 0.0), (4111, 0.004357551430549931), (4112, 0.028396695684459353), (4113, 0.03327632568565435), (4114, 0.01394866673823739), (4115, 0.018738441912779014), (4116, 0.0), (4117, 0.004646566390429213), (4118, 0.047155229930878825), (4119, 0.010911129253093345), (4120, 0.0), (4121, 0.01579525877322339), (4122, 0.0), (4123, 0.0), (4124, 0.0), (4125, 0.004227713734061697), (4126, 0.0), (4127, 0.004940937081093212), (4128, 0.0), (4129, 0.0), (4130, 0.010729983560120615), (4131, 0.0043559565066021945), (4132, 0.0975561453594678), (4133, 0.0), (4134, 0.0), (4135, 0.05488141274611153), (4136, 0.021872301216002886), (4137, 0.0188326927228284), (4138, 0.013352521343381805), (4139, 0.0), (4140, 0.03473097378266466), (4141, 0.0), (4142, 0.0), (4143, 0.04163020013263315), (4144, 0.013513600624300126), (4145, 0.0), (4146, 0.02561991222332123), (4147, 0.01962436058745536), (4148, 0.0), (4149, 0.008230546271796719), (4150, 0.0), (4151, 0.0), (4152, 0.0), (4153, 0.010977611646838508), (4154, 0.0), (4155, 0.0), (4156, 0.01412768226722782), (4157, 0.008770247069226963), (4158, 0.0), (4159, 0.011289776072859754), (4160, 0.010034307137207382), (4161, 0.0), (4162, 0.0), (4163, 0.0), (4164, 0.0), (4165, 0.011108945256834835), (4166, 0.005255069007565126), (4167, 0.0), (4168, 0.009153193763881993), (4169, 0.0), (4170, 0.0), (4171, 0.0), (4172, 0.0), (4173, 0.10345439316477936), (4174, 0.00374656765935312), (4175, 0.0), (4176, 0.0), (4177, 0.014772348291554929), (4178, 0.0), (4179, 0.0), (4180, 0.050930352181140226), (4181, 0.0), (4182, 0.003088222234067385), (4183, 0.0095215963035825), (4184, 0.02927011168514656), (4185, 0.013508696267258279), (4186, 0.012712606347647532), (4187, 0.0), (4188, 0.0), (4189, 0.0), (4190, 0.015528443481325309), (4191, 0.026351983945954754), (4192, 0.003941703632127489), (4193, 0.0), (4194, 0.025716235344307857), (4195, 0.029074504340459235), (4196, 0.08773613158337001), (4197, 0.004149652771898589), (4198, 0.00537479960506423), (4199, 0.03609080585217063), (4200, 0.0033654463008196463), (4201, 0.0), (4202, 0.0), (4203, 0.004718307711377634), (4204, 0.00484479020222555), (4205, 0.0), (4206, 0.003866507107960057), (4207, 0.03157274558453874), (4208, 0.0), (4209, 0.014761370802302531), (4210, 0.029508349942524895), (4211, 0.0), (4212, 0.0), (4213, 0.0038706061762630328), (4214, 0.004123069442159699), (4215, 0.0), (4216, 0.0), (4217, 0.007863003696914074), (4218, 0.012735858685878135), (4219, 0.0), (4220, 0.0), (4221, 0.016105964714028802), (4222, 0.005459127442349388), (4223, 0.006239300750655509), (4224, 0.009600911521105421), (4225, 0.0), (4226, 0.07602194927672133), (4227, 0.0), (4228, 0.0), (4229, 0.0), (4230, 0.0), (4231, 0.0), (4232, 0.0), (4233, 0.008622608044500614), (4234, 0.003970904783491154), (4235, 0.0), (4236, 0.0), (4237, 0.0036238839456997607), (4238, 0.0), (4239, 0.005623638807539735), (4240, 0.0), (4241, 0.0), (4242, 0.04227681911969698), (4243, 0.0), (4244, 0.0), (4245, 0.012942737162754027), (4246, 0.0038540751014034197), (4247, 0.0), (4248, 0.009758923504262093), (4249, 0.0), (4250, 0.016749136889255205), (4251, 0.0), (4252, 0.00391636222329089), (4253, 0.011523639249512357), (4254, 0.0038220117883358685), (4255, 0.0), (4256, 0.01710300452968503), (4257, 0.0038345297776509737), (4258, 0.023937760220001922), (4259, 0.014462444952978607), (4260, 0.02402625772965675), (4261, 0.0), (4262, 0.0), (4263, 0.015295894264280904), (4264, 0.0), (4265, 0.010389515601119566), (4266, 0.022061696007537664), (4267, 0.0), (4268, 0.05562904108736774), (4269, 0.0), (4270, 0.023342853127366447), (4271, 0.0), (4272, 0.0038616371490790865), (4273, 0.0), (4274, 0.011045844924481723), (4275, 0.0), (4276, 0.0), (4277, 0.017093009327225333), (4278, 0.009733352218205808), (4279, 0.0), (4280, 0.0), (4281, 0.0), (4282, 0.0), (4283, 0.0), (4284, 0.0), (4285, 0.0047768138313766), (4286, 0.012736260116310247), (4287, 0.004205336430879316), (4288, 0.0), (4289, 0.0), (4290, 0.0), (4291, 0.004064796006109579), (4292, 0.029806135022305336), (4293, 0.004542184166005767), (4294, 0.0), (4295, 0.01840118238997797), (4296, 0.0), (4297, 0.0037300978668246138), (4298, 0.014778639208491677), (4299, 0.0), (4300, 0.004102319699631696), (4301, 0.0), (4302, 0.0), (4303, 0.045856126670188034), (4304, 0.0527645934303263), (4305, 0.0037814648430690555), (4306, 0.0), (4307, 0.0), (4308, 0.004463882595239859), (4309, 0.0), (4310, 0.0), (4311, 0.003307063480351384), (4312, 0.0), (4313, 0.041876471032583774), (4314, 0.03054858645291039), (4315, 0.004334778291658985), (4316, 0.013936805846279071), (4317, 0.004615776745728795), (4318, 0.0), (4319, 0.023364694134868327), (4320, 0.0), (4321, 0.013221567579362646), (4322, 0.008988582756130046), (4323, 0.021216497456892955), (4324, 0.0178668598044363), (4325, 0.0037755279982829896), (4326, 0.0), (4327, 0.003966941055003912), (4328, 0.0), (4329, 0.01336899129554559), (4330, 0.030830298828860053), (4331, 0.0), (4332, 0.004416102112044488), (4333, 0.0), (4334, 0.0), (4335, 0.00463642395448696), (4336, 0.0), (4337, 0.0), (4338, 0.009775280963611285), (4339, 0.0), (4340, 0.009256276035131815), (4341, 0.03450959760927895), (4342, 0.04025366240257315), (4343, 0.0), (4344, 0.064382074206677), (4345, 0.0), (4346, 0.055402061509663265), (4347, 0.035487299968247135), (4348, 0.00823035078295341), (4349, 0.0), (4350, 0.0), (4351, 0.031198365572998012), (4352, 0.0), (4353, 0.01399632817328122), (4354, 0.0), (4355, 0.0), (4356, 0.01210890619276958), (4357, 0.05644185747767378), (4358, 0.01938362954253143), (4359, 0.0), (4360, 0.0), (4361, 0.0), (4362, 0.0), (4363, 0.0), (4364, 0.00895820318928461), (4365, 0.0), (4366, 0.010831452915187091), (4367, 0.00394457697861504), (4368, 0.027115125395546266), (4369, 0.013859077081476812), (4370, 0.017212969486032473), (4371, 0.01396226055087239), (4372, 0.019954125315154735), (4373, 0.0), (4374, 0.0), (4375, 0.009967856392879984), (4376, 0.01006493143070702), (4377, 0.0), (4378, 0.012655962250138769), (4379, 0.0), (4380, 0.009107914052132567), (4381, 0.0), (4382, 0.01558443082584075), (4383, 0.0), (4384, 0.0), (4385, 0.0), (4386, 0.0), (4387, 0.0), (4388, 0.023376614357258442), (4389, 0.0), (4390, 0.0), (4391, 0.0), (4392, 0.012684786651493626), (4393, 0.0), (4394, 0.028927063421101306), (4395, 0.02137330466704513), (4396, 0.010012998384295466), (4397, 0.009960365006707642), (4398, 0.029389302410160304), (4399, 0.0), (4400, 0.0), (4401, 0.0), (4402, 0.0), (4403, 0.032417283388980575), (4404, 0.00415868136228775), (4405, 0.008133770034505076), (4406, 0.012741925732682775), (4407, 0.0), (4408, 0.004887128687219572), (4409, 0.0), (4410, 0.0), (4411, 0.0), (4412, 0.0), (4413, 0.004413601400031666), (4414, 0.007440127950101744), (4415, 0.0), (4416, 0.0), (4417, 0.0), (4418, 0.0), (4419, 0.0), (4420, 0.004292148340423621), (4421, 0.004249125905128121), (4422, 0.004206447065800765), (4423, 0.0254600494378463), (4424, 0.0), (4425, 0.0), (4426, 0.003512204222469384), (4427, 0.008939658413214679), (4428, 0.009321805035371392), (4429, 0.0), (4430, 0.0), (4431, 0.0), (4432, 0.0), (4433, 0.06252050949322353), (4434, 0.00389931661897792), (4435, 0.0), (4436, 0.0), (4437, 0.010984415730203121), (4438, 0.00858026276817812), (4439, 0.0), (4440, 0.01776025122725744), (4441, 0.009325543890142604), (4442, 0.04928867295508429), (4443, 0.014757048491693025), (4444, 0.015780059562077824), (4445, 0.0), (4446, 0.015234430999547662), (4447, 0.022741637442804864), (4448, 0.0042509699842765945), (4449, 0.0), (4450, 0.0), (4451, 0.004802629741561885), (4452, 0.004604055927743018), (4453, 0.01799511931885573), (4454, 0.015021178554475535), (4455, 0.030111115707694324), (4456, 0.0), (4457, 0.028984951248867734), (4458, 0.0), (4459, 0.011589049989059103), (4460, 0.004614032795624296), (4461, 0.0), (4462, 0.0), (4463, 0.004518226960511696), (4464, 0.02779928870409756), (4465, 0.0), (4466, 0.012543752089364113), (4467, 0.012443292296212004), (4468, 0.0), (4469, 0.0), (4470, 0.0), (4471, 0.0), (4472, 0.0), (4473, 0.003545141779689069), (4474, 0.0), (4475, 0.0), (4476, 0.0), (4477, 0.0), (4478, 0.009568381233260839), (4479, 0.01109485001532336), (4480, 0.005731299151413085), (4481, 0.0), (4482, 0.008876500522302886), (4483, 0.015531839975425708), (4484, 0.018516050864378828), (4485, 0.0), (4486, 0.014394670156859213), (4487, 0.0), (4488, 0.0), (4489, 0.004317147956028731), (4490, 0.0), (4491, 0.0), (4492, 0.04179750811467853), (4493, 0.06048992596550138), (4494, 0.0), (4495, 0.0), (4496, 0.06859060470058216), (4497, 0.0), (4498, 0.00667174911699144), (4499, 0.0), (4500, 0.011827606559193113), (4501, 0.009041982292647459), (4502, 0.0), (4503, 0.0), (4504, 0.0), (4505, 0.0), (4506, 0.004859805896986598), (4507, 0.004675428681824252), (4508, 0.0), (4509, 0.0), (4510, 0.0), (4511, 0.0), (4512, 0.0), (4513, 0.0), (4514, 0.004923558281334541), (4515, 0.009958933898207177), (4516, 0.010262625257149157), (4517, 0.0), (4518, 0.01462356923615416), (4519, 0.02905348530373073), (4520, 0.0), (4521, 0.0), (4522, 0.00443593128501787), (4523, 0.0), (4524, 0.0), (4525, 0.011031221906966671), (4526, 0.028539282832292984), (4527, 0.0), (4528, 0.0), (4529, 0.0), (4530, 0.0039809230561578795), (4531, 0.05132547199970474), (4532, 0.0), (4533, 0.012328782665792518), (4534, 0.0), (4535, 0.0), (4536, 0.0), (4537, 0.005298616503702724), (4538, 0.0), (4539, 0.0), (4540, 0.0), (4541, 0.0), (4542, 0.0040244169519513635), (4543, 0.0), (4544, 0.046755824251603934), (4545, 0.010623591635243127), (4546, 0.0), (4547, 0.0), (4548, 0.0), (4549, 0.010890400303285816), (4550, 0.0), (4551, 0.027756584374513036), (4552, 0.004219195204249671), (4553, 0.0), (4554, 0.011669526802426423), (4555, 0.030357638364695887), (4556, 0.012737097559077128), (4557, 0.0043178104018126), (4558, 0.0035665389509334524), (4559, 0.02597291905664187), (4560, 0.004328814702469039), (4561, 0.0), (4562, 0.0250228150704768), (4563, 0.012352661578571004), (4564, 0.003919327994068699), (4565, 0.0), (4566, 0.0), (4567, 0.10676503473330495), (4568, 0.0), (4569, 0.00840126503353661), (4570, 0.03477655359628524), (4571, 0.006468121226851907), (4572, 0.0), (4573, 0.0), (4574, 0.023409622721486754), (4575, 0.0), (4576, 0.05425052508562736), (4577, 0.012751279883992451), (4578, 0.0), (4579, 0.0), (4580, 0.017984769691108758), (4581, 0.0), (4582, 0.0), (4583, 0.0), (4584, 0.014162241366447755), (4585, 0.0), (4586, 0.012543739715103398), (4587, 0.01148110025814655), (4588, 0.0), (4589, 0.011490460621666155), (4590, 0.01957742365907667), (4591, 0.0), (4592, 0.004057897585929001), (4593, 0.0), (4594, 0.0), (4595, 0.0), (4596, 0.0035876238945539984), (4597, 0.0), (4598, 0.007021303534954366), (4599, 0.0421259934213374), (4600, 0.003725083467065279), (4601, 0.0), (4602, 0.0), (4603, 0.0037969619492497927), (4604, 0.008998044993557792), (4605, 0.02072875639347058), (4606, 0.0), (4607, 0.0), (4608, 0.008711700159346974), (4609, 0.004098483692332482), (4610, 0.0034162401286008336), (4611, 0.0), (4612, 0.012221311210351473), (4613, 0.029766379809835052), (4614, 0.0), (4615, 0.0), (4616, 0.0), (4617, 0.0), (4618, 0.0), (4619, 0.0), (4620, 0.0), (4621, 0.012588059144309974), (4622, 0.004320765219765915), (4623, 0.0), (4624, 0.010294319057302844), (4625, 0.0), (4626, 0.051153772760795135), (4627, 0.0034927565907687764), (4628, 0.020836479166845317), (4629, 0.0), (4630, 0.013509143913712728), (4631, 0.004943057308584737), (4632, 0.014201973659320159), (4633, 0.026714990532632918), (4634, 0.0), (4635, 0.0), (4636, 0.0034326516140743227), (4637, 0.0), (4638, 0.0), (4639, 0.012605152563046982), (4640, 0.01869591397933321), (4641, 0.0), (4642, 0.0), (4643, 0.012391260427744698), (4644, 0.0), (4645, 0.0), (4646, 0.015359101350288753), (4647, 0.003680793075706243), (4648, 0.004209696511441035), (4649, 0.011062893693694634), (4650, 0.004691002676220677), (4651, 0.0), (4652, 0.0031113005345270615), (4653, 0.0), (4654, 0.0), (4655, 0.004308542132685953), (4656, 0.0), (4657, 0.010558271953075911), (4658, 0.009437948245701494), (4659, 0.010593763418711218), (4660, 0.0), (4661, 0.0), (4662, 0.026474795591392944), (4663, 0.0), (4664, 0.0), (4665, 0.0), (4666, 0.0), (4667, 0.003806599703490165), (4668, 0.0), (4669, 0.0), (4670, 0.01787580842586948), (4671, 0.0), (4672, 0.0), (4673, 0.009508280312830533), (4674, 0.0), (4675, 0.10444928293437304), (4676, 0.03052076804447021), (4677, 0.08243881178988399), (4678, 0.012312135565626211), (4679, 0.008630750777596036), (4680, 0.0), (4681, 0.0), (4682, 0.0), (4683, 0.0), (4684, 0.0), (4685, 0.0), (4686, 0.05619514471830754), (4687, 0.011778888392233573), (4688, 0.01600300459542749), (4689, 0.0), (4690, 0.003817325181097973), (4691, 0.0), (4692, 0.0), (4693, 0.0), (4694, 0.0), (4695, 0.0), (4696, 0.0), (4697, 0.0), (4698, 0.0), (4699, 0.0), (4700, 0.08073383897424447), (4701, 0.0), (4702, 0.004133382061353879), (4703, 0.02000108351313116), (4704, 0.0), (4705, 0.0), (4706, 0.004522285750268261), (4707, 0.0), (4708, 0.011954341943727737), (4709, 0.0), (4710, 0.012408991594127934), (4711, 0.01536714281286752), (4712, 0.0), (4713, 0.0), (4714, 0.05758311452451481), (4715, 0.0), (4716, 0.0), (4717, 0.004806381246319181), (4718, 0.010037379645012301), (4719, 0.007883660030913552), (4720, 0.0049405451479615425), (4721, 0.036720835028041424), (4722, 0.0), (4723, 0.0), (4724, 0.0), (4725, 0.004968996406396486), (4726, 0.013108124957141715), (4727, 0.0), (4728, 0.0), (4729, 0.0), (4730, 0.032891432274865975), (4731, 0.0), (4732, 0.0), (4733, 0.0), (4734, 0.004398957603138197), (4735, 0.0), (4736, 0.012039012347764532), (4737, 0.014763046876183001), (4738, 0.004068655127559532), (4739, 0.0), (4740, 0.011618839212773726), (4741, 0.0), (4742, 0.0), (4743, 0.0), (4744, 0.0032997699680945704), (4745, 0.0), (4746, 0.0046168334307160165), (4747, 0.0), (4748, 0.010432951681745635), (4749, 0.01616663503999509), (4750, 0.0), (4751, 0.0), (4752, 0.007032025240572181), (4753, 0.0), (4754, 0.049334260100042326), (4755, 0.0), (4756, 0.013514485068847528), (4757, 0.0), (4758, 0.09581265523608475), (4759, 0.0)]\n"
          ]
        }
      ]
    },
    {
      "cell_type": "code",
      "source": [
        "len(Recommendation_Score)"
      ],
      "metadata": {
        "colab": {
          "base_uri": "https://localhost:8080/"
        },
        "id": "iuCkOJjuX1iK",
        "outputId": "7c9abba8-5910-45c7-c9f7-c21fc3087520"
      },
      "execution_count": 64,
      "outputs": [
        {
          "output_type": "execute_result",
          "data": {
            "text/plain": [
              "4760"
            ]
          },
          "metadata": {},
          "execution_count": 64
        }
      ]
    },
    {
      "cell_type": "markdown",
      "source": [
        "# **Get All Movies Sort Based on Recommendation Score wrt Favourite Movie**"
      ],
      "metadata": {
        "id": "9R0xU_KeX8yB"
      }
    },
    {
      "cell_type": "code",
      "source": [
        "# sorting the movies based on their similarity score\n",
        "\n",
        "Sorted_Similar_Movies = sorted(Recommendation_Score, key = lambda x:x[1], reverse = True)\n",
        "print(Sorted_Similar_Movies)"
      ],
      "metadata": {
        "colab": {
          "base_uri": "https://localhost:8080/"
        },
        "id": "kDNvy_MwYPdr",
        "outputId": "2de39a6c-875d-407c-a680-413ecaa7b15a"
      },
      "execution_count": 65,
      "outputs": [
        {
          "output_type": "stream",
          "name": "stdout",
          "text": [
            "[(245, 1.0000000000000002), (3631, 0.26223669639894676), (2708, 0.13697548549099517), (2244, 0.13696108971268742), (1437, 0.1311941720390266), (2091, 0.12626462491749152), (1246, 0.12561996729174357), (3949, 0.12382120442217023), (2970, 0.12276954092151984), (73, 0.11841411903099693), (2561, 0.11621015348927057), (1217, 0.11605526051622873), (3193, 0.11415878262776391), (4058, 0.11235956588153846), (2818, 0.11004951719995433), (1247, 0.10789586730404044), (4567, 0.10676503473330495), (50, 0.10461942595113961), (4675, 0.10444928293437304), (1120, 0.1036092755589699), (4173, 0.10345439316477936), (1468, 0.10262576533934474), (2308, 0.10198058100426803), (3159, 0.10060659617302309), (3790, 0.1005001235757112), (2852, 0.09986866127368597), (4132, 0.0975561453594678), (147, 0.09664659205586505), (998, 0.09642570045640893), (2704, 0.0963883298341245), (752, 0.09615057833963099), (4758, 0.09581265523608475), (2267, 0.09187425055765233), (2414, 0.09071708535663324), (1810, 0.09043536638070704), (3989, 0.08999343944940266), (1582, 0.08994420557198846), (3921, 0.08991410123972125), (1507, 0.0893561247393113), (2941, 0.08924094663184297), (4196, 0.08773613158337001), (1988, 0.08703721466894718), (1198, 0.08699269458301138), (795, 0.08660737051859914), (2577, 0.08638576258317729), (3735, 0.08391910454729018), (898, 0.08316518142943431), (2030, 0.08253587954249537), (4677, 0.08243881178988399), (1229, 0.08227964665209066), (248, 0.08093793705491696), (4700, 0.08073383897424447), (2537, 0.08064855426656012), (1525, 0.08037545658592878), (2365, 0.07702549613259135), (3473, 0.07697991688043027), (40, 0.07696026684908235), (2672, 0.07686165071164826), (2050, 0.07607819740386478), (4226, 0.07602194927672133), (1958, 0.07586159811483953), (2205, 0.07575893362064698), (1011, 0.0750722192801835), (2019, 0.07488773595252832), (4003, 0.07465323192396728), (3693, 0.07464793718439802), (3008, 0.07464067767097203), (2342, 0.07321096137844665), (1244, 0.07306649386826956), (718, 0.07306605563456697), (279, 0.0730484374351018), (1100, 0.07296836268459869), (579, 0.07295749993249934), (1702, 0.07221123895438061), (1554, 0.07197458884897949), (1963, 0.07107489047859669), (2368, 0.07106562433359426), (674, 0.0710019789055151), (1428, 0.07063658495664621), (2769, 0.07037740331299579), (4496, 0.06859060470058216), (1328, 0.06802243294134526), (4028, 0.06788765684784145), (3350, 0.06765245490481375), (3835, 0.06727930204273024), (3256, 0.0671100566562122), (1256, 0.0668826414203167), (404, 0.06626495092960306), (1824, 0.0658538089349729), (141, 0.06582084634820003), (1496, 0.06460357526382872), (2069, 0.06452353084180118), (2040, 0.06447305176978499), (4344, 0.064382074206677), (3561, 0.06411615094390956), (3972, 0.06397420973328742), (2496, 0.0634992891667908), (1887, 0.06329656034416292), (537, 0.0632373212374163), (1344, 0.06309667094112796), (235, 0.06304346315693098), (207, 0.062750037094996), (4433, 0.06252050949322353), (3162, 0.062487460566004925), (59, 0.062023918737262165), (1647, 0.061885325826279036), (969, 0.06116452567649572), (46, 0.06103832092058575), (28, 0.06084247449511689), (3805, 0.06055088092952362), (4493, 0.06048992596550138), (3893, 0.060339708298030655), (3155, 0.06033504908117712), (955, 0.05940553414674407), (3628, 0.059239841395830904), (191, 0.05859385492027602), (3444, 0.05819784918807214), (1121, 0.05802260686014175), (3348, 0.05799311179608237), (1334, 0.057662444169095245), (4714, 0.05758311452451481), (3767, 0.057347976853828316), (2141, 0.05732825086224249), (708, 0.05729715063543938), (277, 0.05696415365732797), (1336, 0.05688142873935637), (582, 0.056777691616199645), (641, 0.05668715672875114), (304, 0.05649823485243249), (4357, 0.05644185747767378), (4686, 0.05619514471830754), (886, 0.05618017893965544), (378, 0.05609383624085165), (3427, 0.0560655984321885), (507, 0.055986494514027194), (3955, 0.055739191577197665), (4268, 0.05562904108736774), (715, 0.05561827528446694), (460, 0.05559500012244079), (1766, 0.05555379742057612), (4346, 0.055402061509663265), (3911, 0.05533986340617093), (837, 0.05532494617303879), (3589, 0.0552607079897768), (893, 0.055259063055955154), (4135, 0.05488141274611153), (3994, 0.05427897840690806), (4576, 0.05425052508562736), (3197, 0.05418780170998602), (3440, 0.053809709649831325), (1310, 0.05355100315008368), (1923, 0.053525158336617557), (1881, 0.05314959514651053), (2248, 0.05309940881581693), (2938, 0.05303970620477883), (171, 0.053019159034473136), (2679, 0.05285343643234519), (4304, 0.0527645934303263), (698, 0.05256179447857427), (1054, 0.05245849283191113), (520, 0.052359560506672884), (740, 0.05234568544842328), (1516, 0.0523326641750926), (3550, 0.05188308722999364), (1879, 0.05140868202019463), (3943, 0.05132945578000525), (4531, 0.05132547199970474), (1560, 0.051298723466257246), (1270, 0.051205428864886805), (1926, 0.05118060738961999), (4626, 0.051153772760795135), (4180, 0.050930352181140226), (3662, 0.05078977304802149), (736, 0.050721079241425285), (2097, 0.05039748921187198), (3915, 0.05030355672585007), (2022, 0.05024964102884952), (1981, 0.05004410707506369), (1059, 0.05000295420099128), (391, 0.04983258291595673), (268, 0.04981683380294886), (1944, 0.049770810295377436), (493, 0.049630774948618006), (2781, 0.04957736360459107), (4754, 0.049334260100042326), (4442, 0.04928867295508429), (1771, 0.049234622622279504), (2559, 0.04906334680403274), (3910, 0.04903678157524871), (2381, 0.048753735245391824), (1769, 0.04825680051606731), (2669, 0.04813558442735935), (415, 0.0480827385394932), (1384, 0.048008631436526374), (712, 0.047861340279235325), (4001, 0.04783255137516106), (3137, 0.04777502669720411), (3880, 0.04773967462997577), (4010, 0.0474681005572018), (1330, 0.047310722276017694), (936, 0.04730189774028204), (1575, 0.047244804055360266), (4118, 0.047155229930878825), (344, 0.04712574014119318), (354, 0.04709660861354502), (1941, 0.04706287393639279), (2052, 0.046949757436931826), (1602, 0.04685934755800044), (4544, 0.046755824251603934), (3484, 0.046450260692048204), (3221, 0.046414532186813656), (2532, 0.04639207963404917), (1308, 0.046332059718635556), (3812, 0.045969132118050676), (219, 0.045952512195241546), (2534, 0.045915507950505356), (2151, 0.04588733173426021), (4303, 0.045856126670188034), (2729, 0.0458533630025411), (645, 0.04561879968006822), (3990, 0.04560803917083458), (2719, 0.045549106201038), (1016, 0.045003998608952066), (1758, 0.044992929967076274), (3696, 0.04466293746326312), (2183, 0.0443804014792549), (2329, 0.04429951993218274), (3574, 0.044215703143473534), (611, 0.043957470550950145), (3638, 0.04394977793090275), (962, 0.04391449779716801), (3048, 0.043910251344707406), (3286, 0.043848974560438014), (920, 0.043838567971509756), (1524, 0.043735313585026976), (3562, 0.04350286770452481), (2507, 0.04330999196269039), (1852, 0.04307582263466078), (3392, 0.04305924637687658), (72, 0.04279334509730468), (1389, 0.04278600852954088), (4037, 0.04278486448099649), (2810, 0.04270127922414688), (3656, 0.04268165204089104), (488, 0.04267953426718086), (2845, 0.04262679467386417), (665, 0.04261939910915387), (2555, 0.0425619308882777), (1025, 0.04255473001585131), (3204, 0.042410037672573654), (2332, 0.042347444558916134), (4242, 0.04227681911969698), (1250, 0.042249427022808886), (4599, 0.0421259934213374), (3186, 0.04209700143423517), (1592, 0.04208363014200041), (3974, 0.04207298584454777), (4313, 0.041876471032583774), (4492, 0.04179750811467853), (1844, 0.041765746406393196), (4143, 0.04163020013263315), (146, 0.04147912569962464), (392, 0.041330896009767866), (1067, 0.04132955688146166), (254, 0.04131078093442603), (361, 0.04130280085747418), (1720, 0.040929460404208466), (9, 0.04083305436739238), (3461, 0.04055016943171284), (2440, 0.040489930755341096), (2092, 0.040393579828866495), (2824, 0.040384808185620534), (346, 0.040373913262036105), (4342, 0.04025366240257315), (3058, 0.04022141642499369), (1578, 0.04006664518170659), (130, 0.04005795562335829), (2656, 0.040001006546097034), (826, 0.03997222113726221), (2654, 0.039810784652066986), (1085, 0.039666221912060595), (1677, 0.03963845396472526), (1495, 0.03958550454793981), (3503, 0.03944780571564111), (2912, 0.039279939898700815), (1700, 0.039206321538283975), (1323, 0.03915869394376831), (1304, 0.038981160299311854), (3666, 0.03891607256587974), (255, 0.03887813269101021), (3817, 0.038754900068724084), (3895, 0.03862632400285305), (1470, 0.03842931195066136), (1606, 0.03822798591915093), (1291, 0.03810657473954322), (2504, 0.037989192663324144), (2549, 0.03790814883821235), (1278, 0.03787999398886841), (670, 0.037843822700411506), (2150, 0.03767902942771063), (2893, 0.03767405485645721), (2595, 0.0376728529463862), (2763, 0.03755410784573632), (3610, 0.0374183839082611), (1220, 0.037413491263152424), (2263, 0.03739117618796798), (2462, 0.03732815567266788), (1239, 0.037139648321489076), (311, 0.036907396292228556), (185, 0.036784795090059996), (2895, 0.03675627935096071), (4721, 0.036720835028041424), (2515, 0.03663000105961859), (1007, 0.03661285400384239), (3485, 0.036556275592050706), (2857, 0.03641968953280045), (1775, 0.03641403230992425), (3858, 0.03633014175763148), (614, 0.03629689918873148), (3671, 0.036213258108374655), (1984, 0.03614058050591746), (4199, 0.03609080585217063), (409, 0.035822268157873864), (2259, 0.035744125681986), (1118, 0.035672672768385316), (1106, 0.0355135012044545), (4347, 0.035487299968247135), (2610, 0.03548246929270778), (3650, 0.03534622782534014), (2434, 0.035271810185160984), (2542, 0.03527082455779949), (1790, 0.035171827175957106), (1706, 0.03515604310602431), (1049, 0.03498528935114389), (2251, 0.03489645471674701), (217, 0.03484594859481293), (14, 0.03481049008502566), (4570, 0.03477655359628524), (4091, 0.034760230916532374), (4140, 0.03473097378266466), (3865, 0.034699653550036846), (4341, 0.03450959760927895), (461, 0.03445141683192553), (1666, 0.034414058805320544), (3232, 0.03437940631496558), (431, 0.034378670960428896), (2082, 0.03436996952248923), (3886, 0.034290741662920246), (1689, 0.03414946423600937), (1114, 0.03414199214522959), (91, 0.0340431754694124), (2668, 0.033998191027789594), (2644, 0.03397474313914943), (2320, 0.033888877178840454), (992, 0.033844119429615155), (773, 0.033745647431704454), (2794, 0.03369711626642278), (2291, 0.033642499075774636), (3528, 0.03361894720018637), (17, 0.033605024837590744), (765, 0.0334818711207686), (2484, 0.03345569673645439), (1855, 0.03339711173697958), (2914, 0.033367367407891854), (2673, 0.0333640854854712), (4113, 0.03327632568565435), (1588, 0.03305463900567677), (2487, 0.032986871202764244), (1585, 0.032984886462209796), (2497, 0.032976914670022485), (2436, 0.032975942196062535), (1613, 0.032953816670090105), (2243, 0.03293786280564088), (1634, 0.03292667915255947), (756, 0.03291182706926513), (3781, 0.03290195217462517), (4730, 0.032891432274865975), (1999, 0.032862543402721066), (1307, 0.032785379236837525), (2473, 0.032745741926689394), (3398, 0.03262688700227146), (2521, 0.03257593918844857), (2804, 0.03255891843871335), (4051, 0.03252243979674035), (4403, 0.032417283388980575), (2525, 0.03237698049686385), (2014, 0.03237309969832884), (4097, 0.03231022504714199), (365, 0.03230656398787274), (3078, 0.032210564072162516), (2306, 0.03217863364867559), (1386, 0.03216231147423793), (362, 0.03212025343754643), (2375, 0.03202538621023339), (2603, 0.032000086503556735), (2911, 0.03195904232861159), (363, 0.03178973625063143), (1804, 0.03177776650273757), (3181, 0.03170167219454133), (3327, 0.03161876942909164), (2615, 0.03159876713779253), (3796, 0.031585657982470164), (4207, 0.03157274558453874), (524, 0.03154252582637401), (4086, 0.03148095481458977), (1640, 0.03142146349214623), (1907, 0.03137829957139358), (1711, 0.03137775354619919), (1856, 0.03137687144728757), (3464, 0.031269302050347045), (4351, 0.031198365572998012), (1253, 0.031193821284107286), (1849, 0.031189027544787862), (2047, 0.031149914931584276), (735, 0.031040451794192202), (459, 0.03103810122833946), (1333, 0.03102364682419383), (1529, 0.031016010150740823), (3539, 0.030994318915606583), (3066, 0.030953488053820012), (2217, 0.030887397222347585), (3512, 0.030886738778810457), (4330, 0.030830298828860053), (2516, 0.030824989599325246), (3206, 0.030772271778645808), (1315, 0.030771253442921385), (4061, 0.030762525481431727), (2584, 0.030577979737669427), (4314, 0.03054858645291039), (4676, 0.03052076804447021), (2210, 0.030446717946502996), (1295, 0.03040674018703193), (2635, 0.030387401336181532), (4555, 0.030357638364695887), (2927, 0.03032169037329701), (3105, 0.0302084049536297), (1426, 0.030171937044559657), (1165, 0.030135177314059222), (4455, 0.030111115707694324), (961, 0.030099834813997712), (421, 0.03009194231388259), (3287, 0.03007510156445347), (3607, 0.03006481414556416), (1274, 0.03004354377057037), (2094, 0.029936433363101818), (1530, 0.029887908149045544), (2856, 0.02988136880073429), (4292, 0.029806135022305336), (110, 0.02979315943914394), (3211, 0.029769867271972957), (242, 0.0297693414361406), (4613, 0.029766379809835052), (1166, 0.029655046620343323), (2746, 0.029639950200930826), (2099, 0.02961212656347436), (1476, 0.02953403740458744), (2709, 0.029517099855307434), (4210, 0.029508349942524895), (2041, 0.029504098192495627), (4398, 0.029389302410160304), (3275, 0.029314186057229748), (4184, 0.02927011168514656), (2153, 0.02925119538220786), (1505, 0.029176394061359804), (3117, 0.02915704911936755), (2813, 0.02915422488611431), (379, 0.029133801987706157), (4099, 0.029084498902685572), (4195, 0.029074504340459235), (4519, 0.02905348530373073), (4457, 0.028984951248867734), (4394, 0.028927063421101306), (823, 0.028909247053706667), (2278, 0.02889137723917918), (1837, 0.028806646134314242), (2952, 0.028703698889393326), (3685, 0.028540555652982937), (4526, 0.028539282832292984), (2499, 0.028497092632723105), (990, 0.028488888145491463), (2873, 0.028470037741086765), (4112, 0.028396695684459353), (3391, 0.028351408075580245), (1544, 0.028322434926886346), (932, 0.028279640027361514), (1811, 0.02824944435573741), (662, 0.02820680197691485), (3470, 0.02815173301013488), (3515, 0.028147106629074384), (3366, 0.02809668479496265), (48, 0.02802420232778636), (2887, 0.02797725978865903), (3505, 0.02796297043031229), (2271, 0.02792212485124621), (1474, 0.027904471137859682), (2636, 0.027873593202678248), (2372, 0.02782327753962373), (448, 0.027808928930521462), (4464, 0.02779928870409756), (4034, 0.0277595392504505), (4551, 0.027756584374513036), (1460, 0.027700327918747054), (1327, 0.0276645136143498), (1178, 0.02765022087194399), (1211, 0.027622301692107207), (4071, 0.027582131814635705), (1959, 0.027512195331082314), (2756, 0.027492136206364988), (1850, 0.027417162812066097), (3816, 0.027401633028415827), (2717, 0.027374068515800397), (2727, 0.027341188743577154), (903, 0.02732535897287317), (3184, 0.02731766477674782), (2398, 0.02728490607727418), (2604, 0.027279177025569708), (2170, 0.02726122845530391), (3680, 0.027244144724672664), (2643, 0.02715427954925479), (4368, 0.027115125395546266), (1745, 0.02707736054862765), (74, 0.02704973907538201), (2450, 0.02704451121587488), (794, 0.02704088827316333), (2171, 0.02703124455911434), (1600, 0.026999755278511988), (1642, 0.02697979748635429), (2451, 0.026873680306025296), (1140, 0.026854466295524303), (1297, 0.026824852408573015), (414, 0.02681319575682163), (2609, 0.02675156647074383), (2666, 0.02674358847711053), (1567, 0.02672644647851218), (3395, 0.026725389731161283), (4633, 0.026714990532632918), (3457, 0.02667558170169637), (3123, 0.026667995113535736), (3236, 0.026660160546160765), (2207, 0.026634167857015063), (2587, 0.02662675168103041), (1714, 0.02659830427206566), (1222, 0.026558837185147385), (2715, 0.026516919695502218), (4662, 0.026474795591392944), (2767, 0.02645547042066955), (600, 0.026390879974695452), (1799, 0.02638737820266255), (599, 0.02638587823748972), (3331, 0.026370898802519582), (4191, 0.026351983945954754), (3189, 0.026335781483686444), (3208, 0.02630301718118401), (2915, 0.02620013076299275), (3475, 0.026198401082229532), (714, 0.02619527354113202), (303, 0.02614392555977781), (2012, 0.02614218002778306), (925, 0.02613787968718797), (3871, 0.026115837974097954), (3397, 0.026108476963219072), (3633, 0.02605514721686269), (3759, 0.02602583289096707), (1841, 0.026024453585451475), (949, 0.026005668075351283), (4559, 0.02597291905664187), (1195, 0.025936814602170392), (3847, 0.02591511232259864), (2931, 0.025856398427556538), (2822, 0.025855861741402926), (1601, 0.025823041571872204), (2339, 0.025818304963479036), (730, 0.02581035063701556), (4194, 0.025716235344307857), (1928, 0.025699283356900457), (4146, 0.02561991222332123), (258, 0.025607305623509075), (912, 0.025581769134567736), (2290, 0.02557944414168315), (2799, 0.025560444877480663), (4066, 0.025548499153077112), (2788, 0.025533663784148425), (3962, 0.025530254549252493), (1704, 0.025506164806957797), (1883, 0.025491500616528016), (2433, 0.02547627634469953), (3272, 0.025466432261821298), (4423, 0.0254600494378463), (3803, 0.025453544320828143), (1889, 0.025448734972115437), (3741, 0.02539642702090314), (1163, 0.025388940862320446), (1260, 0.02535727461398887), (2790, 0.025331514970948626), (1922, 0.025318291960612995), (2745, 0.02531542196038172), (1175, 0.02531138824218969), (2652, 0.02529603541857931), (909, 0.02528957179516323), (628, 0.025286874912385175), (3218, 0.02527153972923351), (2539, 0.025254761574237977), (39, 0.025183596091938282), (3482, 0.025174874023255092), (1521, 0.02512592243298683), (2583, 0.025090192722531483), (3115, 0.02508994812413522), (3416, 0.025057178966227372), (2831, 0.025050428110180704), (4562, 0.0250228150704768), (982, 0.025006033907332206), (410, 0.024978840696263355), (774, 0.024963574323814988), (2688, 0.02495907910432289), (1008, 0.024928730908077925), (2772, 0.02487141726200178), (423, 0.02483460537309113), (247, 0.024798494022306047), (2408, 0.024776998336879304), (204, 0.02476484543427775), (1621, 0.024725058673525584), (118, 0.024720675496321124), (3476, 0.02467676626144244), (261, 0.024538714871772227), (1520, 0.02451536740720575), (325, 0.024506688478559097), (3481, 0.024484407455973408), (1731, 0.024484192510577853), (919, 0.024483779187690975), (701, 0.024405616309892863), (1607, 0.02436694289028614), (349, 0.02432505924354136), (2086, 0.02432295923149228), (2592, 0.024322103371840764), (2779, 0.024279494884319314), (854, 0.024272801004101334), (2095, 0.024165253868105967), (1816, 0.024160503957352746), (550, 0.024149199585768666), (1013, 0.024130640973453), (462, 0.02410388118834359), (2038, 0.02410019560634548), (2154, 0.024038263661694974), (4260, 0.02402625772965675), (3429, 0.02396712331283031), (4258, 0.023937760220001922), (2765, 0.023840154868412497), (1193, 0.0238201327427056), (1755, 0.02381029127579469), (3493, 0.023792529806900872), (767, 0.02379159742085975), (2751, 0.02378389901267695), (2472, 0.023779839708326957), (3472, 0.02377559030548249), (3919, 0.02376305770087841), (2572, 0.023758214702399076), (1664, 0.023697864255516475), (859, 0.02369444090788229), (3323, 0.023687503564317054), (1317, 0.023619023771256662), (1456, 0.023607329520211537), (3991, 0.023596850061962507), (4008, 0.023591419540729512), (2774, 0.023576284662950142), (463, 0.023571279610546704), (2456, 0.02357068192161821), (3120, 0.023547204229054586), (1469, 0.02353303010430098), (1537, 0.02352166329735814), (3428, 0.023484902253725737), (426, 0.02345890878325811), (4574, 0.023409622721486754), (3073, 0.023387790100567938), (4388, 0.023376614357258442), (4319, 0.023364694134868327), (4270, 0.023342853127366447), (2684, 0.0233398874838514), (1820, 0.023269030429354715), (3738, 0.02326348057732234), (3209, 0.023248409110544235), (1425, 0.023232142495797976), (2312, 0.023203445262309403), (1354, 0.02313666210805651), (3935, 0.023135866400174544), (335, 0.02313211228748576), (4009, 0.023119648534654653), (1979, 0.023023056062337784), (2390, 0.023016962748919328), (3843, 0.02301575197115062), (1611, 0.022972710368676985), (3245, 0.02296760526814769), (3695, 0.022965428070377908), (320, 0.022920605809158376), (465, 0.02289746079498289), (2192, 0.0228922550199183), (2640, 0.022875920701682644), (2492, 0.022874175989163262), (2137, 0.022842818566625973), (2135, 0.022817794967062214), (3938, 0.022765011445616504), (2081, 0.02275594942493322), (2236, 0.022746133381073452), (4447, 0.022741637442804864), (3104, 0.022678667106666717), (3623, 0.02255395112886968), (1168, 0.02253567326689765), (2065, 0.022532970967043896), (2479, 0.022492540964469523), (2837, 0.02248177944237889), (3138, 0.022463408487406564), (1757, 0.022393311023703625), (2906, 0.02239161884587571), (1800, 0.022389739873399046), (1109, 0.02238482362771401), (1084, 0.022377541948562677), (1090, 0.02231323949298724), (1130, 0.022274830417546965), (1531, 0.02218431506378577), (345, 0.02213364878485282), (1373, 0.02212470683188617), (3081, 0.022085916840593918), (1510, 0.022071910678863244), (4266, 0.022061696007537664), (1368, 0.022034296115691795), (2247, 0.022008498155617336), (3141, 0.02200214302364117), (2467, 0.021931779983765817), (315, 0.021930654825504957), (4136, 0.021872301216002886), (2367, 0.021860451127596586), (1298, 0.021848193278866633), (1231, 0.021782894490021774), (2829, 0.021778979613578255), (2070, 0.021754674163801096), (3868, 0.021750573246508382), (1526, 0.02172277259831939), (2225, 0.02171178874344133), (2990, 0.02169610800549748), (1878, 0.021683784273419323), (1288, 0.02156794282277388), (3479, 0.021523661054861355), (269, 0.0215208943602405), (2, 0.02146977549750966), (2322, 0.021400905803860337), (2352, 0.02138420712556055), (4395, 0.02137330466704513), (2179, 0.021354836623143428), (4087, 0.021343724993147104), (2566, 0.021342365149194624), (177, 0.021330535220912793), (3108, 0.02127543700392777), (4323, 0.021216497456892955), (576, 0.021155489554477328), (791, 0.021092387464202982), (3870, 0.021057780410173296), (575, 0.021040382618235723), (797, 0.021021544105298107), (58, 0.020980369401172014), (3733, 0.020980134680554523), (2985, 0.0209200619791678), (3517, 0.020855678158843854), (4628, 0.020836479166845317), (1616, 0.020831399198587817), (1391, 0.02081944381861426), (1794, 0.020800414523124207), (490, 0.02079093982567063), (1014, 0.02073761921827007), (4605, 0.02072875639347058), (2176, 0.020716984988397323), (1225, 0.020712870990588102), (2034, 0.02066327300157714), (768, 0.02059409925513065), (2200, 0.020583564788334993), (564, 0.020569664631304104), (632, 0.02054484686248838), (2996, 0.02053679004024304), (307, 0.020507767943707816), (1395, 0.020472756419360562), (1473, 0.020401996899900667), (3740, 0.02039696093489886), (522, 0.02038087210554549), (129, 0.020356240889904915), (918, 0.020318802701769428), (948, 0.020293087162516793), (703, 0.020285808406937875), (1650, 0.020273536118028727), (316, 0.02026290800632249), (2833, 0.02026232131127057), (3753, 0.02023908313749213), (3711, 0.020143889613433746), (2117, 0.020139697355588414), (1431, 0.020105024538658412), (2393, 0.020027453151084396), (4703, 0.02000108351313116), (2517, 0.01995930844238225), (4372, 0.019954125315154735), (1784, 0.019949708715581032), (2949, 0.01993928468783483), (1508, 0.01988075726151293), (1943, 0.019877678572100876), (3192, 0.019838837679673094), (2821, 0.019811089738706916), (560, 0.019693496830582188), (2976, 0.019680759286063512), (2285, 0.019673161449020385), (2270, 0.019640771163098703), (1179, 0.01963139518225186), (272, 0.01962824867230567), (4147, 0.01962436058745536), (4590, 0.01957742365907667), (389, 0.01954688213789729), (1555, 0.019545792231795162), (1396, 0.019515695574459962), (3667, 0.01944516561986791), (1774, 0.01941976701908464), (2758, 0.019395493572693615), (4358, 0.01938362954253143), (1283, 0.019226995220416356), (1010, 0.019226429487173315), (3530, 0.01913042014143943), (2157, 0.019114394103299157), (2008, 0.019094068795868648), (3308, 0.019080492203612503), (321, 0.019057023775938424), (1367, 0.018983216207592524), (3621, 0.01896483485505871), (3335, 0.018961502039353005), (2027, 0.01893923498590483), (757, 0.01893489788440009), (3212, 0.01893199011496885), (2404, 0.018889046555915518), (2294, 0.018887805540806584), (1138, 0.018877311742939655), (2130, 0.018863809858528063), (4137, 0.0188326927228284), (3504, 0.01880599860726224), (2379, 0.018790605497134974), (1346, 0.01876801284152572), (4115, 0.018738441912779014), (4640, 0.01869591397933321), (3190, 0.018675552920688197), (4484, 0.018516050864378828), (821, 0.018447228089327826), (4020, 0.01841104570656028), (4295, 0.01840118238997797), (1620, 0.018359022281721222), (2634, 0.01834578942931438), (2463, 0.018343366200867108), (2982, 0.018341574226027665), (413, 0.01824989655168019), (3276, 0.018184453054126082), (3297, 0.018160118564296904), (3373, 0.018139856457626044), (1871, 0.01809267992550524), (2062, 0.018069601585604642), (3826, 0.018041892411117373), (2331, 0.018026006466511948), (3142, 0.018001662223891643), (4453, 0.01799511931885573), (4580, 0.017984769691108758), (2228, 0.017974119269255615), (1796, 0.017914309674002225), (3151, 0.01787667182859526), (4670, 0.01787580842586948), (4324, 0.0178668598044363), (352, 0.017845066674764508), (2885, 0.017790256423586667), (3784, 0.017762547025704668), (4440, 0.01776025122725744), (2608, 0.017681377869434724), (3183, 0.01764871534258266), (2973, 0.017613224942383397), (802, 0.017585737659582584), (3044, 0.01756809798705812), (3557, 0.01755263318817499), (815, 0.017541011508985908), (3300, 0.01753700153005007), (333, 0.017464166791457774), (1397, 0.017418507090846837), (2494, 0.017376223469716477), (3584, 0.017308901543273494), (2281, 0.017273755494352623), (1514, 0.017270525903693865), (3751, 0.01725717087376849), (2335, 0.01724171596584103), (4370, 0.017212969486032473), (1467, 0.017199779911926876), (3051, 0.0171833582678922), (1205, 0.017148610423611314), (4256, 0.01710300452968503), (4277, 0.017093009327225333), (2621, 0.017081982252418956), (2730, 0.017063206607823813), (842, 0.016981015269323666), (2199, 0.016948652949853468), (3892, 0.016925811121075534), (3513, 0.016886050045925347), (597, 0.016869853752454228), (2249, 0.016854702098140818), (3351, 0.016820872246766982), (1851, 0.016779010602156728), (751, 0.016758286350920585), (4250, 0.016749136889255205), (2111, 0.016741053596841783), (1364, 0.016735055216908466), (626, 0.016639026142469825), (1780, 0.016591387641395165), (971, 0.016589212637639857), (1777, 0.016557733811082276), (3169, 0.01652236258038034), (2009, 0.016448251466814747), (2423, 0.016408681627185475), (2397, 0.01639133996881162), (332, 0.01637059497100027), (4017, 0.0163470527892712), (1599, 0.01631797222460104), (1935, 0.016300583101090258), (2284, 0.016203813490941087), (2412, 0.016203768247528654), (3616, 0.01619114874763191), (4749, 0.01616663503999509), (4221, 0.016105964714028802), (1644, 0.01609863614994764), (2694, 0.016046409589469884), (3364, 0.016031941649101357), (3111, 0.016020304490606735), (4688, 0.01600300459542749), (3721, 0.015980502788209425), (1392, 0.015966503112069708), (3888, 0.015946796615823322), (1447, 0.015896736588938146), (38, 0.015870808894332504), (3089, 0.0158194524825973), (3772, 0.01580400221702577), (4121, 0.01579525877322339), (4444, 0.015780059562077824), (2628, 0.015769691367490127), (3554, 0.015761267676524526), (1880, 0.015713594585515286), (1279, 0.015711740707299613), (2518, 0.015677706696221535), (2574, 0.015666820323198084), (4382, 0.01558443082584075), (139, 0.015581528217415916), (2351, 0.015541164337075048), (4483, 0.015531839975425708), (4190, 0.015528443481325309), (1117, 0.015482735542881584), (646, 0.0154556573531383), (2218, 0.015439217566098631), (2843, 0.015421652926251181), (1615, 0.015418727349654684), (1690, 0.015398134510751824), (1285, 0.015387133667120313), (4711, 0.01536714281286752), (4646, 0.015359101350288753), (3763, 0.015344683799414695), (153, 0.015302864309251932), (4263, 0.015295894264280904), (1363, 0.015295573329890386), (2626, 0.015241646159774238), (1539, 0.015239580159865332), (4446, 0.015234430999547662), (819, 0.015233342286088237), (4031, 0.015220403443908067), (3752, 0.015206422201795343), (2101, 0.015197353984486253), (3140, 0.015160292455361215), (1709, 0.015108954244501451), (2594, 0.015095882356372992), (2261, 0.015092102761481827), (2979, 0.015088001140315888), (1903, 0.01507650707879337), (1679, 0.015047266935597957), (4454, 0.015021178554475535), (3449, 0.015006837916116006), (3083, 0.014982236313263727), (508, 0.014971013034672059), (3049, 0.014957165957388045), (1518, 0.014956922880373393), (2557, 0.014940224738222624), (2869, 0.014928905252841901), (914, 0.014915339082010494), (2661, 0.014908330983455925), (1732, 0.014842899342214517), (2391, 0.014832659778609245), (1669, 0.014822070694224998), (2223, 0.014804074484013394), (788, 0.014797912251909556), (4298, 0.014778639208491677), (4177, 0.014772348291554929), (113, 0.014767431400804835), (4737, 0.014763046876183001), (4209, 0.014761370802302531), (4443, 0.014757048491693025), (2208, 0.014719126157454868), (3031, 0.014715261088062353), (1729, 0.0146791783557963), (3302, 0.014677370124080788), (759, 0.014673919362294403), (2036, 0.014671292995246556), (1655, 0.014653415904633885), (4518, 0.01462356923615416), (3822, 0.01461940052423053), (2043, 0.014594650752069342), (4062, 0.014590622309573352), (1299, 0.014578397693128985), (1171, 0.014558565569378084), (2002, 0.014535220688379917), (3415, 0.014534273977772013), (3080, 0.014512734394404548), (1445, 0.014510182737147662), (1161, 0.014508040833443828), (2782, 0.014493629469519455), (1047, 0.014469241589964162), (3003, 0.014463788084734766), (4259, 0.014462444952978607), (884, 0.014448709167530126), (4067, 0.014417413198510313), (4025, 0.014407582625460966), (2194, 0.014403496061347188), (4486, 0.014394670156859213), (3766, 0.014365656223662579), (3316, 0.014354918836428593), (2049, 0.014354062264185528), (2222, 0.01434454243589113), (3581, 0.014312984127891226), (882, 0.014246761213205183), (3234, 0.014231814660329432), (4632, 0.014201973659320159), (527, 0.014170330869091039), (4584, 0.014162241366447755), (4156, 0.01412768226722782), (2371, 0.014104372875700294), (1302, 0.014085316005658044), (491, 0.014082954261701764), (1751, 0.014050775907322156), (1741, 0.013999924512897135), (4353, 0.01399632817328122), (3307, 0.013993030810678016), (2637, 0.013979074200098453), (1379, 0.013969359220029424), (4371, 0.01396226055087239), (405, 0.013958277663545916), (4114, 0.01394866673823739), (1398, 0.013945063689487154), (4316, 0.013936805846279071), (1683, 0.013932802775286296), (2260, 0.013928273782602859), (3728, 0.013922997898549238), (938, 0.013920483621899033), (1275, 0.013899720964452009), (2649, 0.013866987779386556), (3393, 0.013861369292641678), (4369, 0.013859077081476812), (2625, 0.013840161613398955), (1420, 0.013831031795519543), (3518, 0.0138231210366107), (2336, 0.013809612378194863), (3084, 0.013809364922776162), (2060, 0.013746544339905329), (1986, 0.013734438689903442), (3916, 0.013733175654800318), (3883, 0.01373144506881923), (1781, 0.013713255830110233), (781, 0.013711987372299329), (535, 0.013702922961273619), (3187, 0.01370154220498709), (867, 0.01368681932169118), (1955, 0.013676425571344276), (1909, 0.013673047274130134), (2128, 0.013656464163419481), (1142, 0.013640243649243081), (478, 0.013633393099709975), (4029, 0.013609711301143121), (1148, 0.013601129625453871), (683, 0.013599447805667539), (1383, 0.013598266784446172), (3220, 0.013572801703538131), (807, 0.013569541681969182), (2531, 0.013569395188044328), (1513, 0.013563184052582137), (533, 0.013549118914531007), (3836, 0.013544113619833665), (1408, 0.013525504800901783), (3229, 0.013522430327021346), (1911, 0.013521105423730364), (922, 0.013515231636723217), (4756, 0.013514485068847528), (4144, 0.013513600624300126), (4630, 0.013509143913712728), (4185, 0.013508696267258279), (1155, 0.013504020698789717), (3469, 0.013490408414588444), (3765, 0.013490145948804006), (3531, 0.013469932280040803), (64, 0.013460924642467514), (2998, 0.013435836922491283), (1961, 0.013413198299023021), (3052, 0.013409081932663049), (570, 0.013408715728497), (1697, 0.013402126186599313), (3722, 0.013386922696051046), (1557, 0.013379044577911), (923, 0.013374031176723263), (1900, 0.013370459833428123), (4329, 0.01336899129554559), (128, 0.013363863775171483), (1726, 0.013360877070987357), (585, 0.013359673696594078), (4138, 0.013352521343381805), (772, 0.013322894896680287), (427, 0.0133207073727988), (1545, 0.013317272641677407), (3632, 0.013308451475160188), (3912, 0.013302033723536211), (1912, 0.013296093715155641), (1580, 0.013292692625431405), (3595, 0.013287163788874881), (2582, 0.013282937831820763), (3606, 0.013275429421595186), (883, 0.013266103601993783), (528, 0.013257471862131564), (57, 0.013255028121644336), (1877, 0.01325209331777692), (69, 0.013226928433656488), (1361, 0.013225862051122882), (476, 0.013223361418518513), (2896, 0.013221952268867007), (4321, 0.013221567579362646), (1204, 0.013210285469229793), (401, 0.013196167216946705), (3291, 0.013192428076360112), (2624, 0.013181312949667803), (3714, 0.013167062718875404), (649, 0.01316167135202136), (102, 0.013160798622740381), (896, 0.013159760865120773), (1162, 0.013142419936060305), (2554, 0.013134885357640897), (3659, 0.01312914342466801), (2037, 0.013128074756895727), (4013, 0.013115248709766571), (312, 0.013110296822449782), (499, 0.013109651383006753), (4726, 0.013108124957141715), (2449, 0.013104527946499446), (3202, 0.013097497760381466), (1895, 0.013082346330778816), (2166, 0.0130790646196414), (3642, 0.013062938850498137), (3926, 0.013041127217567911), (3694, 0.013036923541116642), (3033, 0.01301282680148197), (931, 0.013011216615229672), (2046, 0.013003974645685108), (1992, 0.01297423295726174), (232, 0.012970010224421001), (471, 0.012968977476285505), (3673, 0.012967474478283485), (946, 0.012956758520000469), (4245, 0.012942737162754027), (1196, 0.01293521621241766), (188, 0.012935211432707787), (2254, 0.012926889762012938), (3545, 0.012923420605195178), (3543, 0.01290976271608809), (3878, 0.012902645465298913), (2358, 0.012896260834729877), (2443, 0.012894582827520911), (3850, 0.012873743341738868), (3780, 0.012862167923282831), (2435, 0.012857077944978569), (1598, 0.012852827463880898), (3538, 0.012851045630519456), (1913, 0.012848903380531268), (2315, 0.01280046967462394), (206, 0.012778564272094681), (3314, 0.01277605782026508), (3897, 0.012772107484914731), (2689, 0.012769794065890001), (4577, 0.012751279883992451), (2953, 0.012750794033766964), (4406, 0.012741925732682775), (1842, 0.012739275174936462), (4556, 0.012737097559077128), (2330, 0.012736581193862857), (4286, 0.012736260116310247), (4218, 0.012735858685878135), (2087, 0.012734677466434868), (2616, 0.01273054078826506), (4186, 0.012712606347647532), (4392, 0.012684786651493626), (4378, 0.012655962250138769), (656, 0.012655727471495506), (1235, 0.012645231274478114), (231, 0.012632114035571062), (3262, 0.012631687788935631), (2461, 0.012624196138330879), (4639, 0.012605152563046982), (3770, 0.012597091250442104), (4621, 0.012588059144309974), (3304, 0.012575008390205688), (482, 0.012573631692306946), (473, 0.012564190063840953), (546, 0.012562443742072148), (23, 0.012553327428303854), (4466, 0.012543752089364113), (4586, 0.012543739715103398), (2691, 0.012532824032674425), (720, 0.012522465975023784), (4021, 0.012508528618819483), (1061, 0.012502524355501808), (216, 0.012488891128396958), (3571, 0.012486981387249262), (1552, 0.012448620051109536), (4467, 0.012443292296212004), (1839, 0.012433904234683034), (1744, 0.01242101792265407), (498, 0.012412764994954865), (1870, 0.012412414916583781), (4710, 0.012408991594127934), (2795, 0.012397667779468127), (4643, 0.012391260427744698), (1860, 0.012388644286249507), (3446, 0.012371516088119636), (45, 0.01235712646644653), (1994, 0.012356583156245845), (4563, 0.012352661578571004), (1487, 0.012344654662599638), (53, 0.012337819425763417), (1355, 0.012336080668484736), (3000, 0.012333880893405976), (3522, 0.012328935600312044), (4533, 0.012328782665792518), (4678, 0.012312135565626211), (3646, 0.012311459065318586), (1761, 0.012310379555673394), (1077, 0.012306712919226146), (393, 0.012298320150466783), (3653, 0.012279648070664303), (2972, 0.012272819265817496), (2812, 0.012270516347537593), (1663, 0.012265981405666447), (1783, 0.012250901698880105), (2313, 0.012230313666580844), (198, 0.012222452117549661), (4612, 0.012221311210351473), (2061, 0.012201150191876654), (1213, 0.012199367927064417), (4041, 0.012184227432166255), (1797, 0.012175160298523904), (1898, 0.012174638713257285), (2327, 0.012139315131241349), (1194, 0.012133590600322071), (2590, 0.012120526661434688), (2201, 0.01211199594831312), (4356, 0.01210890619276958), (862, 0.012098562778319092), (1610, 0.012054848946942238), (2388, 0.012052507032338606), (3684, 0.012052444962370304), (3612, 0.012050959105527465), (4070, 0.01204857033789918), (4736, 0.012039012347764532), (745, 0.012038205956214435), (2250, 0.01202035024078045), (109, 0.01200985500993459), (1477, 0.012009304705706535), (79, 0.012008790638108315), (906, 0.01199602501139089), (3389, 0.011974784640145153), (1079, 0.011973297161427556), (988, 0.011965130182119655), (3923, 0.011963517107522803), (3963, 0.011956180011622497), (4708, 0.011954341943727737), (65, 0.011945871584715408), (81, 0.011935487161460787), (2125, 0.011908108449934673), (2471, 0.011908074083100462), (1500, 0.01190241417535314), (1593, 0.011897054227931015), (1064, 0.0118937009920585), (957, 0.01188899246164642), (374, 0.011885248238543977), (2778, 0.011870537233858685), (3563, 0.011866738595362669), (1857, 0.011859166572999555), (1314, 0.011850206398390059), (4500, 0.011827606559193113), (2265, 0.01182000787500866), (3046, 0.011815026689290365), (4687, 0.011778888392233573), (446, 0.011751309687335237), (2239, 0.011750620036821917), (1846, 0.011735000133898457), (230, 0.01173133006576653), (2262, 0.011730031869656361), (2741, 0.011723245540047916), (358, 0.011715927868717444), (2076, 0.011712757345475038), (1966, 0.01170531394331397), (3716, 0.011702162740822948), (3219, 0.011695904587898712), (2448, 0.011688057854844816), (2591, 0.011681126188138505), (676, 0.011678658309156664), (643, 0.0116732389501524), (4554, 0.011669526802426423), (2877, 0.011659213121006621), (2245, 0.011635181232437031), (4740, 0.011618839212773726), (2389, 0.011613998345984942), (2432, 0.011611440701037952), (383, 0.011604083566934998), (741, 0.01159526912890947), (4459, 0.011589049989059103), (497, 0.011586542349364919), (3568, 0.011552880366530655), (1830, 0.011536731941527382), (1394, 0.0115356225585798), (1478, 0.01153554463625707), (4253, 0.011523639249512357), (2257, 0.011522585977457409), (1251, 0.011521518085820678), (2901, 0.011490609913121733), (4589, 0.011490460621666155), (4587, 0.01148110025814655), (836, 0.011478304446791956), (2142, 0.011449494986560588), (1547, 0.011433843587640262), (911, 0.011412517819941384), (3072, 0.011410047382342926), (1684, 0.011405122828475731), (2651, 0.011397273067587069), (2598, 0.011397164873764557), (1482, 0.011380751394823748), (319, 0.011379023860015542), (2530, 0.011374999626836278), (3853, 0.011374529601266439), (3734, 0.011361807832312339), (3783, 0.011361683518806242), (1326, 0.011336872552622113), (3230, 0.011333680887903912), (31, 0.011329247096884284), (742, 0.01132354238643069), (2004, 0.011322024034055371), (2721, 0.01131344877244046), (4159, 0.011289776072859754), (380, 0.011277881904170579), (1381, 0.01126564778746801), (3136, 0.011235320633070546), (1662, 0.011227407675097752), (1370, 0.011226627195182005), (1819, 0.011222859037642962), (3238, 0.011204963927580669), (3143, 0.011187988735849589), (3342, 0.011186038854821513), (868, 0.011184570130119637), (1068, 0.011140462773539753), (744, 0.011140295006791213), (805, 0.011139576195352925), (425, 0.011136948448376816), (1088, 0.011130188379314603), (1523, 0.011123510674231708), (3913, 0.011121181346630173), (4092, 0.011109588367831385), (4165, 0.011108945256834835), (2006, 0.011103882720211877), (306, 0.011098986974796067), (4479, 0.01109485001532336), (4649, 0.011062893693694634), (2791, 0.011047767528973951), (4274, 0.011045844924481723), (2066, 0.011043710435360173), (3613, 0.011038865456861545), (80, 0.011037708474559982), (4525, 0.011031221906966671), (3560, 0.011030374590759876), (2182, 0.011028481784442356), (2851, 0.011011193606337311), (1300, 0.011009542074135925), (1858, 0.010984818323076042), (4437, 0.010984415730203121), (2134, 0.010980783534620656), (934, 0.010978795844496365), (4153, 0.010977611646838508), (2115, 0.01096868463982829), (1976, 0.010966669255203468), (3640, 0.010948294779211935), (2568, 0.010945786561598855), (3047, 0.010939087082341014), (2296, 0.010937399131767578), (4053, 0.010930772000589674), (2585, 0.010928512330158392), (67, 0.010923540350437886), (3180, 0.010921854080609089), (1498, 0.010914115786511022), (4119, 0.010911129253093345), (2733, 0.010905114144044895), (3620, 0.010897987786219072), (449, 0.010894858525775996), (4549, 0.010890400303285816), (726, 0.010886908767679407), (563, 0.01086244981106729), (1725, 0.010853029591356643), (4042, 0.010842771000337136), (4366, 0.010831452915187091), (2165, 0.0108285093732301), (1754, 0.010814379083023124), (3417, 0.010812348539958275), (595, 0.010796716949200928), (4106, 0.010784947499715569), (3604, 0.010782613767192218), (1681, 0.010777889952101096), (2770, 0.010766856595853014), (1934, 0.010756188919252934), (3802, 0.010749489784652526), (4130, 0.010729983560120615), (1674, 0.010709020437719895), (675, 0.010705856698179136), (3749, 0.010703858019520401), (513, 0.010671724091505004), (972, 0.010637371133825443), (4545, 0.010623591635243127), (3086, 0.010605047104437248), (4659, 0.010593763418711218), (1150, 0.010588561077007373), (1661, 0.010571621405941244), (4657, 0.010558271953075911), (420, 0.01055630905499971), (1708, 0.010544009083163398), (1695, 0.010538551947678177), (1228, 0.010534731047376927), (3524, 0.010529819226994778), (2723, 0.01052857648620704), (691, 0.010523204127514178), (2725, 0.010499008532217897), (2964, 0.010490480792105667), (2364, 0.01046850133060029), (376, 0.01046426422474542), (2522, 0.01046275174749359), (2646, 0.010461764936843681), (1764, 0.010441921136838984), (680, 0.010440274352101422), (3540, 0.010438416013102714), (1466, 0.010433257871549913), (4748, 0.010432951681745635), (1268, 0.010423561243075332), (2842, 0.010415113319279856), (913, 0.010413264323453061), (2418, 0.01040601766633539), (3401, 0.010405573712831429), (2792, 0.01040064414821659), (1676, 0.010396023930029613), (2714, 0.010389743496248154), (4265, 0.010389515601119566), (2269, 0.010387151960918321), (1685, 0.010386599795878157), (1484, 0.010384480955840441), (3264, 0.010365885791442184), (3406, 0.010360476325314805), (1400, 0.010348267585960424), (1185, 0.010342739488576523), (1075, 0.010341581440790473), (783, 0.010341461854149124), (523, 0.01031969590490247), (716, 0.010294529952243123), (4624, 0.010294319057302844), (1192, 0.010285589810508314), (2083, 0.010273697959999462), (270, 0.010267061262460245), (3239, 0.010263919995445339), (4516, 0.010262625257149157), (4083, 0.010249123697147313), (201, 0.010242444420340498), (617, 0.010170618867646652), (1713, 0.010162638289772897), (1843, 0.010150849446770565), (1629, 0.010133630552464573), (806, 0.010130970540479702), (78, 0.010125985091035808), (75, 0.010117888575047237), (685, 0.010084648088182857), (1294, 0.01007790017174515), (4376, 0.01006493143070702), (2710, 0.010062807710984627), (1254, 0.0100613531164192), (1342, 0.010059315312558157), (4718, 0.010037379645012301), (4160, 0.010034307137207382), (2481, 0.010031791894879885), (2579, 0.010031717142707751), (1832, 0.010026266450131757), (2916, 0.010024661988551483), (2017, 0.010018801009313868), (2485, 0.010016042149787999), (1266, 0.010015539654632657), (1740, 0.010014396081136787), (4396, 0.010012998384295466), (308, 0.010007845779066538), (2489, 0.010004543244574001), (3593, 0.009990561402402075), (3056, 0.009979497745559363), (3501, 0.009978963042780913), (2045, 0.009976870676006383), (994, 0.009976501641758673), (2295, 0.009973140088853735), (353, 0.009970462331268724), (4375, 0.009967856392879984), (142, 0.009966659576961795), (4397, 0.009960365006707642), (336, 0.009959979903090005), (4515, 0.009958933898207177), (2318, 0.009946330353112697), (2647, 0.009942995853452487), (3832, 0.009938464068256379), (3682, 0.009937065094902126), (351, 0.009933613384170705), (738, 0.009923771316041307), (2806, 0.009911596189716501), (1574, 0.009906715477720469), (843, 0.00990654900424403), (686, 0.009891299212888633), (3436, 0.009880177301626512), (1876, 0.00987345491362263), (1908, 0.009869231817358826), (3341, 0.00984455019093328), (3116, 0.009834647386582922), (1385, 0.009829405558206897), (1419, 0.009828756731008866), (1873, 0.009826775390202868), (295, 0.009823961224020187), (700, 0.009819094990827384), (2558, 0.009818351755552176), (305, 0.00980753151628722), (2619, 0.009803800929540564), (4016, 0.009790031048591413), (3330, 0.009783626413553358), (1612, 0.00977574117001724), (4338, 0.009775280963611285), (531, 0.009774419165891932), (3216, 0.009769172846468862), (3813, 0.009765049491208577), (977, 0.009762180275555971), (1678, 0.009760971042533094), (610, 0.009760650285009399), (439, 0.009759284458459038), (4248, 0.009758923504262093), (3374, 0.009742658329338676), (3727, 0.009733526198256912), (4278, 0.009733352218205808), (1891, 0.009731879495353311), (3340, 0.009731416955044139), (1442, 0.009719022056963691), (348, 0.009718057991484456), (2614, 0.009717742787451088), (466, 0.009705594236972584), (2847, 0.009692528890081703), (233, 0.009689094130452975), (3704, 0.009671525248323373), (322, 0.009666983964646214), (3793, 0.009651031157116085), (1082, 0.009641573088261805), (341, 0.009636451197274855), (3112, 0.009623712894408698), (1128, 0.009619397483771492), (340, 0.00961588780562633), (244, 0.009603718324470429), (4224, 0.009600911521105421), (870, 0.00959930193568089), (3069, 0.009586849743827957), (2316, 0.009586210123479509), (618, 0.009583896420447805), (4478, 0.009568381233260839), (1141, 0.009564298314517923), (2032, 0.009539908405229941), (2283, 0.009537475391570125), (3846, 0.009537261426441063), (1813, 0.00953086032024019), (4183, 0.0095215963035825), (825, 0.009521237715955724), (1245, 0.009516024351213112), (1701, 0.00951234992200567), (1044, 0.009509993474368414), (4673, 0.009508280312830533), (1063, 0.009485248273999864), (167, 0.009483856238657159), (1116, 0.009481261237647799), (2337, 0.009475287674839315), (297, 0.009468342009469052), (301, 0.00946709276135282), (2196, 0.009464279727968806), (1076, 0.009463074009532049), (2918, 0.009457972793270982), (2716, 0.009455990725575887), (470, 0.009439109069621263), (4658, 0.009437948245701494), (1248, 0.009432111676061197), (1670, 0.009419652054059579), (1020, 0.009418377832865548), (2419, 0.009402578186949069), (731, 0.0093907310718237), (1027, 0.009387389192357588), (1633, 0.00938037805508363), (3498, 0.009379794142328684), (225, 0.009362734696406272), (1001, 0.009356411733960991), (298, 0.009348944787217843), (717, 0.009333046119303247), (1375, 0.009330577421852384), (1123, 0.009330039916260245), (4441, 0.009325543890142604), (4428, 0.009321805035371392), (360, 0.009315147105842267), (2814, 0.009314978270824911), (1630, 0.009314912895822959), (1631, 0.0093139797906765), (373, 0.009303838875744276), (2650, 0.009298496668454696), (2319, 0.009297343123945357), (1932, 0.009293186118189578), (3536, 0.00928614012339919), (408, 0.009281572092220535), (818, 0.00927423938851428), (388, 0.009267494550589044), (3021, 0.009265119371337893), (1036, 0.00925894349072968), (4340, 0.009256276035131815), (2474, 0.009242166727637797), (120, 0.00923007236816079), (1201, 0.009219901300022326), (154, 0.009214873194770172), (2466, 0.009191213973831396), (737, 0.009182187216421308), (3701, 0.00917511228247428), (1086, 0.009169245829437641), (492, 0.009165593342651749), (4168, 0.009153193763881993), (1649, 0.009149132450373028), (1936, 0.009146980872839557), (895, 0.009146151387249366), (3338, 0.00914608739361943), (1433, 0.009133208223950223), (3426, 0.00913222509679423), (1182, 0.009131123143292095), (111, 0.009119503359806873), (2421, 0.009118684400948427), (940, 0.00911227736737721), (4380, 0.009107914052132567), (2119, 0.009106937118702323), (2513, 0.009104890264455441), (2304, 0.009096040841526737), (1562, 0.009093087458442171), (3643, 0.009091975655888531), (2430, 0.009080166280502384), (824, 0.009066845268140007), (35, 0.00905846168504493), (3294, 0.009054588355466242), (3950, 0.009049650927165264), (4501, 0.009041982292647459), (1522, 0.009037497562819895), (3460, 0.009027297910673724), (359, 0.009009171434737518), (3967, 0.008999547563392244), (160, 0.008998269250896933), (4604, 0.008998044993557792), (569, 0.008995058935914495), (4322, 0.008988582756130046), (1672, 0.008986930841351505), (863, 0.008973608393179512), (2662, 0.00897262178322319), (4026, 0.008969498746861536), (2951, 0.008968796659472802), (2198, 0.008966754569083617), (1055, 0.008964000776625222), (218, 0.008962521043969855), (37, 0.00896183796461799), (4364, 0.00895820318928461), (299, 0.008948259037035321), (1990, 0.008943900135564559), (4427, 0.008939658413214679), (1865, 0.008905965185829848), (3807, 0.008902777583722087), (285, 0.008891085621438071), (1803, 0.008890729361812712), (724, 0.00888798887254873), (2839, 0.008878653613934782), (4482, 0.008876500522302886), (1604, 0.008873405795555562), (2338, 0.008869537987109237), (1387, 0.008862275839391176), (1563, 0.008844636692081244), (800, 0.00882389348225114), (1358, 0.008820444312778815), (117, 0.008814069126134801), (3746, 0.00881013516923294), (3271, 0.008796348352099977), (2980, 0.008777378995640841), (3379, 0.008774363518856855), (4157, 0.008770247069226963), (2776, 0.008768049805616171), (732, 0.008763687217434032), (1762, 0.008757821451496981), (1359, 0.008747926142338276), (1977, 0.008740634879305301), (1541, 0.008732796641824596), (2909, 0.00872849130465035), (4094, 0.008724734384396776), (4608, 0.008711700159346974), (2401, 0.008697915698566646), (3370, 0.008687195571930569), (3973, 0.00866768338965915), (1608, 0.008665352901822186), (3678, 0.008660736072454574), (246, 0.008657749197464499), (3934, 0.008645029339810784), (2612, 0.008643519675282766), (222, 0.0086405856186329), (1951, 0.008637413700560386), (4679, 0.008630750777596036), (1463, 0.008628932320271976), (456, 0.008625282047484372), (4233, 0.008622608044500614), (2100, 0.00860588944629252), (179, 0.008602469480123318), (1893, 0.008586542092783794), (4438, 0.00858026276817812), (553, 0.008566798449203855), (1018, 0.00856073719730236), (2752, 0.00855995351693077), (3969, 0.008552410447460022), (924, 0.00855111788640957), (1854, 0.008544876099885928), (3390, 0.008527174678893527), (300, 0.008526404912857851), (713, 0.00852061098953299), (211, 0.00850938569798623), (3533, 0.008501848837223764), (437, 0.008492038762118287), (1828, 0.008470770830400537), (1450, 0.008459945625308274), (2148, 0.008438102731293326), (2447, 0.008419836620865082), (2743, 0.008416784663567423), (2106, 0.008415881698407854), (251, 0.008414220145076026), (1451, 0.008406575807883562), (2726, 0.008406245362712042), (4569, 0.00840126503353661), (3265, 0.008389668016970794), (778, 0.008378080071156585), (190, 0.008377499972815908), (1206, 0.008366308669268269), (2234, 0.008361338600973387), (3121, 0.00835811707526201), (3016, 0.008357488879217261), (1356, 0.008309042610995016), (1458, 0.008308899231323262), (549, 0.008303570342834472), (2732, 0.00830264744788001), (3634, 0.008300272158388149), (3182, 0.008293081495637726), (2593, 0.008257172416035996), (1535, 0.008254981340678508), (2127, 0.008241360631687952), (4149, 0.008230546271796719), (4348, 0.00823035078295341), (1875, 0.008218501450643702), (457, 0.008214128044286832), (183, 0.008207908573802273), (2359, 0.008193859317399193), (2301, 0.008186705553001144), (2835, 0.008178725111612531), (1221, 0.008161668983732856), (1488, 0.008161473341775213), (2221, 0.008161309370620382), (199, 0.00816047651277376), (511, 0.008150834433768428), (4405, 0.008133770034505076), (3459, 0.008132232502937481), (901, 0.008131230475460651), (2055, 0.008111348825593261), (4015, 0.008098130598613052), (331, 0.008085595279056886), (3726, 0.008072548200681005), (3565, 0.008056927868931415), (3027, 0.008053478733187678), (3764, 0.00804448516152246), (1329, 0.008033658722855799), (3841, 0.008025951309851174), (381, 0.008018130948696403), (3313, 0.008014890287244432), (1888, 0.007997162253613929), (2028, 0.007973809398977951), (163, 0.007968531303547256), (2663, 0.00795898615114583), (3447, 0.007955059796243854), (440, 0.007953367466380304), (3360, 0.00794978009614125), (657, 0.00794752067142463), (1423, 0.00794278276330014), (1009, 0.007939516679695757), (3585, 0.007934643341425743), (1422, 0.007926522756111392), (789, 0.007922468953069323), (3948, 0.007912947080550958), (3785, 0.007910066080109213), (953, 0.007904261851086477), (519, 0.007902114115919737), (2617, 0.007890566224499457), (2908, 0.007889038867846395), (4719, 0.007883660030913552), (194, 0.007876464515050113), (3890, 0.007876092349496027), (4217, 0.007863003696914074), (3894, 0.007849083281608722), (3352, 0.007828851798316506), (257, 0.007813903411677486), (3096, 0.007779708163693589), (3309, 0.007773867167498265), (1002, 0.007756713986512398), (1863, 0.007729346666999988), (2823, 0.007707743464573169), (1759, 0.0076921051381378175), (3077, 0.007688074475021929), (4012, 0.007683375349593596), (2202, 0.00766950622569176), (3736, 0.007645341355316981), (3622, 0.0076307806443829335), (1868, 0.007624410797697943), (725, 0.007613326735908934), (3319, 0.007611640137612693), (1180, 0.007582962259068878), (3147, 0.007578841485702116), (978, 0.007530031224403175), (3091, 0.007491030618248639), (416, 0.0074601978628123745), (4414, 0.007440127950101744), (776, 0.007430367841532163), (3098, 0.007395643993645718), (2844, 0.007391648428471289), (3418, 0.0073880685632007875), (583, 0.0073802671296112074), (3205, 0.0073023193939683075), (1715, 0.007291224874313504), (2145, 0.007230207915682834), (407, 0.0071809421703445215), (3980, 0.007179698240493133), (1144, 0.007135301604130879), (3914, 0.007126193262097314), (706, 0.007108442210761238), (2766, 0.007101401399553037), (929, 0.007081679740253191), (2747, 0.007054105006183858), (2523, 0.007035369789551729), (4752, 0.007032025240572181), (3630, 0.007026514072431854), (4598, 0.007021303534954366), (2867, 0.006979520890905639), (1309, 0.006967497271716297), (4018, 0.006938776602572951), (2737, 0.00680578916036598), (330, 0.006783190500055196), (1581, 0.006767848144301611), (2562, 0.006738471895350939), (2841, 0.00672857214513248), (2597, 0.006721650092432574), (1509, 0.006706513494003835), (4498, 0.00667174911699144), (3144, 0.006663750911892458), (2678, 0.006629253045469223), (3552, 0.0066202548648672315), (2701, 0.006587912928010161), (4571, 0.006468121226851907), (3178, 0.0064356814006768254), (2660, 0.0064103245163273995), (2703, 0.00630122708841777), (4223, 0.006239300750655509), (1861, 0.006170808723031575), (3088, 0.006052922387294216), (2657, 0.005962438571837364), (764, 0.005940664634626774), (2529, 0.005908783195830548), (2490, 0.005866872486051201), (2659, 0.005863336803227362), (2764, 0.0057992069852470475), (4007, 0.005787931004922072), (2858, 0.005769545945629587), (2891, 0.005765814709828015), (3139, 0.005763064957678074), (996, 0.00574386299450569), (4480, 0.005731299151413085), (2722, 0.005714288513394787), (3009, 0.005699717212008059), (3040, 0.0056845317267064715), (2500, 0.005679238144558126), (3166, 0.00564626919589875), (3266, 0.005630825327194601), (2395, 0.005630565293947652), (4239, 0.005623638807539735), (2667, 0.0055466333156456915), (2922, 0.00553852680459867), (3042, 0.0055152746840681395), (2731, 0.005463872154776452), (4222, 0.005459127442349388), (1939, 0.005402022393969274), (4198, 0.00537479960506423), (3800, 0.005370309937158248), (2483, 0.005368156432845019), (2832, 0.00534192519976433), (2536, 0.00531729558108558), (2948, 0.00530083933421684), (4537, 0.005298616503702724), (3439, 0.005279639015568728), (3282, 0.005278854624492042), (2928, 0.0052562346553632535), (4166, 0.005255069007565126), (4040, 0.0052525376487517865), (3715, 0.005252518715200392), (3217, 0.005245467719547225), (4084, 0.005234097935103318), (2282, 0.005229806787004414), (2838, 0.005202009208859338), (1208, 0.005189523660560648), (2875, 0.005173503362340726), (4102, 0.005168296081868809), (2455, 0.005166538800145915), (3936, 0.005149387817678615), (2983, 0.0051372818960729325), (2600, 0.005135468473816914), (3087, 0.005135363934540175), (3988, 0.005123555340485232), (2543, 0.005107532821303877), (3844, 0.005100825871173829), (3249, 0.005091028801008791), (2581, 0.005086582535247103), (2939, 0.005069704345095511), (3592, 0.005060794767877357), (3357, 0.00505967448513005), (2564, 0.00505692322166426), (2834, 0.005049990405605832), (3537, 0.005048837898684101), (3577, 0.005030467439257646), (2363, 0.005030301172888657), (3922, 0.005024928620423156), (3074, 0.004994065816334699), (2797, 0.0049822507639501095), (2488, 0.00497460156935656), (4725, 0.004968996406396486), (2077, 0.004964221387679319), (3544, 0.004954844416888244), (4631, 0.004943057308584737), (3020, 0.004941549992496432), (4127, 0.004940937081093212), (4720, 0.0049405451479615425), (4514, 0.004923558281334541), (3257, 0.004904753040582616), (3203, 0.0049022545868195174), (3054, 0.004891102348028714), (3413, 0.004889160026734024), (4408, 0.004887128687219572), (368, 0.004885984397421388), (3758, 0.0048683808343093285), (4506, 0.004859805896986598), (3996, 0.00485333543368751), (2333, 0.004845594697015943), (4204, 0.00484479020222555), (3686, 0.004839075996578619), (3017, 0.004836247319531318), (2986, 0.004814770583420063), (3789, 0.004807202442632699), (4023, 0.004807044884878898), (4717, 0.004806381246319181), (2738, 0.004803621676362203), (4451, 0.004802629741561885), (904, 0.004791595234938909), (2570, 0.004790854772578221), (3324, 0.004783784353465607), (1792, 0.004783548501736479), (1187, 0.00478245139837842), (711, 0.004781289105865232), (4285, 0.0047768138313766), (2720, 0.00477072404731868), (1169, 0.004763958552268591), (2846, 0.004762909171805711), (3931, 0.0047616772812519815), (2468, 0.004756004216936358), (2158, 0.004746013252416774), (3172, 0.004739703774381299), (2696, 0.0047318004940296735), (1947, 0.004725310595859032), (2924, 0.004720729332019733), (3754, 0.004720606385112188), (4203, 0.004718307711377634), (905, 0.004708695668797582), (3408, 0.004707228671435419), (2884, 0.004698917701128128), (3337, 0.00469673005462624), (3866, 0.004692034794699671), (2403, 0.004691481273305511), (679, 0.004691160339808985), (4650, 0.004691002676220677), (2872, 0.004685534280855381), (1321, 0.004684720419324156), (4507, 0.004675428681824252), (2478, 0.004672816474490873), (2187, 0.004671677055348473), (760, 0.004669599834189151), (3952, 0.004667988014039997), (847, 0.004667777478243314), (2676, 0.004667600061732858), (1656, 0.004666792725298828), (2510, 0.004666094178953741), (3851, 0.004660493016107168), (2796, 0.004658308800523959), (985, 0.004656353083256357), (2305, 0.004655496922820832), (2702, 0.004652295390707374), (2486, 0.004647436831783317), (1424, 0.0046471935138023895), (2079, 0.004646723032856213), (4117, 0.004646566390429213), (3791, 0.004644663077586254), (4335, 0.00463642395448696), (3253, 0.004628900069027836), (2302, 0.004623375135964451), (2357, 0.004621055943730561), (3649, 0.0046177618136800085), (4746, 0.0046168334307160165), (4317, 0.004615776745728795), (4460, 0.004614032795624296), (2186, 0.004613799589523955), (2138, 0.004613474765468597), (999, 0.004610675720325826), (2411, 0.004609181978000557), (3383, 0.004609073527487335), (3039, 0.004606152673856676), (4452, 0.004604055927743018), (3820, 0.004601790337226105), (3992, 0.004601202681504906), (839, 0.004598913498615616), (3168, 0.004583521890587462), (1489, 0.004573878844335808), (4105, 0.0045690488173185774), (1311, 0.004566508809213041), (2420, 0.004559468861776662), (1594, 0.00455743000399671), (2164, 0.004556092838934787), (4108, 0.004554709456296504), (3146, 0.004553056916370818), (3964, 0.004546069339347509), (4293, 0.004542184166005767), (2384, 0.00453346956370327), (2209, 0.004531663671756313), (4706, 0.004522285750268261), (1371, 0.004521626420018277), (1836, 0.0045195096026420965), (3808, 0.004519463894913891), (3681, 0.00451872257141229), (4463, 0.004518226960511696), (2108, 0.004517947795746401), (687, 0.004516075143049264), (4064, 0.004515566069849845), (3062, 0.004512807870702199), (2535, 0.004511532940331732), (3688, 0.004510297813383894), (3371, 0.004509117099222214), (3572, 0.004506609931773787), (1658, 0.004506595119078521), (385, 0.004506072799175881), (3652, 0.004497677430099893), (3026, 0.004497239262565101), (2493, 0.004492446760607518), (3097, 0.004488445438857722), (1486, 0.004482791819704658), (3519, 0.004481474246560095), (1786, 0.004476866812874239), (2930, 0.004475434586182972), (1089, 0.004475237309362652), (3207, 0.004473142981644655), (3529, 0.004472861275275667), (841, 0.0044695446786718425), (3837, 0.004468071873756814), (2452, 0.004465633390394726), (2410, 0.0044654630968349205), (1479, 0.00446447603847783), (2464, 0.004464254670803178), (4308, 0.004463882595239859), (1733, 0.004463140404486544), (3424, 0.004459745515402367), (956, 0.004459733325976337), (1583, 0.004459515886476001), (2811, 0.004457577771925831), (253, 0.004450368390804273), (3730, 0.004449698116518281), (2575, 0.004448994670061576), (318, 0.00444837741153663), (1806, 0.004443894594182202), (2968, 0.004443042246372315), (1243, 0.004439794279488132), (1905, 0.0044377867392462475), (678, 0.004437529942676716), (4522, 0.00443593128501787), (2458, 0.004435917611596942), (1491, 0.004435865807525523), (350, 0.004431394793070569), (2748, 0.004426329928042524), (3258, 0.00442623750300177), (2978, 0.004426049086750712), (2882, 0.0044232605578211626), (4332, 0.004416102112044488), (3889, 0.0044145240668487335), (2258, 0.004413907787680601), (4413, 0.004413601400031666), (2021, 0.004406054114093166), (4734, 0.004398957603138197), (2116, 0.004393222883795859), (3510, 0.004388249365967901), (1441, 0.004388073167374508), (2880, 0.004387114506959921), (1103, 0.004386294430431678), (771, 0.00438535812019881), (1848, 0.00438185729079974), (1390, 0.004379305556682366), (3496, 0.004369295106840659), (1637, 0.0043662706185793035), (2124, 0.004362317776730403), (3175, 0.00436182364472726), (754, 0.004360927218582435), (2588, 0.004360001897522948), (2786, 0.004359053102062817), (873, 0.004358862463514308), (872, 0.004357706958844359), (4111, 0.004357551430549931), (4131, 0.0043559565066021945), (1409, 0.0043547156207894375), (1614, 0.004354546821242741), (1282, 0.004351689626658046), (2940, 0.004350716321967767), (2712, 0.00434912800926852), (1609, 0.0043437481147318045), (1737, 0.0043420248560722486), (3601, 0.004341125936427737), (2817, 0.00434040470285009), (3109, 0.004335166927682249), (4315, 0.004334778291658985), (1791, 0.004333437602548294), (536, 0.004331948377820705), (1572, 0.004331195409197017), (4560, 0.004328814702469039), (1596, 0.00432385904941825), (4622, 0.004320765219765915), (2147, 0.004320569258985868), (4557, 0.0043178104018126), (3442, 0.004317658582821729), (4489, 0.004317147956028731), (1099, 0.004316258002669946), (4054, 0.004316158302682697), (1234, 0.004310386043882693), (205, 0.004310226381403135), (4655, 0.004308542132685953), (3905, 0.004305702346643967), (418, 0.004305587677032829), (2755, 0.004304200609253587), (4052, 0.00430203341686852), (1401, 0.0042982503628268935), (4027, 0.004298221597820219), (1822, 0.0042969088723391596), (3037, 0.004296642567346997), (3041, 0.004296535423217463), (3422, 0.004293459536159045), (3259, 0.004292825975099953), (4420, 0.004292148340423621), (2394, 0.004289101340420025), (3388, 0.004288722575126246), (2385, 0.004287261890881375), (3277, 0.004286023378134253), (3882, 0.0042840347179366215), (3984, 0.004280838110658112), (667, 0.004279543707543198), (1902, 0.004278520286534836), (474, 0.004277078724057035), (2633, 0.004273362649888628), (1821, 0.004271452235364551), (2754, 0.004267513257089678), (2675, 0.004267078962670307), (1718, 0.004266643008992579), (1734, 0.004265126200120447), (3150, 0.004258844244621781), (3038, 0.004258047250022796), (2380, 0.004257707141910377), (2926, 0.004256992049149527), (3061, 0.00425587572061155), (1660, 0.004252989291276959), (1006, 0.004252635750807284), (1965, 0.004251716711737029), (4448, 0.0042509699842765945), (3018, 0.004250934401517898), (3599, 0.004250105625764666), (3514, 0.004249466453701063), (2605, 0.004249166750078943), (4421, 0.004249125905128121), (1224, 0.004249070356779087), (3591, 0.004248339037684489), (2090, 0.004248261627878038), (3378, 0.004247547481176181), (2042, 0.004247530851673433), (3382, 0.004247425808561145), (879, 0.004246690427800927), (3310, 0.00424639619826128), (3845, 0.004245732366645457), (890, 0.004245267421971953), (2601, 0.004245117392110406), (586, 0.004240135088279804), (1432, 0.004240042926278058), (1024, 0.004239559006184896), (3224, 0.004237894864932823), (2546, 0.0042374581585973604), (2241, 0.004232807658889681), (1727, 0.004232208956401747), (4125, 0.004227713734061697), (793, 0.004227362356997482), (2325, 0.004225703399277836), (3349, 0.004223068891958822), (784, 0.004220580413821753), (1124, 0.004220082203924661), (1949, 0.0042199732425012475), (4552, 0.004219195204249671), (2511, 0.004219188834757936), (2744, 0.004218642073335094), (1542, 0.004214393959944944), (3930, 0.004214105137863433), (2816, 0.004211744917222409), (3648, 0.004211667549361332), (1765, 0.004209972676763868), (3549, 0.0042097060169127305), (4648, 0.004209696511441035), (4422, 0.004206447065800765), (4287, 0.004205336430879316), (3198, 0.004204988286151794), (671, 0.004203137511544186), (1847, 0.00420265833302102), (1382, 0.004201509069963711), (2519, 0.004198704478935376), (1735, 0.004197771875628768), (2648, 0.0041972706970514135), (3489, 0.004195824312964205), (377, 0.004194009799475067), (1494, 0.004193394186881674), (2353, 0.004190924370250264), (2431, 0.004189368856072152), (3290, 0.004188984259630764), (814, 0.0041813870779690565), (1917, 0.004178386094992502), (2307, 0.004175242490271625), (869, 0.0041734634862071384), (3289, 0.004171559837903155), (1564, 0.0041688762396350255), (846, 0.0041680165241129085), (3683, 0.004166640725413288), (3526, 0.004165712900022988), (4093, 0.004163815565831596), (42, 0.004163572601993006), (115, 0.004162176708845621), (4404, 0.00415868136228775), (908, 0.004158384608964943), (134, 0.004158186873372439), (933, 0.004157108555932604), (1337, 0.004153972377464027), (1108, 0.004153289061990294), (2444, 0.0041520646359557885), (3113, 0.004151703503486099), (238, 0.00415162496760559), (1688, 0.004150735288495649), (4197, 0.004149652771898589), (3102, 0.004148612952411828), (3603, 0.004148188142352923), (3283, 0.0041461078665204765), (2292, 0.0041457775870879865), (1322, 0.004143654356473354), (1587, 0.0041434235827281915), (3303, 0.004142296973342483), (3792, 0.004139500627619334), (3060, 0.004137641347830025), (2551, 0.00413591024064051), (4702, 0.004133382061353879), (4049, 0.004131120115284954), (2685, 0.004131008884466347), (1105, 0.00413094201030068), (1533, 0.00412904583634567), (3386, 0.0041244131189182775), (2586, 0.004124233587180979), (4214, 0.004123069442159699), (945, 0.004121636547164624), (3462, 0.004121046028459236), (3332, 0.0041192474052895766), (1956, 0.004117254201814527), (1461, 0.004116047919011195), (3739, 0.004115253062058539), (1410, 0.004114003706121939), (3676, 0.0041134612022534), (630, 0.004112886365535147), (1722, 0.004110488337730374), (2122, 0.004109274744604225), (2193, 0.004107530295574876), (2396, 0.00410749773953092), (1577, 0.004106036444425471), (182, 0.004102960608821773), (4300, 0.004102319699631696), (758, 0.004102077829528511), (1232, 0.004101902362142903), (398, 0.00409880774495803), (4609, 0.004098483692332482), (3034, 0.004096989661524273), (2994, 0.004096892205950326), (3494, 0.004096628823064045), (529, 0.0040956609701945776), (504, 0.004095102023229213), (3541, 0.004094577825976656), (494, 0.004089187715296065), (1388, 0.004088226498786469), (822, 0.004087725254640844), (697, 0.004087518355756808), (1906, 0.004084311462274699), (1074, 0.004083005485155364), (2340, 0.0040805861640884015), (943, 0.004080260268274298), (264, 0.004076104811963013), (1170, 0.004075075784358174), (114, 0.004074373825239027), (785, 0.004072914408770367), (2495, 0.004070142546436718), (4738, 0.004068655127559532), (849, 0.004067817434840762), (2026, 0.004067266595733086), (3343, 0.00406638526054501), (1227, 0.004066372037302984), (3188, 0.004065862965640225), (479, 0.004065695936654345), (1501, 0.004065349562010767), (4291, 0.004064796006109579), (1133, 0.0040617492788027785), (2387, 0.004061650664530926), (965, 0.004061601052546515), (1345, 0.00406147886441483), (3665, 0.004060815412155945), (4592, 0.004057897585929001), (3106, 0.00405761299343512), (1638, 0.004054714916453849), (1021, 0.004054559528339247), (1112, 0.004054226733254157), (1517, 0.004052606498670093), (1022, 0.004051885130534307), (1444, 0.004050433655531822), (525, 0.004048709470202489), (2999, 0.004047420753292709), (3570, 0.004045035371943353), (3270, 0.004044035119660444), (1238, 0.0040427542812527095), (22, 0.0040416840156221176), (2512, 0.004041293809563372), (2836, 0.004038858191289496), (3818, 0.004036701804218614), (3477, 0.004036296125321315), (1834, 0.004035364409891589), (2280, 0.00403224137679659), (4542, 0.0040244169519513635), (1411, 0.004022339667173361), (2569, 0.004022142768238794), (2825, 0.004021168804329915), (174, 0.0040206373455619095), (1867, 0.004019996047707952), (1126, 0.004019450179834828), (1028, 0.004017369562073), (2298, 0.004016757824067996), (1549, 0.004015214246086125), (3443, 0.004014919692737469), (1313, 0.004011100549319825), (973, 0.004010318619738032), (3508, 0.0040058683567320095), (2687, 0.004004730885875278), (1292, 0.0040028251292450875), (3090, 0.004002741489251416), (3644, 0.003999263870840145), (169, 0.003999245550991348), (215, 0.003998967490746552), (983, 0.003997866758556922), (2639, 0.0039937515615705), (3260, 0.003993713078595334), (2807, 0.0039933091759286245), (1286, 0.003990515586368345), (2297, 0.003989873815469652), (3580, 0.003988042227159772), (995, 0.003987613211473635), (1589, 0.003987312678838151), (2945, 0.003984505021817491), (1094, 0.0039835394562655535), (3288, 0.003982682776652099), (4530, 0.0039809230561578795), (3400, 0.003980743462053115), (4036, 0.003977247265558141), (4234, 0.003970904783491154), (2553, 0.003968368486725513), (4073, 0.003967414903145431), (4327, 0.003966941055003912), (3402, 0.003966619836317689), (2677, 0.003965987058792675), (1284, 0.003962436276154647), (503, 0.0039596441942232954), (755, 0.0039558278063487095), (2422, 0.0039512439360339735), (3879, 0.003946352028973666), (3375, 0.003946038232274574), (49, 0.003945495901912994), (4367, 0.00394457697861504), (3127, 0.00394286233080138), (4192, 0.003941703632127489), (1618, 0.003941415691246648), (1261, 0.003941058048210883), (840, 0.003940914375084045), (339, 0.003939075887829401), (1267, 0.003934952746334462), (2693, 0.00393491387290051), (2003, 0.003932495731860112), (3641, 0.0039312058771162235), (1113, 0.0039295081218743986), (2653, 0.003927980048263838), (3149, 0.00392626740234342), (3896, 0.0039250496726452345), (2465, 0.003923079390742113), (2056, 0.003922491231564199), (2642, 0.003921753698829347), (3998, 0.003921545657400695), (3582, 0.0039213183732355935), (1597, 0.0039210731076442466), (4564, 0.003919327994068699), (1668, 0.003919177777785843), (521, 0.003919081965817286), (4252, 0.00391636222329089), (2681, 0.003913367129999992), (1561, 0.003912521409805805), (1293, 0.003912456499603364), (1125, 0.003911542507923404), (2167, 0.003911451196919909), (2131, 0.003910286558943122), (1767, 0.003910223249498039), (3490, 0.0039089275565375725), (3246, 0.003902244760276298), (1446, 0.0039007576187398215), (367, 0.003899446936209885), (4434, 0.00389931661897792), (2143, 0.003891781474085778), (1490, 0.0038891926317094704), (3315, 0.0038884772997112805), (2309, 0.0038883656569883122), (2897, 0.003888017382221705), (3965, 0.0038875029648209273), (3214, 0.0038860705490953553), (1654, 0.0038854396599193944), (3824, 0.003885049664458419), (2620, 0.0038841932486090914), (1929, 0.0038805015954392905), (2107, 0.0038772789879813465), (2409, 0.0038768368347828082), (157, 0.003876715070836785), (2962, 0.0038735043498378677), (780, 0.003872776397892077), (984, 0.003871885715547393), (1915, 0.003871086584937477), (4213, 0.0038706061762630328), (2787, 0.003870571379349169), (2140, 0.00387042437473544), (1190, 0.0038699725483935434), (1073, 0.003869894997837583), (2706, 0.0038698133747746394), (2242, 0.003869000329437609), (2068, 0.003867929640295651), (505, 0.003866898601613274), (3177, 0.0038666873821409423), (4206, 0.003866507107960057), (2631, 0.0038655570689186468), (2690, 0.003865329141891402), (1376, 0.003865166854230683), (1738, 0.0038642353910123407), (1532, 0.003863828222387878), (4272, 0.0038616371490790865), (1818, 0.0038573058762571364), (3712, 0.0038557704189987464), (1787, 0.0038553102574676538), (4246, 0.0038540751014034197), (263, 0.0038520212919078544), (1029, 0.0038519353521284335), (1785, 0.003851693077987716), (3859, 0.0038501217117953446), (422, 0.0038459580090479135), (197, 0.0038434096628492177), (3194, 0.0038420260872269844), (3864, 0.0038413005617745103), (939, 0.0038393517190169605), (2303, 0.003839030479780494), (3811, 0.003837315388224207), (4257, 0.0038345297776509737), (2348, 0.00383408043538954), (2160, 0.003830291999102399), (1973, 0.003829181505784448), (2311, 0.003829053150764138), (1139, 0.0038286407543371096), (1788, 0.003827671338266591), (1914, 0.0038255530124823504), (3320, 0.003823099032593961), (4254, 0.0038220117883358685), (1203, 0.003821858356210509), (1693, 0.003821855131639767), (2215, 0.003820694910367298), (1372, 0.00381837879556066), (3250, 0.003817607386755416), (4690, 0.003817325181097973), (3941, 0.0038144833366092977), (3071, 0.003812653168875484), (941, 0.003812430043224471), (212, 0.0038093647647348527), (1721, 0.0038089620535360193), (702, 0.0038083342961373196), (4667, 0.003806599703490165), (648, 0.0038041159776963616), (1746, 0.00379894587074065), (3909, 0.0037977492849580845), (2699, 0.003797517031589625), (4603, 0.0037969619492497927), (2992, 0.003795367631714246), (1899, 0.0037947059781403025), (3732, 0.003792328299483216), (659, 0.0037916387245774744), (1778, 0.0037914124482982766), (1457, 0.003790759092866285), (1673, 0.00378946753449784), (2866, 0.003787758065279091), (690, 0.003787221519811419), (2071, 0.0037868198761956693), (1353, 0.00378475027181143), (710, 0.0037815053568521955), (4305, 0.0037814648430690555), (417, 0.0037809692455932635), (2272, 0.0037808839271752377), (2446, 0.0037806645633619443), (532, 0.0037797987649773566), (2874, 0.003777879041800734), (454, 0.003777798118967401), (3500, 0.003776447983689595), (4325, 0.0037755279982829896), (1152, 0.0037737647246213375), (589, 0.0037724241271158533), (916, 0.0037717158619847437), (3321, 0.0037662521606956485), (2093, 0.003764619411448363), (2548, 0.0037611663856381232), (770, 0.0037596687964858502), (2399, 0.0037573915119940835), (3839, 0.0037545016852070525), (2491, 0.0037529396508571267), (1149, 0.003752495812048798), (1543, 0.003750213089340835), (4174, 0.00374656765935312), (2445, 0.0037464703862248867), (2274, 0.003745352504037501), (907, 0.0037432794091775312), (1987, 0.0037364432053571682), (1157, 0.003734816714104509), (1331, 0.0037309345644343625), (4297, 0.0037300978668246138), (3050, 0.00372934412017358), (3244, 0.0037288080730622716), (1982, 0.003728361894618944), (4600, 0.003725083467065279), (2203, 0.0037246778721869997), (1242, 0.0037237328505484108), (3329, 0.0037212781107774703), (958, 0.003720513394046169), (1974, 0.0037199448153858944), (1038, 0.0037175802348599577), (2954, 0.0037167142382878624), (2007, 0.003715432256477169), (338, 0.003713722675048763), (2728, 0.0037050805934074234), (3842, 0.00370489241344192), (3295, 0.0037043062557502392), (3885, 0.003702946379033226), (2033, 0.0037025664892852772), (1200, 0.0036998319626618966), (1528, 0.0036971644215565967), (3267, 0.0036934706004189545), (1216, 0.0036911276808510975), (2063, 0.0036902816198415007), (2424, 0.0036895146820674057), (1626, 0.0036882949730942015), (2402, 0.0036863373539537045), (1173, 0.003683658137024787), (4109, 0.003683101466748547), (3311, 0.0036821089696107995), (1827, 0.003680881163498148), (4647, 0.003680793075706243), (1093, 0.0036790255336984906), (1719, 0.0036736072713708977), (2058, 0.003673293275294009), (1485, 0.003672452358102619), (214, 0.0036705118489423955), (515, 0.0036690994498878586), (2426, 0.0036689089665720713), (2005, 0.003660149764256022), (161, 0.003658782482739092), (2514, 0.0036570136052333506), (1569, 0.003654772172067186), (885, 0.003651050337900969), (1980, 0.0036509518102685085), (664, 0.0036487607253109294), (2185, 0.0036465649523105275), (577, 0.0036456189474329374), (3231, 0.0036450988433474455), (594, 0.003638284695197804), (1750, 0.0036377745823962665), (3070, 0.003636082134022905), (1318, 0.003630240047749846), (672, 0.0036296712596105857), (3933, 0.0036283150093304965), (1978, 0.0036279656048598505), (2156, 0.0036245746537196715), (2161, 0.003624449146394553), (4237, 0.0036238839456997607), (3082, 0.0036203193215710344), (2264, 0.0036162769398040816), (1694, 0.0036140481383035894), (1652, 0.003610548974219633), (2366, 0.0036098567054186573), (4104, 0.003608047766872948), (1954, 0.0036057606047727843), (3861, 0.0036043284481754104), (3598, 0.003603307229934794), (3063, 0.0035996911304936024), (3755, 0.003597484428766547), (2360, 0.003597409066456656), (820, 0.003595631999340931), (1199, 0.003590772958580273), (4596, 0.0035876238945539984), (605, 0.0035817083450532913), (1405, 0.0035785783834186152), (3, 0.0035784128206092676), (545, 0.003575790195763894), (2240, 0.0035720689896949214), (3411, 0.0035712534625532938), (4558, 0.0035665389509334524), (851, 0.003565907669985143), (2820, 0.003560332027951378), (2805, 0.0035594717053414344), (2059, 0.003550031479617336), (2460, 0.003547388824157512), (1348, 0.0035456052816500265), (4473, 0.003545141779689069), (4035, 0.0035417915176634033), (2971, 0.003541783605696833), (3509, 0.0035315700447285945), (1465, 0.003529043313046528), (1249, 0.0035289726419632287), (892, 0.0035263587709852837), (103, 0.003525639173886957), (3856, 0.0035227744875340364), (1492, 0.003522573881022816), (3748, 0.0035218853367117654), (1698, 0.003515975502242806), (629, 0.00351493690372441), (357, 0.00351258942837844), (4426, 0.003512204222469384), (1212, 0.003511578438469432), (278, 0.003505774961475306), (2001, 0.003505088910484242), (86, 0.0035006636275452013), (4627, 0.0034927565907687764), (1833, 0.0034855218990703547), (2168, 0.0034832449493176626), (60, 0.0034820184814370486), (2098, 0.00348185387863825), (1070, 0.0034790545157722544), (2146, 0.0034786276798207502), (3579, 0.0034744986084833045), (1340, 0.0034568471549921856), (2933, 0.0034568075551264163), (3855, 0.0034538721381667764), (2855, 0.0034518766881715536), (2204, 0.003450590944312708), (3164, 0.0034470665594202128), (1639, 0.00344594112639709), (970, 0.003439120183022621), (175, 0.0034371500127032416), (951, 0.003436269293413995), (3674, 0.003436015767830154), (1312, 0.0034350875863095247), (4636, 0.0034326516140743227), (707, 0.0034237058192425306), (195, 0.003421388726952959), (3658, 0.003420472901059061), (1957, 0.0034196885393879307), (4610, 0.0034162401286008336), (1214, 0.003413192229799259), (3559, 0.003411820929080704), (2211, 0.003410732969653695), (786, 0.0034092651898706906), (709, 0.003408521211232889), (1062, 0.003403520150654667), (2876, 0.0033996191457347246), (2373, 0.0033946541544086334), (1938, 0.0033937815956234275), (964, 0.003393357493426133), (1078, 0.003389844378671221), (3430, 0.0033881563956936664), (2227, 0.003382377882392225), (2508, 0.003369291629132074), (25, 0.0033671154777084166), (4200, 0.0033654463008196463), (1752, 0.003365428183977426), (1571, 0.003365341477416776), (2025, 0.0033578152172104537), (538, 0.003357733538955426), (2665, 0.003351728137326032), (2509, 0.003345044341557014), (1289, 0.0033442068627974534), (2439, 0.003341938167900795), (1156, 0.0033415443987475407), (1341, 0.003340843262184585), (2913, 0.003338724513354133), (1427, 0.003336748711146087), (2018, 0.003320139115279937), (366, 0.0033195189245269247), (3875, 0.0033085234612557075), (4311, 0.003307063480351384), (156, 0.003306700913276222), (4744, 0.0032997699680945704), (506, 0.0032986503752577786), (2441, 0.0032961917873757162), (3575, 0.0032884699108223624), (3971, 0.0032826271660886474), (3410, 0.003275567601038504), (1646, 0.003275159311668216), (1453, 0.0032751276515875427), (1115, 0.0032707296819207286), (2925, 0.0032681903492398673), (510, 0.0032537094709270383), (1586, 0.003251989334773476), (2734, 0.003235250917171848), (2377, 0.0032312384962248546), (609, 0.0032296785896004814), (1320, 0.0031953511215819033), (2113, 0.0031853050837689703), (1040, 0.0031792371249789522), (926, 0.0031748041665268035), (1403, 0.0031274251260392867), (3626, 0.0031229208087667423), (369, 0.0031152566201641746), (4652, 0.0031113005345270615), (82, 0.0030889143239511757), (4182, 0.003088222234067385), (1277, 0.003043942277936371), (1362, 0.0030248836423882514), (2219, 0.0030040058939276994), (2064, 0.0029981722717946947), (2671, 0.0029897147103275464), (0, 0.002925241207659116), (1153, 0.0028539884577283856), (1919, 0.0028450349596932994), (3421, 0.002816110942066655), (1506, 0.0027875330910215775), (202, 0.0026709516607696863), (787, 0.0024898078702613163), (1, 0.0), (4, 0.0), (5, 0.0), (6, 0.0), (7, 0.0), (8, 0.0), (10, 0.0), (11, 0.0), (12, 0.0), (13, 0.0), (15, 0.0), (16, 0.0), (18, 0.0), (19, 0.0), (20, 0.0), (21, 0.0), (24, 0.0), (26, 0.0), (27, 0.0), (29, 0.0), (30, 0.0), (32, 0.0), (33, 0.0), (34, 0.0), (36, 0.0), (41, 0.0), (43, 0.0), (44, 0.0), (47, 0.0), (51, 0.0), (52, 0.0), (54, 0.0), (55, 0.0), (56, 0.0), (61, 0.0), (62, 0.0), (63, 0.0), (66, 0.0), (68, 0.0), (70, 0.0), (71, 0.0), (76, 0.0), (77, 0.0), (83, 0.0), (84, 0.0), (85, 0.0), (87, 0.0), (88, 0.0), (89, 0.0), (90, 0.0), (92, 0.0), (93, 0.0), (94, 0.0), (95, 0.0), (96, 0.0), (97, 0.0), (98, 0.0), (99, 0.0), (100, 0.0), (101, 0.0), (104, 0.0), (105, 0.0), (106, 0.0), (107, 0.0), (108, 0.0), (112, 0.0), (116, 0.0), (119, 0.0), (121, 0.0), (122, 0.0), (123, 0.0), (124, 0.0), (125, 0.0), (126, 0.0), (127, 0.0), (131, 0.0), (132, 0.0), (133, 0.0), (135, 0.0), (136, 0.0), (137, 0.0), (138, 0.0), (140, 0.0), (143, 0.0), (144, 0.0), (145, 0.0), (148, 0.0), (149, 0.0), (150, 0.0), (151, 0.0), (152, 0.0), (155, 0.0), (158, 0.0), (159, 0.0), (162, 0.0), (164, 0.0), (165, 0.0), (166, 0.0), (168, 0.0), (170, 0.0), (172, 0.0), (173, 0.0), (176, 0.0), (178, 0.0), (180, 0.0), (181, 0.0), (184, 0.0), (186, 0.0), (187, 0.0), (189, 0.0), (192, 0.0), (193, 0.0), (196, 0.0), (200, 0.0), (203, 0.0), (208, 0.0), (209, 0.0), (210, 0.0), (213, 0.0), (220, 0.0), (221, 0.0), (223, 0.0), (224, 0.0), (226, 0.0), (227, 0.0), (228, 0.0), (229, 0.0), (234, 0.0), (236, 0.0), (237, 0.0), (239, 0.0), (240, 0.0), (241, 0.0), (243, 0.0), (249, 0.0), (250, 0.0), (252, 0.0), (256, 0.0), (259, 0.0), (260, 0.0), (262, 0.0), (265, 0.0), (266, 0.0), (267, 0.0), (271, 0.0), (273, 0.0), (274, 0.0), (275, 0.0), (276, 0.0), (280, 0.0), (281, 0.0), (282, 0.0), (283, 0.0), (284, 0.0), (286, 0.0), (287, 0.0), (288, 0.0), (289, 0.0), (290, 0.0), (291, 0.0), (292, 0.0), (293, 0.0), (294, 0.0), (296, 0.0), (302, 0.0), (309, 0.0), (310, 0.0), (313, 0.0), (314, 0.0), (317, 0.0), (323, 0.0), (324, 0.0), (326, 0.0), (327, 0.0), (328, 0.0), (329, 0.0), (334, 0.0), (337, 0.0), (342, 0.0), (343, 0.0), (347, 0.0), (355, 0.0), (356, 0.0), (364, 0.0), (370, 0.0), (371, 0.0), (372, 0.0), (375, 0.0), (382, 0.0), (384, 0.0), (386, 0.0), (387, 0.0), (390, 0.0), (394, 0.0), (395, 0.0), (396, 0.0), (397, 0.0), (399, 0.0), (400, 0.0), (402, 0.0), (403, 0.0), (406, 0.0), (411, 0.0), (412, 0.0), (419, 0.0), (424, 0.0), (428, 0.0), (429, 0.0), (430, 0.0), (432, 0.0), (433, 0.0), (434, 0.0), (435, 0.0), (436, 0.0), (438, 0.0), (441, 0.0), (442, 0.0), (443, 0.0), (444, 0.0), (445, 0.0), (447, 0.0), (450, 0.0), (451, 0.0), (452, 0.0), (453, 0.0), (455, 0.0), (458, 0.0), (464, 0.0), (467, 0.0), (468, 0.0), (469, 0.0), (472, 0.0), (475, 0.0), (477, 0.0), (480, 0.0), (481, 0.0), (483, 0.0), (484, 0.0), (485, 0.0), (486, 0.0), (487, 0.0), (489, 0.0), (495, 0.0), (496, 0.0), (500, 0.0), (501, 0.0), (502, 0.0), (509, 0.0), (512, 0.0), (514, 0.0), (516, 0.0), (517, 0.0), (518, 0.0), (526, 0.0), (530, 0.0), (534, 0.0), (539, 0.0), (540, 0.0), (541, 0.0), (542, 0.0), (543, 0.0), (544, 0.0), (547, 0.0), (548, 0.0), (551, 0.0), (552, 0.0), (554, 0.0), (555, 0.0), (556, 0.0), (557, 0.0), (558, 0.0), (559, 0.0), (561, 0.0), (562, 0.0), (565, 0.0), (566, 0.0), (567, 0.0), (568, 0.0), (571, 0.0), (572, 0.0), (573, 0.0), (574, 0.0), (578, 0.0), (580, 0.0), (581, 0.0), (584, 0.0), (587, 0.0), (588, 0.0), (590, 0.0), (591, 0.0), (592, 0.0), (593, 0.0), (596, 0.0), (598, 0.0), (601, 0.0), (602, 0.0), (603, 0.0), (604, 0.0), (606, 0.0), (607, 0.0), (608, 0.0), (612, 0.0), (613, 0.0), (615, 0.0), (616, 0.0), (619, 0.0), (620, 0.0), (621, 0.0), (622, 0.0), (623, 0.0), (624, 0.0), (625, 0.0), (627, 0.0), (631, 0.0), (633, 0.0), (634, 0.0), (635, 0.0), (636, 0.0), (637, 0.0), (638, 0.0), (639, 0.0), (640, 0.0), (642, 0.0), (644, 0.0), (647, 0.0), (650, 0.0), (651, 0.0), (652, 0.0), (653, 0.0), (654, 0.0), (655, 0.0), (658, 0.0), (660, 0.0), (661, 0.0), (663, 0.0), (666, 0.0), (668, 0.0), (669, 0.0), (673, 0.0), (677, 0.0), (681, 0.0), (682, 0.0), (684, 0.0), (688, 0.0), (689, 0.0), (692, 0.0), (693, 0.0), (694, 0.0), (695, 0.0), (696, 0.0), (699, 0.0), (704, 0.0), (705, 0.0), (719, 0.0), (721, 0.0), (722, 0.0), (723, 0.0), (727, 0.0), (728, 0.0), (729, 0.0), (733, 0.0), (734, 0.0), (739, 0.0), (743, 0.0), (746, 0.0), (747, 0.0), (748, 0.0), (749, 0.0), (750, 0.0), (753, 0.0), (761, 0.0), (762, 0.0), (763, 0.0), (766, 0.0), (769, 0.0), (775, 0.0), (777, 0.0), (779, 0.0), (782, 0.0), (790, 0.0), (792, 0.0), (796, 0.0), (798, 0.0), (799, 0.0), (801, 0.0), (803, 0.0), (804, 0.0), (808, 0.0), (809, 0.0), (810, 0.0), (811, 0.0), (812, 0.0), (813, 0.0), (816, 0.0), (817, 0.0), (827, 0.0), (828, 0.0), (829, 0.0), (830, 0.0), (831, 0.0), (832, 0.0), (833, 0.0), (834, 0.0), (835, 0.0), (838, 0.0), (844, 0.0), (845, 0.0), (848, 0.0), (850, 0.0), (852, 0.0), (853, 0.0), (855, 0.0), (856, 0.0), (857, 0.0), (858, 0.0), (860, 0.0), (861, 0.0), (864, 0.0), (865, 0.0), (866, 0.0), (871, 0.0), (874, 0.0), (875, 0.0), (876, 0.0), (877, 0.0), (878, 0.0), (880, 0.0), (881, 0.0), (887, 0.0), (888, 0.0), (889, 0.0), (891, 0.0), (894, 0.0), (897, 0.0), (899, 0.0), (900, 0.0), (902, 0.0), (910, 0.0), (915, 0.0), (917, 0.0), (921, 0.0), (927, 0.0), (928, 0.0), (930, 0.0), (935, 0.0), (937, 0.0), (942, 0.0), (944, 0.0), (947, 0.0), (950, 0.0), (952, 0.0), (954, 0.0), (959, 0.0), (960, 0.0), (963, 0.0), (966, 0.0), (967, 0.0), (968, 0.0), (974, 0.0), (975, 0.0), (976, 0.0), (979, 0.0), (980, 0.0), (981, 0.0), (986, 0.0), (987, 0.0), (989, 0.0), (991, 0.0), (993, 0.0), (997, 0.0), (1000, 0.0), (1003, 0.0), (1004, 0.0), (1005, 0.0), (1012, 0.0), (1015, 0.0), (1017, 0.0), (1019, 0.0), (1023, 0.0), (1026, 0.0), (1030, 0.0), (1031, 0.0), (1032, 0.0), (1033, 0.0), (1034, 0.0), (1035, 0.0), (1037, 0.0), (1039, 0.0), (1041, 0.0), (1042, 0.0), (1043, 0.0), (1045, 0.0), (1046, 0.0), (1048, 0.0), (1050, 0.0), (1051, 0.0), (1052, 0.0), (1053, 0.0), (1056, 0.0), (1057, 0.0), (1058, 0.0), (1060, 0.0), (1065, 0.0), (1066, 0.0), (1069, 0.0), (1071, 0.0), (1072, 0.0), (1080, 0.0), (1081, 0.0), (1083, 0.0), (1087, 0.0), (1091, 0.0), (1092, 0.0), (1095, 0.0), (1096, 0.0), (1097, 0.0), (1098, 0.0), (1101, 0.0), (1102, 0.0), (1104, 0.0), (1107, 0.0), (1110, 0.0), (1111, 0.0), (1119, 0.0), (1122, 0.0), (1127, 0.0), (1129, 0.0), (1131, 0.0), (1132, 0.0), (1134, 0.0), (1135, 0.0), (1136, 0.0), (1137, 0.0), (1143, 0.0), (1145, 0.0), (1146, 0.0), (1147, 0.0), (1151, 0.0), (1154, 0.0), (1158, 0.0), (1159, 0.0), (1160, 0.0), (1164, 0.0), (1167, 0.0), (1172, 0.0), (1174, 0.0), (1176, 0.0), (1177, 0.0), (1181, 0.0), (1183, 0.0), (1184, 0.0), (1186, 0.0), (1188, 0.0), (1189, 0.0), (1191, 0.0), (1197, 0.0), (1202, 0.0), (1207, 0.0), (1209, 0.0), (1210, 0.0), (1215, 0.0), (1218, 0.0), (1219, 0.0), (1223, 0.0), (1226, 0.0), (1230, 0.0), (1233, 0.0), (1236, 0.0), (1237, 0.0), (1240, 0.0), (1241, 0.0), (1252, 0.0), (1255, 0.0), (1257, 0.0), (1258, 0.0), (1259, 0.0), (1262, 0.0), (1263, 0.0), (1264, 0.0), (1265, 0.0), (1269, 0.0), (1271, 0.0), (1272, 0.0), (1273, 0.0), (1276, 0.0), (1280, 0.0), (1281, 0.0), (1287, 0.0), (1290, 0.0), (1296, 0.0), (1301, 0.0), (1303, 0.0), (1305, 0.0), (1306, 0.0), (1316, 0.0), (1319, 0.0), (1324, 0.0), (1325, 0.0), (1332, 0.0), (1335, 0.0), (1338, 0.0), (1339, 0.0), (1343, 0.0), (1347, 0.0), (1349, 0.0), (1350, 0.0), (1351, 0.0), (1352, 0.0), (1357, 0.0), (1360, 0.0), (1365, 0.0), (1366, 0.0), (1369, 0.0), (1374, 0.0), (1377, 0.0), (1378, 0.0), (1380, 0.0), (1393, 0.0), (1399, 0.0), (1402, 0.0), (1404, 0.0), (1406, 0.0), (1407, 0.0), (1412, 0.0), (1413, 0.0), (1414, 0.0), (1415, 0.0), (1416, 0.0), (1417, 0.0), (1418, 0.0), (1421, 0.0), (1429, 0.0), (1430, 0.0), (1434, 0.0), (1435, 0.0), (1436, 0.0), (1438, 0.0), (1439, 0.0), (1440, 0.0), (1443, 0.0), (1448, 0.0), (1449, 0.0), (1452, 0.0), (1454, 0.0), (1455, 0.0), (1459, 0.0), (1462, 0.0), (1464, 0.0), (1471, 0.0), (1472, 0.0), (1475, 0.0), (1480, 0.0), (1481, 0.0), (1483, 0.0), (1493, 0.0), (1497, 0.0), (1499, 0.0), (1502, 0.0), (1503, 0.0), (1504, 0.0), (1511, 0.0), (1512, 0.0), (1515, 0.0), (1519, 0.0), (1527, 0.0), (1534, 0.0), (1536, 0.0), (1538, 0.0), (1540, 0.0), (1546, 0.0), (1548, 0.0), (1550, 0.0), (1551, 0.0), (1553, 0.0), (1556, 0.0), (1558, 0.0), (1559, 0.0), (1565, 0.0), (1566, 0.0), (1568, 0.0), (1570, 0.0), (1573, 0.0), (1576, 0.0), (1579, 0.0), (1584, 0.0), (1590, 0.0), (1591, 0.0), (1595, 0.0), (1603, 0.0), (1605, 0.0), (1617, 0.0), (1619, 0.0), (1622, 0.0), (1623, 0.0), (1624, 0.0), (1625, 0.0), (1627, 0.0), (1628, 0.0), (1632, 0.0), (1635, 0.0), (1636, 0.0), (1641, 0.0), (1643, 0.0), (1645, 0.0), (1648, 0.0), (1651, 0.0), (1653, 0.0), (1657, 0.0), (1659, 0.0), (1665, 0.0), (1667, 0.0), (1671, 0.0), (1675, 0.0), (1680, 0.0), (1682, 0.0), (1686, 0.0), (1687, 0.0), (1691, 0.0), (1692, 0.0), (1696, 0.0), (1699, 0.0), (1703, 0.0), (1705, 0.0), (1707, 0.0), (1710, 0.0), (1712, 0.0), (1716, 0.0), (1717, 0.0), (1723, 0.0), (1724, 0.0), (1728, 0.0), (1730, 0.0), (1736, 0.0), (1739, 0.0), (1742, 0.0), (1743, 0.0), (1747, 0.0), (1748, 0.0), (1749, 0.0), (1753, 0.0), (1756, 0.0), (1760, 0.0), (1763, 0.0), (1768, 0.0), (1770, 0.0), (1772, 0.0), (1773, 0.0), (1776, 0.0), (1779, 0.0), (1782, 0.0), (1789, 0.0), (1793, 0.0), (1795, 0.0), (1798, 0.0), (1801, 0.0), (1802, 0.0), (1805, 0.0), (1807, 0.0), (1808, 0.0), (1809, 0.0), (1812, 0.0), (1814, 0.0), (1815, 0.0), (1817, 0.0), (1823, 0.0), (1825, 0.0), (1826, 0.0), (1829, 0.0), (1831, 0.0), (1835, 0.0), (1838, 0.0), (1840, 0.0), (1845, 0.0), (1853, 0.0), (1859, 0.0), (1862, 0.0), (1864, 0.0), (1866, 0.0), (1869, 0.0), (1872, 0.0), (1874, 0.0), (1882, 0.0), (1884, 0.0), (1885, 0.0), (1886, 0.0), (1890, 0.0), (1892, 0.0), (1894, 0.0), (1896, 0.0), (1897, 0.0), (1901, 0.0), (1904, 0.0), (1910, 0.0), (1916, 0.0), (1918, 0.0), (1920, 0.0), (1921, 0.0), (1924, 0.0), (1925, 0.0), (1927, 0.0), (1930, 0.0), (1931, 0.0), (1933, 0.0), (1937, 0.0), (1940, 0.0), (1942, 0.0), (1945, 0.0), (1946, 0.0), (1948, 0.0), (1950, 0.0), (1952, 0.0), (1953, 0.0), (1960, 0.0), (1962, 0.0), (1964, 0.0), (1967, 0.0), (1968, 0.0), (1969, 0.0), (1970, 0.0), (1971, 0.0), (1972, 0.0), (1975, 0.0), (1983, 0.0), (1985, 0.0), (1989, 0.0), (1991, 0.0), (1993, 0.0), (1995, 0.0), (1996, 0.0), (1997, 0.0), (1998, 0.0), (2000, 0.0), (2010, 0.0), (2011, 0.0), (2013, 0.0), (2015, 0.0), (2016, 0.0), (2020, 0.0), (2023, 0.0), (2024, 0.0), (2029, 0.0), (2031, 0.0), (2035, 0.0), (2039, 0.0), (2044, 0.0), (2048, 0.0), (2051, 0.0), (2053, 0.0), (2054, 0.0), (2057, 0.0), (2067, 0.0), (2072, 0.0), (2073, 0.0), (2074, 0.0), (2075, 0.0), (2078, 0.0), (2080, 0.0), (2084, 0.0), (2085, 0.0), (2088, 0.0), (2089, 0.0), (2096, 0.0), (2102, 0.0), (2103, 0.0), (2104, 0.0), (2105, 0.0), (2109, 0.0), (2110, 0.0), (2112, 0.0), (2114, 0.0), (2118, 0.0), (2120, 0.0), (2121, 0.0), (2123, 0.0), (2126, 0.0), (2129, 0.0), (2132, 0.0), (2133, 0.0), (2136, 0.0), (2139, 0.0), (2144, 0.0), (2149, 0.0), (2152, 0.0), (2155, 0.0), (2159, 0.0), (2162, 0.0), (2163, 0.0), (2169, 0.0), (2172, 0.0), (2173, 0.0), (2174, 0.0), (2175, 0.0), (2177, 0.0), (2178, 0.0), (2180, 0.0), (2181, 0.0), (2184, 0.0), (2188, 0.0), (2189, 0.0), (2190, 0.0), (2191, 0.0), (2195, 0.0), (2197, 0.0), (2206, 0.0), (2212, 0.0), (2213, 0.0), (2214, 0.0), (2216, 0.0), (2220, 0.0), (2224, 0.0), (2226, 0.0), (2229, 0.0), (2230, 0.0), (2231, 0.0), (2232, 0.0), (2233, 0.0), (2235, 0.0), (2237, 0.0), (2238, 0.0), (2246, 0.0), (2252, 0.0), (2253, 0.0), (2255, 0.0), (2256, 0.0), (2266, 0.0), (2268, 0.0), (2273, 0.0), (2275, 0.0), (2276, 0.0), (2277, 0.0), (2279, 0.0), (2286, 0.0), (2287, 0.0), (2288, 0.0), (2289, 0.0), (2293, 0.0), (2299, 0.0), (2300, 0.0), (2310, 0.0), (2314, 0.0), (2317, 0.0), (2321, 0.0), (2323, 0.0), (2324, 0.0), (2326, 0.0), (2328, 0.0), (2334, 0.0), (2341, 0.0), (2343, 0.0), (2344, 0.0), (2345, 0.0), (2346, 0.0), (2347, 0.0), (2349, 0.0), (2350, 0.0), (2354, 0.0), (2355, 0.0), (2356, 0.0), (2361, 0.0), (2362, 0.0), (2369, 0.0), (2370, 0.0), (2374, 0.0), (2376, 0.0), (2378, 0.0), (2382, 0.0), (2383, 0.0), (2386, 0.0), (2392, 0.0), (2400, 0.0), (2405, 0.0), (2406, 0.0), (2407, 0.0), (2413, 0.0), (2415, 0.0), (2416, 0.0), (2417, 0.0), (2425, 0.0), (2427, 0.0), (2428, 0.0), (2429, 0.0), (2437, 0.0), (2438, 0.0), (2442, 0.0), (2453, 0.0), (2454, 0.0), (2457, 0.0), (2459, 0.0), (2469, 0.0), (2470, 0.0), (2475, 0.0), (2476, 0.0), (2477, 0.0), (2480, 0.0), (2482, 0.0), (2498, 0.0), (2501, 0.0), (2502, 0.0), (2503, 0.0), (2505, 0.0), (2506, 0.0), (2520, 0.0), (2524, 0.0), (2526, 0.0), (2527, 0.0), (2528, 0.0), (2533, 0.0), (2538, 0.0), (2540, 0.0), (2541, 0.0), (2544, 0.0), (2545, 0.0), (2547, 0.0), (2550, 0.0), (2552, 0.0), (2556, 0.0), (2560, 0.0), (2563, 0.0), (2565, 0.0), (2567, 0.0), (2571, 0.0), (2573, 0.0), (2576, 0.0), (2578, 0.0), (2580, 0.0), (2589, 0.0), (2596, 0.0), (2599, 0.0), (2602, 0.0), (2606, 0.0), (2607, 0.0), (2611, 0.0), (2613, 0.0), (2618, 0.0), (2622, 0.0), (2623, 0.0), (2627, 0.0), (2629, 0.0), (2630, 0.0), (2632, 0.0), (2638, 0.0), (2641, 0.0), (2645, 0.0), (2655, 0.0), (2658, 0.0), (2664, 0.0), (2670, 0.0), (2674, 0.0), (2680, 0.0), (2682, 0.0), (2683, 0.0), (2686, 0.0), (2692, 0.0), (2695, 0.0), (2697, 0.0), (2698, 0.0), (2700, 0.0), (2705, 0.0), (2707, 0.0), (2711, 0.0), (2713, 0.0), (2718, 0.0), (2724, 0.0), (2735, 0.0), (2736, 0.0), (2739, 0.0), (2740, 0.0), (2742, 0.0), (2749, 0.0), (2750, 0.0), (2753, 0.0), (2757, 0.0), (2759, 0.0), (2760, 0.0), (2761, 0.0), (2762, 0.0), (2768, 0.0), (2771, 0.0), (2773, 0.0), (2775, 0.0), (2777, 0.0), (2780, 0.0), (2783, 0.0), (2784, 0.0), (2785, 0.0), (2789, 0.0), (2793, 0.0), (2798, 0.0), (2800, 0.0), (2801, 0.0), (2802, 0.0), (2803, 0.0), (2808, 0.0), (2809, 0.0), (2815, 0.0), (2819, 0.0), (2826, 0.0), (2827, 0.0), (2828, 0.0), (2830, 0.0), (2840, 0.0), (2848, 0.0), (2849, 0.0), (2850, 0.0), (2853, 0.0), (2854, 0.0), (2859, 0.0), (2860, 0.0), (2861, 0.0), (2862, 0.0), (2863, 0.0), (2864, 0.0), (2865, 0.0), (2868, 0.0), (2870, 0.0), (2871, 0.0), (2878, 0.0), (2879, 0.0), (2881, 0.0), (2883, 0.0), (2886, 0.0), (2888, 0.0), (2889, 0.0), (2890, 0.0), (2892, 0.0), (2894, 0.0), (2898, 0.0), (2899, 0.0), (2900, 0.0), (2902, 0.0), (2903, 0.0), (2904, 0.0), (2905, 0.0), (2907, 0.0), (2910, 0.0), (2917, 0.0), (2919, 0.0), (2920, 0.0), (2921, 0.0), (2923, 0.0), (2929, 0.0), (2932, 0.0), (2934, 0.0), (2935, 0.0), (2936, 0.0), (2937, 0.0), (2942, 0.0), (2943, 0.0), (2944, 0.0), (2946, 0.0), (2947, 0.0), (2950, 0.0), (2955, 0.0), (2956, 0.0), (2957, 0.0), (2958, 0.0), (2959, 0.0), (2960, 0.0), (2961, 0.0), (2963, 0.0), (2965, 0.0), (2966, 0.0), (2967, 0.0), (2969, 0.0), (2974, 0.0), (2975, 0.0), (2977, 0.0), (2981, 0.0), (2984, 0.0), (2987, 0.0), (2988, 0.0), (2989, 0.0), (2991, 0.0), (2993, 0.0), (2995, 0.0), (2997, 0.0), (3001, 0.0), (3002, 0.0), (3004, 0.0), (3005, 0.0), (3006, 0.0), (3007, 0.0), (3010, 0.0), (3011, 0.0), (3012, 0.0), (3013, 0.0), (3014, 0.0), (3015, 0.0), (3019, 0.0), (3022, 0.0), (3023, 0.0), (3024, 0.0), (3025, 0.0), (3028, 0.0), (3029, 0.0), (3030, 0.0), (3032, 0.0), (3035, 0.0), (3036, 0.0), (3043, 0.0), (3045, 0.0), (3053, 0.0), (3055, 0.0), (3057, 0.0), (3059, 0.0), (3064, 0.0), (3065, 0.0), (3067, 0.0), (3068, 0.0), (3075, 0.0), (3076, 0.0), (3079, 0.0), (3085, 0.0), (3092, 0.0), (3093, 0.0), (3094, 0.0), (3095, 0.0), (3099, 0.0), (3100, 0.0), (3101, 0.0), (3103, 0.0), (3107, 0.0), (3110, 0.0), (3114, 0.0), (3118, 0.0), (3119, 0.0), (3122, 0.0), (3124, 0.0), (3125, 0.0), (3126, 0.0), (3128, 0.0), (3129, 0.0), (3130, 0.0), (3131, 0.0), (3132, 0.0), (3133, 0.0), (3134, 0.0), (3135, 0.0), (3145, 0.0), (3148, 0.0), (3152, 0.0), (3153, 0.0), (3154, 0.0), (3156, 0.0), (3157, 0.0), (3158, 0.0), (3160, 0.0), (3161, 0.0), (3163, 0.0), (3165, 0.0), (3167, 0.0), (3170, 0.0), (3171, 0.0), (3173, 0.0), (3174, 0.0), (3176, 0.0), (3179, 0.0), (3185, 0.0), (3191, 0.0), (3195, 0.0), (3196, 0.0), (3199, 0.0), (3200, 0.0), (3201, 0.0), (3210, 0.0), (3213, 0.0), (3215, 0.0), (3222, 0.0), (3223, 0.0), (3225, 0.0), (3226, 0.0), (3227, 0.0), (3228, 0.0), (3233, 0.0), (3235, 0.0), (3237, 0.0), (3240, 0.0), (3241, 0.0), (3242, 0.0), (3243, 0.0), (3247, 0.0), (3248, 0.0), (3251, 0.0), (3252, 0.0), (3254, 0.0), (3255, 0.0), (3261, 0.0), (3263, 0.0), (3268, 0.0), (3269, 0.0), (3273, 0.0), (3274, 0.0), (3278, 0.0), (3279, 0.0), (3280, 0.0), (3281, 0.0), (3284, 0.0), (3285, 0.0), (3292, 0.0), (3293, 0.0), (3296, 0.0), (3298, 0.0), (3299, 0.0), (3301, 0.0), (3305, 0.0), (3306, 0.0), (3312, 0.0), (3317, 0.0), (3318, 0.0), (3322, 0.0), (3325, 0.0), (3326, 0.0), (3328, 0.0), (3333, 0.0), (3334, 0.0), (3336, 0.0), (3339, 0.0), (3344, 0.0), (3345, 0.0), (3346, 0.0), (3347, 0.0), (3353, 0.0), (3354, 0.0), (3355, 0.0), (3356, 0.0), (3358, 0.0), (3359, 0.0), (3361, 0.0), (3362, 0.0), (3363, 0.0), (3365, 0.0), (3367, 0.0), (3368, 0.0), (3369, 0.0), (3372, 0.0), (3376, 0.0), (3377, 0.0), (3380, 0.0), (3381, 0.0), (3384, 0.0), (3385, 0.0), (3387, 0.0), (3394, 0.0), (3396, 0.0), (3399, 0.0), (3403, 0.0), (3404, 0.0), (3405, 0.0), (3407, 0.0), (3409, 0.0), (3412, 0.0), (3414, 0.0), (3419, 0.0), (3420, 0.0), (3423, 0.0), (3425, 0.0), (3431, 0.0), (3432, 0.0), (3433, 0.0), (3434, 0.0), (3435, 0.0), (3437, 0.0), (3438, 0.0), (3441, 0.0), (3445, 0.0), (3448, 0.0), (3450, 0.0), (3451, 0.0), (3452, 0.0), (3453, 0.0), (3454, 0.0), (3455, 0.0), (3456, 0.0), (3458, 0.0), (3463, 0.0), (3465, 0.0), (3466, 0.0), (3467, 0.0), (3468, 0.0), (3471, 0.0), (3474, 0.0), (3478, 0.0), (3480, 0.0), (3483, 0.0), (3486, 0.0), (3487, 0.0), (3488, 0.0), (3491, 0.0), (3492, 0.0), (3495, 0.0), (3497, 0.0), (3499, 0.0), (3502, 0.0), (3506, 0.0), (3507, 0.0), (3511, 0.0), (3516, 0.0), (3520, 0.0), (3521, 0.0), (3523, 0.0), (3525, 0.0), (3527, 0.0), (3532, 0.0), (3534, 0.0), (3535, 0.0), (3542, 0.0), (3546, 0.0), (3547, 0.0), (3548, 0.0), (3551, 0.0), (3553, 0.0), (3555, 0.0), (3556, 0.0), (3558, 0.0), (3564, 0.0), (3566, 0.0), (3567, 0.0), (3569, 0.0), (3573, 0.0), (3576, 0.0), (3578, 0.0), (3583, 0.0), (3586, 0.0), (3587, 0.0), (3588, 0.0), (3590, 0.0), (3594, 0.0), (3596, 0.0), (3597, 0.0), (3600, 0.0), (3602, 0.0), (3605, 0.0), (3608, 0.0), (3609, 0.0), (3611, 0.0), (3614, 0.0), (3615, 0.0), (3617, 0.0), (3618, 0.0), (3619, 0.0), (3624, 0.0), (3625, 0.0), (3627, 0.0), (3629, 0.0), (3635, 0.0), (3636, 0.0), (3637, 0.0), (3639, 0.0), (3645, 0.0), (3647, 0.0), (3651, 0.0), (3654, 0.0), (3655, 0.0), (3657, 0.0), (3660, 0.0), (3661, 0.0), (3663, 0.0), (3664, 0.0), (3668, 0.0), (3669, 0.0), (3670, 0.0), (3672, 0.0), (3675, 0.0), (3677, 0.0), (3679, 0.0), (3687, 0.0), (3689, 0.0), (3690, 0.0), (3691, 0.0), (3692, 0.0), (3697, 0.0), (3698, 0.0), (3699, 0.0), (3700, 0.0), (3702, 0.0), (3703, 0.0), (3705, 0.0), (3706, 0.0), (3707, 0.0), (3708, 0.0), (3709, 0.0), (3710, 0.0), (3713, 0.0), (3717, 0.0), (3718, 0.0), (3719, 0.0), (3720, 0.0), (3723, 0.0), (3724, 0.0), (3725, 0.0), (3729, 0.0), (3731, 0.0), (3737, 0.0), (3742, 0.0), (3743, 0.0), (3744, 0.0), (3745, 0.0), (3747, 0.0), (3750, 0.0), (3756, 0.0), (3757, 0.0), (3760, 0.0), (3761, 0.0), (3762, 0.0), (3768, 0.0), (3769, 0.0), (3771, 0.0), (3773, 0.0), (3774, 0.0), (3775, 0.0), (3776, 0.0), (3777, 0.0), (3778, 0.0), (3779, 0.0), (3782, 0.0), (3786, 0.0), (3787, 0.0), (3788, 0.0), (3794, 0.0), (3795, 0.0), (3797, 0.0), (3798, 0.0), (3799, 0.0), (3801, 0.0), (3804, 0.0), (3806, 0.0), (3809, 0.0), (3810, 0.0), (3814, 0.0), (3815, 0.0), (3819, 0.0), (3821, 0.0), (3823, 0.0), (3825, 0.0), (3827, 0.0), (3828, 0.0), (3829, 0.0), (3830, 0.0), (3831, 0.0), (3833, 0.0), (3834, 0.0), (3838, 0.0), (3840, 0.0), (3848, 0.0), (3849, 0.0), (3852, 0.0), (3854, 0.0), (3857, 0.0), (3860, 0.0), (3862, 0.0), (3863, 0.0), (3867, 0.0), (3869, 0.0), (3872, 0.0), (3873, 0.0), (3874, 0.0), (3876, 0.0), (3877, 0.0), (3881, 0.0), (3884, 0.0), (3887, 0.0), (3891, 0.0), (3898, 0.0), (3899, 0.0), (3900, 0.0), (3901, 0.0), (3902, 0.0), (3903, 0.0), (3904, 0.0), (3906, 0.0), (3907, 0.0), (3908, 0.0), (3917, 0.0), (3918, 0.0), (3920, 0.0), (3924, 0.0), (3925, 0.0), (3927, 0.0), (3928, 0.0), (3929, 0.0), (3932, 0.0), (3937, 0.0), (3939, 0.0), (3940, 0.0), (3942, 0.0), (3944, 0.0), (3945, 0.0), (3946, 0.0), (3947, 0.0), (3951, 0.0), (3953, 0.0), (3954, 0.0), (3956, 0.0), (3957, 0.0), (3958, 0.0), (3959, 0.0), (3960, 0.0), (3961, 0.0), (3966, 0.0), (3968, 0.0), (3970, 0.0), (3975, 0.0), (3976, 0.0), (3977, 0.0), (3978, 0.0), (3979, 0.0), (3981, 0.0), (3982, 0.0), (3983, 0.0), (3985, 0.0), (3986, 0.0), (3987, 0.0), (3993, 0.0), (3995, 0.0), (3997, 0.0), (3999, 0.0), (4000, 0.0), (4002, 0.0), (4004, 0.0), (4005, 0.0), (4006, 0.0), (4011, 0.0), (4014, 0.0), (4019, 0.0), (4022, 0.0), (4024, 0.0), (4030, 0.0), (4032, 0.0), (4033, 0.0), (4038, 0.0), (4039, 0.0), (4043, 0.0), (4044, 0.0), (4045, 0.0), (4046, 0.0), (4047, 0.0), (4048, 0.0), (4050, 0.0), (4055, 0.0), (4056, 0.0), (4057, 0.0), (4059, 0.0), (4060, 0.0), (4063, 0.0), (4065, 0.0), (4068, 0.0), (4069, 0.0), (4072, 0.0), (4074, 0.0), (4075, 0.0), (4076, 0.0), (4077, 0.0), (4078, 0.0), (4079, 0.0), (4080, 0.0), (4081, 0.0), (4082, 0.0), (4085, 0.0), (4088, 0.0), (4089, 0.0), (4090, 0.0), (4095, 0.0), (4096, 0.0), (4098, 0.0), (4100, 0.0), (4101, 0.0), (4103, 0.0), (4107, 0.0), (4110, 0.0), (4116, 0.0), (4120, 0.0), (4122, 0.0), (4123, 0.0), (4124, 0.0), (4126, 0.0), (4128, 0.0), (4129, 0.0), (4133, 0.0), (4134, 0.0), (4139, 0.0), (4141, 0.0), (4142, 0.0), (4145, 0.0), (4148, 0.0), (4150, 0.0), (4151, 0.0), (4152, 0.0), (4154, 0.0), (4155, 0.0), (4158, 0.0), (4161, 0.0), (4162, 0.0), (4163, 0.0), (4164, 0.0), (4167, 0.0), (4169, 0.0), (4170, 0.0), (4171, 0.0), (4172, 0.0), (4175, 0.0), (4176, 0.0), (4178, 0.0), (4179, 0.0), (4181, 0.0), (4187, 0.0), (4188, 0.0), (4189, 0.0), (4193, 0.0), (4201, 0.0), (4202, 0.0), (4205, 0.0), (4208, 0.0), (4211, 0.0), (4212, 0.0), (4215, 0.0), (4216, 0.0), (4219, 0.0), (4220, 0.0), (4225, 0.0), (4227, 0.0), (4228, 0.0), (4229, 0.0), (4230, 0.0), (4231, 0.0), (4232, 0.0), (4235, 0.0), (4236, 0.0), (4238, 0.0), (4240, 0.0), (4241, 0.0), (4243, 0.0), (4244, 0.0), (4247, 0.0), (4249, 0.0), (4251, 0.0), (4255, 0.0), (4261, 0.0), (4262, 0.0), (4264, 0.0), (4267, 0.0), (4269, 0.0), (4271, 0.0), (4273, 0.0), (4275, 0.0), (4276, 0.0), (4279, 0.0), (4280, 0.0), (4281, 0.0), (4282, 0.0), (4283, 0.0), (4284, 0.0), (4288, 0.0), (4289, 0.0), (4290, 0.0), (4294, 0.0), (4296, 0.0), (4299, 0.0), (4301, 0.0), (4302, 0.0), (4306, 0.0), (4307, 0.0), (4309, 0.0), (4310, 0.0), (4312, 0.0), (4318, 0.0), (4320, 0.0), (4326, 0.0), (4328, 0.0), (4331, 0.0), (4333, 0.0), (4334, 0.0), (4336, 0.0), (4337, 0.0), (4339, 0.0), (4343, 0.0), (4345, 0.0), (4349, 0.0), (4350, 0.0), (4352, 0.0), (4354, 0.0), (4355, 0.0), (4359, 0.0), (4360, 0.0), (4361, 0.0), (4362, 0.0), (4363, 0.0), (4365, 0.0), (4373, 0.0), (4374, 0.0), (4377, 0.0), (4379, 0.0), (4381, 0.0), (4383, 0.0), (4384, 0.0), (4385, 0.0), (4386, 0.0), (4387, 0.0), (4389, 0.0), (4390, 0.0), (4391, 0.0), (4393, 0.0), (4399, 0.0), (4400, 0.0), (4401, 0.0), (4402, 0.0), (4407, 0.0), (4409, 0.0), (4410, 0.0), (4411, 0.0), (4412, 0.0), (4415, 0.0), (4416, 0.0), (4417, 0.0), (4418, 0.0), (4419, 0.0), (4424, 0.0), (4425, 0.0), (4429, 0.0), (4430, 0.0), (4431, 0.0), (4432, 0.0), (4435, 0.0), (4436, 0.0), (4439, 0.0), (4445, 0.0), (4449, 0.0), (4450, 0.0), (4456, 0.0), (4458, 0.0), (4461, 0.0), (4462, 0.0), (4465, 0.0), (4468, 0.0), (4469, 0.0), (4470, 0.0), (4471, 0.0), (4472, 0.0), (4474, 0.0), (4475, 0.0), (4476, 0.0), (4477, 0.0), (4481, 0.0), (4485, 0.0), (4487, 0.0), (4488, 0.0), (4490, 0.0), (4491, 0.0), (4494, 0.0), (4495, 0.0), (4497, 0.0), (4499, 0.0), (4502, 0.0), (4503, 0.0), (4504, 0.0), (4505, 0.0), (4508, 0.0), (4509, 0.0), (4510, 0.0), (4511, 0.0), (4512, 0.0), (4513, 0.0), (4517, 0.0), (4520, 0.0), (4521, 0.0), (4523, 0.0), (4524, 0.0), (4527, 0.0), (4528, 0.0), (4529, 0.0), (4532, 0.0), (4534, 0.0), (4535, 0.0), (4536, 0.0), (4538, 0.0), (4539, 0.0), (4540, 0.0), (4541, 0.0), (4543, 0.0), (4546, 0.0), (4547, 0.0), (4548, 0.0), (4550, 0.0), (4553, 0.0), (4561, 0.0), (4565, 0.0), (4566, 0.0), (4568, 0.0), (4572, 0.0), (4573, 0.0), (4575, 0.0), (4578, 0.0), (4579, 0.0), (4581, 0.0), (4582, 0.0), (4583, 0.0), (4585, 0.0), (4588, 0.0), (4591, 0.0), (4593, 0.0), (4594, 0.0), (4595, 0.0), (4597, 0.0), (4601, 0.0), (4602, 0.0), (4606, 0.0), (4607, 0.0), (4611, 0.0), (4614, 0.0), (4615, 0.0), (4616, 0.0), (4617, 0.0), (4618, 0.0), (4619, 0.0), (4620, 0.0), (4623, 0.0), (4625, 0.0), (4629, 0.0), (4634, 0.0), (4635, 0.0), (4637, 0.0), (4638, 0.0), (4641, 0.0), (4642, 0.0), (4644, 0.0), (4645, 0.0), (4651, 0.0), (4653, 0.0), (4654, 0.0), (4656, 0.0), (4660, 0.0), (4661, 0.0), (4663, 0.0), (4664, 0.0), (4665, 0.0), (4666, 0.0), (4668, 0.0), (4669, 0.0), (4671, 0.0), (4672, 0.0), (4674, 0.0), (4680, 0.0), (4681, 0.0), (4682, 0.0), (4683, 0.0), (4684, 0.0), (4685, 0.0), (4689, 0.0), (4691, 0.0), (4692, 0.0), (4693, 0.0), (4694, 0.0), (4695, 0.0), (4696, 0.0), (4697, 0.0), (4698, 0.0), (4699, 0.0), (4701, 0.0), (4704, 0.0), (4705, 0.0), (4707, 0.0), (4709, 0.0), (4712, 0.0), (4713, 0.0), (4715, 0.0), (4716, 0.0), (4722, 0.0), (4723, 0.0), (4724, 0.0), (4727, 0.0), (4728, 0.0), (4729, 0.0), (4731, 0.0), (4732, 0.0), (4733, 0.0), (4735, 0.0), (4739, 0.0), (4741, 0.0), (4742, 0.0), (4743, 0.0), (4745, 0.0), (4747, 0.0), (4750, 0.0), (4751, 0.0), (4753, 0.0), (4755, 0.0), (4757, 0.0), (4759, 0.0)]\n"
          ]
        }
      ]
    },
    {
      "cell_type": "code",
      "source": [
        "# print the name of similar movies based on the index\n",
        "\n",
        "print('Top 30 Movies Suggested for you: \\n')\n",
        "\n",
        "i = 1\n",
        "\n",
        "for movie in Sorted_Similar_Movies:\n",
        "  index = movie[0]\n",
        "  title_from_index = df[df.index == index]['Movie_Title'].values[0]\n",
        "  if (i<31):\n",
        "    print(i, '.',title_from_index)\n",
        "    i+=1"
      ],
      "metadata": {
        "colab": {
          "base_uri": "https://localhost:8080/"
        },
        "id": "Z6GUZHQgY1J6",
        "outputId": "ebcdce55-b7bb-4efa-c01f-30dd6af24a14"
      },
      "execution_count": 69,
      "outputs": [
        {
          "output_type": "stream",
          "name": "stdout",
          "text": [
            "Top 30 Movies Suggested for you: \n",
            "\n",
            "1 . Monsters, Inc.\n",
            "2 . Monsters University\n",
            "3 . Digimon: The Movie\n",
            "4 . Who Killed the Electric Car?\n",
            "5 . Epic Movie\n",
            "6 . Chain Reaction\n",
            "7 . Monster House\n",
            "8 . Small Apartments\n",
            "9 . Trees Lounge\n",
            "10 . Back to the Future Part II\n",
            "11 . Why Did I Get Married?\n",
            "12 . Home for the Holidays\n",
            "13 . Transformers: Dark of the Moon\n",
            "14 . The Incredible Burt Wonderstone\n",
            "15 . The Original Kings of Comedy\n",
            "16 . Up Close & Personal\n",
            "17 . Tiger Orange\n",
            "18 . The Big Lebowski\n",
            "19 . Love the Coopers\n",
            "20 . The Happening\n",
            "21 . Hotel Transylvania 2\n",
            "22 . Mystery Men\n",
            "23 . Romance & Cigarettes\n",
            "24 . Proud\n",
            "25 . Hotel Transylvania\n",
            "26 . Did You Hear About the Morgans?\n",
            "27 . The Way Way Back\n",
            "28 . Mystic River\n",
            "29 . Lonesome Jim\n",
            "30 . Despicable Me\n"
          ]
        }
      ]
    },
    {
      "cell_type": "code",
      "source": [
        "Movie_Name = input('Enter your favourite movie name: ')\n",
        "\n",
        "list_of_all_titles = df['Movie_Title'].tolist()\n",
        "\n",
        "Find_Close_Match = difflib.get_close_matches(Movie_Name, list_of_all_titles)\n",
        "\n",
        "Close_Match = Find_Close_Match[0]\n",
        "\n",
        "Index_of_Movie = df[df.Movie_Title == Close_Match]['Movie_ID'].values[0]\n",
        "\n",
        "Recommendation_Score = list(enumerate(Similarity_Score[Index_of_Movie]))\n",
        "\n",
        "sorted_similar_movies = sorted(Recommendation_Score, key = lambda x:x[1], reverse = True)\n",
        "\n",
        "print('Top 30 Movies Suggested for you: \\n')\n",
        "\n",
        "i = 1\n",
        "\n",
        "for movie in sorted_similar_movies:\n",
        "  index = movie[0]\n",
        "  title_from_index = df[df.Movie_ID == index]['Movie_Title'].values\n",
        "  if (i<11):\n",
        "    print(i, '.',title_from_index)\n",
        "    i+=1"
      ],
      "metadata": {
        "colab": {
          "base_uri": "https://localhost:8080/"
        },
        "id": "Heh9bD3kZtBQ",
        "outputId": "97291653-526a-45c7-8821-797cc7e3f6ec"
      },
      "execution_count": 77,
      "outputs": [
        {
          "output_type": "stream",
          "name": "stdout",
          "text": [
            "Enter your favourite movie name: Fast and Furious\n",
            "Top 30 Movies Suggested for you: \n",
            "\n",
            "1 . ['2 Fast 2 Furious']\n",
            "2 . ['Brave']\n",
            "3 . ['Rockaway']\n",
            "4 . ['Texas Rangers']\n",
            "5 . ['Cellular']\n",
            "6 . ['My Stepmother is an Alien']\n",
            "7 . ['Phenomenon']\n",
            "8 . ['The Raid']\n",
            "9 . ['55 Days at Peking']\n",
            "10 . [\"Ocean's Twelve\"]\n"
          ]
        }
      ]
    },
    {
      "cell_type": "code",
      "source": [],
      "metadata": {
        "id": "xllpa__bjZs3"
      },
      "execution_count": null,
      "outputs": []
    }
  ]
}